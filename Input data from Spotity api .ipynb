{
 "cells": [
  {
   "cell_type": "code",
   "execution_count": 8,
   "id": "d209f050",
   "metadata": {},
   "outputs": [],
   "source": [
    "# Import the libraries\n",
    "import os\n",
    "import pandas as pd\n",
    "import numpy as np\n",
    "import json\n",
    "import matplotlib.pyplot as plt\n",
    "import seaborn as sns\n",
    "%config InlineBackend.figure_format ='retina'\n",
    "import spotipy\n",
    "import spotipy.util as util\n",
    "from spotipy.oauth2 import SpotifyClientCredentials"
   ]
  },
  {
   "cell_type": "code",
   "execution_count": 9,
   "id": "35311722",
   "metadata": {},
   "outputs": [],
   "source": [
    "# Declare the credentials\n",
    "client_id = 'a76bfd98001a4aff8bd958ea948403e1'\n",
    "client_secret = '2545a1f2c3864049a42ff28637c3db70'\n",
    "redirect_uri='http://localhost:7777/callback'\n",
    "username = 'ethan.falcao'"
   ]
  },
  {
   "cell_type": "code",
   "execution_count": 11,
   "id": "dbcd9f4d",
   "metadata": {},
   "outputs": [
    {
     "name": "stdout",
     "output_type": "stream",
     "text": [
      "Token: BQBQ_eSL2OBI1301cfkyB73kWe3FOOvm2U-unKnkyle57u1eYaUkwd9eO4MY0xUFo29E6XOmcoO9Xsbka1DdaKE_2uww3ZndrszN-6j6OWekd-MDJ3Q\n"
     ]
    }
   ],
   "source": [
    "import requests\n",
    "import base64\n",
    "\n",
    "# Define the authentication options\n",
    "auth_url = 'https://accounts.spotify.com/api/token'\n",
    "auth_headers = {\n",
    "    'Authorization': 'Basic ' + base64.b64encode(f'{client_id}:{client_secret}'.encode()).decode()\n",
    "}\n",
    "auth_data = {\n",
    "    'grant_type': 'client_credentials'\n",
    "}\n",
    "# Make the POST request\n",
    "response = requests.post(auth_url, headers=auth_headers, data=auth_data)\n",
    "\n",
    "if response.status_code == 200:\n",
    "    token = response.json().get('access_token')\n",
    "    print(f'Token: {token}')\n",
    "else:\n",
    "    print(f'Error: {response.status_code} - {response.text}')\n"
   ]
  },
  {
   "cell_type": "code",
   "execution_count": 12,
   "id": "c5b06b02",
   "metadata": {},
   "outputs": [],
   "source": [
    "# Getting features for each song\n",
    "def fetch_audio_features(sp, df):\n",
    "    playlist = df[['track_id','track_name']] \n",
    "    index = 0\n",
    "    audio_features = []\n",
    "    \n",
    "    # Make the API request\n",
    "    while index < playlist.shape[0]:\n",
    "        audio_features += sp.audio_features(playlist.iloc[index:index + 50, 0])\n",
    "        index += 50\n",
    "    \n",
    "    # Create an empty list to feed in different charactieritcs of the tracks\n",
    "    features_list = []\n",
    "    #Create keys-values of empty lists inside nested dictionary for album\n",
    "    for features in audio_features:\n",
    "        features_list.append([features['danceability'],\n",
    "                              features['acousticness'],\n",
    "                              features['energy'], \n",
    "                              features['tempo'],\n",
    "                              features['instrumentalness'], \n",
    "                              features['loudness'],\n",
    "                              features['liveness'],\n",
    "                              features['duration_ms'],\n",
    "                              features['key'],\n",
    "                              features['valence'],\n",
    "                              features['speechiness'],\n",
    "                              features['mode']\n",
    "                             ])\n",
    "    \n",
    "    df_audio_features = pd.DataFrame(features_list, columns=['danceability', 'acousticness', 'energy','tempo', \n",
    "                                                             'instrumentalness', 'loudness', 'liveness','duration_ms', 'key',\n",
    "                                                             'valence', 'speechiness', 'mode'])\n",
    "    \n",
    "    # Create the final df, using the 'track_id' as index for future reference\n",
    "    df_playlist_audio_features = pd.concat([playlist, df_audio_features], axis=1)\n",
    "    df_playlist_audio_features.set_index('track_name', inplace=True, drop=True)\n",
    "    return df_playlist_audio_features"
   ]
  },
  {
   "cell_type": "code",
   "execution_count": 13,
   "id": "a0241164",
   "metadata": {},
   "outputs": [
    {
     "ename": "NameError",
     "evalue": "name 'sp' is not defined",
     "output_type": "error",
     "traceback": [
      "\u001b[1;31m---------------------------------------------------------------------------\u001b[0m",
      "\u001b[1;31mNameError\u001b[0m                                 Traceback (most recent call last)",
      "\u001b[1;32mc:\\Users\\ethan\\Documents\\Spotify_recommendations\\github\\Spotify_Reccommendation_Algorithm\\Input data from Spotity api .ipynb Cell 5\u001b[0m line \u001b[0;36m2\n\u001b[0;32m      <a href='vscode-notebook-cell:/c%3A/Users/ethan/Documents/Spotify_recommendations/github/Spotify_Reccommendation_Algorithm/Input%20data%20from%20Spotity%20api%20.ipynb#W4sZmlsZQ%3D%3D?line=0'>1</a>\u001b[0m \u001b[39m# Getting playlist IDs from each of Spotify's playlists\u001b[39;00m\n\u001b[1;32m----> <a href='vscode-notebook-cell:/c%3A/Users/ethan/Documents/Spotify_recommendations/github/Spotify_Reccommendation_Algorithm/Input%20data%20from%20Spotity%20api%20.ipynb#W4sZmlsZQ%3D%3D?line=1'>2</a>\u001b[0m playlists \u001b[39m=\u001b[39m sp\u001b[39m.\u001b[39muser_playlists(\u001b[39m'\u001b[39m\u001b[39mspotify\u001b[39m\u001b[39m'\u001b[39m)\n\u001b[0;32m      <a href='vscode-notebook-cell:/c%3A/Users/ethan/Documents/Spotify_recommendations/github/Spotify_Reccommendation_Algorithm/Input%20data%20from%20Spotity%20api%20.ipynb#W4sZmlsZQ%3D%3D?line=2'>3</a>\u001b[0m spotify_playlist_ids \u001b[39m=\u001b[39m []\n\u001b[0;32m      <a href='vscode-notebook-cell:/c%3A/Users/ethan/Documents/Spotify_recommendations/github/Spotify_Reccommendation_Algorithm/Input%20data%20from%20Spotity%20api%20.ipynb#W4sZmlsZQ%3D%3D?line=3'>4</a>\u001b[0m \u001b[39mwhile\u001b[39;00m playlists:\n",
      "\u001b[1;31mNameError\u001b[0m: name 'sp' is not defined"
     ]
    }
   ],
   "source": [
    " # Getting playlist IDs from each of Spotify's playlists\n",
    " playlists = sp.user_playlists('spotify')\n",
    " spotify_playlist_ids = []\n",
    " while playlists:\n",
    "     for i, playlist in enumerate(playlists['items']):\n",
    "         spotify_playlist_ids.append(playlist['uri'][-22:])\n",
    "     if playlists['next']:\n",
    "         playlists = sp.next(playlists)\n",
    "     else:\n",
    "         playlists = None\n",
    " spotify_playlist_ids[:20]"
   ]
  },
  {
   "cell_type": "markdown",
   "id": "da03763f",
   "metadata": {},
   "source": [
    "# Fetch the top-50 songs of the user\n",
    "if token:\n",
    "    sp = spotipy.Spotify(auth=token)\n",
    "    results = sp.current_user_top_tracks(limit=50,offset=0,time_range='medium_term')\n",
    "    for song in range(50):\n",
    "        list = []\n",
    "        list.append(results)\n",
    "        with open('top50_data.json', 'w', encoding='utf-8') as f:\n",
    "            json.dump(list, f, ensure_ascii=False, indent=4)\n",
    "else:\n",
    "    print(\"Can't get token for\", username)"
   ]
  },
  {
   "cell_type": "code",
   "execution_count": 11,
   "id": "3a3f612b",
   "metadata": {},
   "outputs": [],
   "source": [
    "# Creating a function to get the first 50 tracks IDs from a playlist\n",
    "def getTrackIDs(playlist_id):\n",
    "    playlist = sp.user_playlist('spotify', playlist_id)\n",
    "    for item in playlist['tracks']['items'][:50]:\n",
    "        track = item['track']\n",
    "        ids.append(track['id'])\n",
    "    return"
   ]
  },
  {
   "cell_type": "code",
   "execution_count": 12,
   "id": "6f9a3881",
   "metadata": {},
   "outputs": [],
   "source": [
    "# Creating a function get features of each track from track id\n",
    "def getTrackFeatures(track_id):\n",
    "  meta = sp.track(track_id)\n",
    "  features = sp.audio_features(track_id)\n",
    "\n",
    "  # meta\n",
    "  track_id = track_id\n",
    "  name = meta['name']\n",
    "  album = meta['album']['name']\n",
    "  artist = meta['album']['artists'][0]['name']\n",
    "  release_date = meta['album']['release_date']\n",
    "  length = meta['duration_ms']\n",
    "  popularity = meta['popularity']\n",
    "\n",
    "  # features\n",
    "  acousticness = features[0]['acousticness']\n",
    "  danceability = features[0]['danceability']\n",
    "  energy = features[0]['energy']\n",
    "  instrumentalness = features[0]['instrumentalness']\n",
    "  liveness = features[0]['liveness']\n",
    "  loudness = features[0]['loudness']\n",
    "  speechiness = features[0]['speechiness']\n",
    "  tempo = features[0]['tempo']\n",
    "  time_signature = features[0]['time_signature']\n",
    "\n",
    "  track = [track_id, name, album, artist, release_date, length, popularity, danceability, acousticness, energy, instrumentalness, liveness, loudness, speechiness, tempo, time_signature]\n",
    "  return track"
   ]
  },
  {
   "cell_type": "code",
   "execution_count": 13,
   "id": "62b90fa5",
   "metadata": {},
   "outputs": [
    {
     "ename": "TypeError",
     "evalue": "'NoneType' object is not subscriptable",
     "output_type": "error",
     "traceback": [
      "\u001b[1;31m---------------------------------------------------------------------------\u001b[0m",
      "\u001b[1;31mTypeError\u001b[0m                                 Traceback (most recent call last)",
      "\u001b[1;32m<timed exec>\u001b[0m in \u001b[0;36m<module>\u001b[1;34m\u001b[0m\n",
      "\u001b[1;32m~\\AppData\\Local\\Temp\\ipykernel_28596\\370969757.py\u001b[0m in \u001b[0;36mgetTrackIDs\u001b[1;34m(playlist_id)\u001b[0m\n\u001b[0;32m      4\u001b[0m     \u001b[1;32mfor\u001b[0m \u001b[0mitem\u001b[0m \u001b[1;32min\u001b[0m \u001b[0mplaylist\u001b[0m\u001b[1;33m[\u001b[0m\u001b[1;34m'tracks'\u001b[0m\u001b[1;33m]\u001b[0m\u001b[1;33m[\u001b[0m\u001b[1;34m'items'\u001b[0m\u001b[1;33m]\u001b[0m\u001b[1;33m[\u001b[0m\u001b[1;33m:\u001b[0m\u001b[1;36m50\u001b[0m\u001b[1;33m]\u001b[0m\u001b[1;33m:\u001b[0m\u001b[1;33m\u001b[0m\u001b[1;33m\u001b[0m\u001b[0m\n\u001b[0;32m      5\u001b[0m         \u001b[0mtrack\u001b[0m \u001b[1;33m=\u001b[0m \u001b[0mitem\u001b[0m\u001b[1;33m[\u001b[0m\u001b[1;34m'track'\u001b[0m\u001b[1;33m]\u001b[0m\u001b[1;33m\u001b[0m\u001b[1;33m\u001b[0m\u001b[0m\n\u001b[1;32m----> 6\u001b[1;33m         \u001b[0mids\u001b[0m\u001b[1;33m.\u001b[0m\u001b[0mappend\u001b[0m\u001b[1;33m(\u001b[0m\u001b[0mtrack\u001b[0m\u001b[1;33m[\u001b[0m\u001b[1;34m'id'\u001b[0m\u001b[1;33m]\u001b[0m\u001b[1;33m)\u001b[0m\u001b[1;33m\u001b[0m\u001b[1;33m\u001b[0m\u001b[0m\n\u001b[0m\u001b[0;32m      7\u001b[0m     \u001b[1;32mreturn\u001b[0m\u001b[1;33m\u001b[0m\u001b[1;33m\u001b[0m\u001b[0m\n",
      "\u001b[1;31mTypeError\u001b[0m: 'NoneType' object is not subscriptable"
     ]
    }
   ],
   "source": [
    " %%time\n",
    " # Gathering track ids\n",
    " ids = []\n",
    " for x in spotify_playlist_ids[:200]:\n",
    "     getTrackIDs(x)\n",
    " ids[:5]"
   ]
  },
  {
   "cell_type": "code",
   "execution_count": null,
   "id": "37c936ed",
   "metadata": {},
   "outputs": [],
   "source": []
  },
  {
   "cell_type": "code",
   "execution_count": null,
   "id": "e4ef28f6",
   "metadata": {},
   "outputs": [],
   "source": []
  },
  {
   "cell_type": "code",
   "execution_count": null,
   "id": "890d5c5f",
   "metadata": {},
   "outputs": [],
   "source": [
    "# Authorization flow\n",
    "scope = 'user-top-read'\n",
    "token = util.prompt_for_user_token(username, scope, client_id=cid, client_secret=secret, redirect_uri=redirect_uri)\n",
    "\n",
    "if token:\n",
    "    sp = spotipy.Spotify(auth=token)\n",
    "else:\n",
    "    print(\"Can't get token for\", username)"
   ]
  },
  {
   "cell_type": "code",
   "execution_count": null,
   "id": "1e3b472a",
   "metadata": {},
   "outputs": [],
   "source": []
  }
 ],
 "metadata": {
  "kernelspec": {
   "display_name": "Python 3 (ipykernel)",
   "language": "python",
   "name": "python3"
  },
  "language_info": {
   "codemirror_mode": {
    "name": "ipython",
    "version": 3
   },
   "file_extension": ".py",
   "mimetype": "text/x-python",
   "name": "python",
   "nbconvert_exporter": "python",
   "pygments_lexer": "ipython3",
   "version": "3.9.13"
  }
 },
 "nbformat": 4,
 "nbformat_minor": 5
}
