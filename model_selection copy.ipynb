{
 "cells": [
  {
   "cell_type": "code",
   "execution_count": 1,
   "id": "d209f050",
   "metadata": {},
   "outputs": [],
   "source": [
    "# Import the libraries\n",
    "import os\n",
    "import pandas as pd\n",
    "import numpy as np\n",
    "import json\n",
    "import matplotlib.pyplot as plt\n",
    "import seaborn as sns\n",
    "%config InlineBackend.figure_format ='retina'\n",
    "import spotipy\n",
    "import spotipy.util as util\n",
    "from spotipy.oauth2 import SpotifyClientCredentials\n",
    "\n",
    "from sklearn.model_selection import train_test_split\n",
    "from sklearn.model_selection import cross_val_score\n",
    "from sklearn.preprocessing import StandardScaler\n",
    "\n",
    "from sklearn.tree import DecisionTreeClassifier\n",
    "from sklearn.ensemble import RandomForestClassifier\n",
    "from sklearn.ensemble import AdaBoostClassifier\n",
    "from sklearn.linear_model import LogisticRegressionCV\n",
    "\n",
    "from sklearn.neighbors import KNeighborsClassifier\n",
    "\n",
    "import warnings\n",
    "warnings.simplefilter(action='ignore', category=FutureWarning)"
   ]
  },
  {
   "cell_type": "markdown",
   "id": "7f99712a",
   "metadata": {},
   "source": [
    "## Import data"
   ]
  },
  {
   "cell_type": "code",
   "execution_count": 2,
   "id": "36ee14e2",
   "metadata": {},
   "outputs": [],
   "source": [
    "#13k top spotify songs \n",
    "#df=pd.read_csv('data/df.csv', sep=\",\")\n",
    "#users favorite tracks based on time \n",
    "df_fav=pd.read_csv('data/df_fav.csv', sep=\",\")\n",
    "df=pd.read_csv('data/df_hot.csv', sep=\",\")"
   ]
  },
  {
   "cell_type": "code",
   "execution_count": 3,
   "id": "856466dc",
   "metadata": {},
   "outputs": [
    {
     "data": {
      "text/html": [
       "<div>\n",
       "<style scoped>\n",
       "    .dataframe tbody tr th:only-of-type {\n",
       "        vertical-align: middle;\n",
       "    }\n",
       "\n",
       "    .dataframe tbody tr th {\n",
       "        vertical-align: top;\n",
       "    }\n",
       "\n",
       "    .dataframe thead th {\n",
       "        text-align: right;\n",
       "    }\n",
       "</style>\n",
       "<table border=\"1\" class=\"dataframe\">\n",
       "  <thead>\n",
       "    <tr style=\"text-align: right;\">\n",
       "      <th></th>\n",
       "      <th>length</th>\n",
       "      <th>artists</th>\n",
       "      <th>album</th>\n",
       "      <th>time_signature</th>\n",
       "      <th>danceability</th>\n",
       "      <th>acousticness</th>\n",
       "      <th>energy</th>\n",
       "      <th>tempo</th>\n",
       "      <th>instrumentalness</th>\n",
       "      <th>loudness</th>\n",
       "      <th>...</th>\n",
       "      <th>valence</th>\n",
       "      <th>speechiness</th>\n",
       "      <th>mode</th>\n",
       "      <th>Popularity</th>\n",
       "      <th>minutes</th>\n",
       "      <th>beat_density</th>\n",
       "      <th>Popularity_Rank</th>\n",
       "      <th>melody_complexity</th>\n",
       "      <th>instrumental_acoustic_ratio</th>\n",
       "      <th>favorite</th>\n",
       "    </tr>\n",
       "  </thead>\n",
       "  <tbody>\n",
       "    <tr>\n",
       "      <th>count</th>\n",
       "      <td>1.259400e+04</td>\n",
       "      <td>12594.000000</td>\n",
       "      <td>12594.000000</td>\n",
       "      <td>12594.000000</td>\n",
       "      <td>12594.000000</td>\n",
       "      <td>12594.000000</td>\n",
       "      <td>12594.000000</td>\n",
       "      <td>12594.000000</td>\n",
       "      <td>12594.000000</td>\n",
       "      <td>12594.000000</td>\n",
       "      <td>...</td>\n",
       "      <td>12594.000000</td>\n",
       "      <td>12594.000000</td>\n",
       "      <td>12594.000000</td>\n",
       "      <td>12594.000000</td>\n",
       "      <td>12594.000000</td>\n",
       "      <td>12594.000000</td>\n",
       "      <td>12594.000000</td>\n",
       "      <td>12594.000000</td>\n",
       "      <td>12594.000000</td>\n",
       "      <td>12594.000000</td>\n",
       "    </tr>\n",
       "    <tr>\n",
       "      <th>mean</th>\n",
       "      <td>2.385551e+05</td>\n",
       "      <td>4135.184215</td>\n",
       "      <td>4870.247816</td>\n",
       "      <td>4.502938</td>\n",
       "      <td>0.553316</td>\n",
       "      <td>0.315991</td>\n",
       "      <td>0.592348</td>\n",
       "      <td>119.010716</td>\n",
       "      <td>0.182240</td>\n",
       "      <td>-9.627065</td>\n",
       "      <td>...</td>\n",
       "      <td>0.469516</td>\n",
       "      <td>0.084973</td>\n",
       "      <td>0.672622</td>\n",
       "      <td>50.297933</td>\n",
       "      <td>3.975918</td>\n",
       "      <td>35.102960</td>\n",
       "      <td>6180.605606</td>\n",
       "      <td>465.286804</td>\n",
       "      <td>537.973461</td>\n",
       "      <td>0.009370</td>\n",
       "    </tr>\n",
       "    <tr>\n",
       "      <th>std</th>\n",
       "      <td>1.263497e+05</td>\n",
       "      <td>2385.110827</td>\n",
       "      <td>2834.519720</td>\n",
       "      <td>6.384068</td>\n",
       "      <td>0.189292</td>\n",
       "      <td>0.361614</td>\n",
       "      <td>0.283803</td>\n",
       "      <td>31.161578</td>\n",
       "      <td>0.322545</td>\n",
       "      <td>6.945035</td>\n",
       "      <td>...</td>\n",
       "      <td>0.428565</td>\n",
       "      <td>0.110423</td>\n",
       "      <td>0.684204</td>\n",
       "      <td>19.924747</td>\n",
       "      <td>2.105828</td>\n",
       "      <td>18.796769</td>\n",
       "      <td>3633.365412</td>\n",
       "      <td>132.168642</td>\n",
       "      <td>11978.910413</td>\n",
       "      <td>0.096346</td>\n",
       "    </tr>\n",
       "    <tr>\n",
       "      <th>min</th>\n",
       "      <td>9.750000e+03</td>\n",
       "      <td>0.000000</td>\n",
       "      <td>0.000000</td>\n",
       "      <td>0.000000</td>\n",
       "      <td>0.000000</td>\n",
       "      <td>0.000001</td>\n",
       "      <td>0.000568</td>\n",
       "      <td>0.000000</td>\n",
       "      <td>0.000000</td>\n",
       "      <td>-44.150000</td>\n",
       "      <td>...</td>\n",
       "      <td>0.000000</td>\n",
       "      <td>0.000000</td>\n",
       "      <td>0.000000</td>\n",
       "      <td>0.000000</td>\n",
       "      <td>0.162500</td>\n",
       "      <td>0.000000</td>\n",
       "      <td>1.000000</td>\n",
       "      <td>0.000000</td>\n",
       "      <td>0.000000</td>\n",
       "      <td>0.000000</td>\n",
       "    </tr>\n",
       "    <tr>\n",
       "      <th>25%</th>\n",
       "      <td>1.771040e+05</td>\n",
       "      <td>2094.250000</td>\n",
       "      <td>2406.000000</td>\n",
       "      <td>4.000000</td>\n",
       "      <td>0.428000</td>\n",
       "      <td>0.016200</td>\n",
       "      <td>0.413000</td>\n",
       "      <td>97.484000</td>\n",
       "      <td>0.000000</td>\n",
       "      <td>-10.962500</td>\n",
       "      <td>...</td>\n",
       "      <td>0.219000</td>\n",
       "      <td>0.036700</td>\n",
       "      <td>0.000000</td>\n",
       "      <td>39.000000</td>\n",
       "      <td>2.951733</td>\n",
       "      <td>24.422204</td>\n",
       "      <td>3045.500000</td>\n",
       "      <td>380.037000</td>\n",
       "      <td>0.000000</td>\n",
       "      <td>0.000000</td>\n",
       "    </tr>\n",
       "    <tr>\n",
       "      <th>50%</th>\n",
       "      <td>2.119465e+05</td>\n",
       "      <td>4201.500000</td>\n",
       "      <td>4908.500000</td>\n",
       "      <td>4.000000</td>\n",
       "      <td>0.571000</td>\n",
       "      <td>0.128000</td>\n",
       "      <td>0.655000</td>\n",
       "      <td>121.940000</td>\n",
       "      <td>0.000332</td>\n",
       "      <td>-7.214500</td>\n",
       "      <td>...</td>\n",
       "      <td>0.423000</td>\n",
       "      <td>0.047400</td>\n",
       "      <td>1.000000</td>\n",
       "      <td>52.000000</td>\n",
       "      <td>3.532442</td>\n",
       "      <td>33.464736</td>\n",
       "      <td>6092.000000</td>\n",
       "      <td>480.024000</td>\n",
       "      <td>0.005413</td>\n",
       "      <td>0.000000</td>\n",
       "    </tr>\n",
       "    <tr>\n",
       "      <th>75%</th>\n",
       "      <td>2.592970e+05</td>\n",
       "      <td>6213.750000</td>\n",
       "      <td>7320.750000</td>\n",
       "      <td>4.000000</td>\n",
       "      <td>0.693000</td>\n",
       "      <td>0.606750</td>\n",
       "      <td>0.827000</td>\n",
       "      <td>137.689500</td>\n",
       "      <td>0.180000</td>\n",
       "      <td>-5.198000</td>\n",
       "      <td>...</td>\n",
       "      <td>0.644000</td>\n",
       "      <td>0.079600</td>\n",
       "      <td>1.000000</td>\n",
       "      <td>65.000000</td>\n",
       "      <td>4.321617</td>\n",
       "      <td>42.873465</td>\n",
       "      <td>9370.500000</td>\n",
       "      <td>543.818000</td>\n",
       "      <td>0.922067</td>\n",
       "      <td>0.000000</td>\n",
       "    </tr>\n",
       "    <tr>\n",
       "      <th>max</th>\n",
       "      <td>4.170227e+06</td>\n",
       "      <td>8136.000000</td>\n",
       "      <td>9764.000000</td>\n",
       "      <td>96.000000</td>\n",
       "      <td>0.978000</td>\n",
       "      <td>0.996000</td>\n",
       "      <td>0.999000</td>\n",
       "      <td>219.446000</td>\n",
       "      <td>0.986000</td>\n",
       "      <td>1.177000</td>\n",
       "      <td>...</td>\n",
       "      <td>5.000000</td>\n",
       "      <td>1.000000</td>\n",
       "      <td>11.000000</td>\n",
       "      <td>100.000000</td>\n",
       "      <td>69.503783</td>\n",
       "      <td>574.662857</td>\n",
       "      <td>12343.000000</td>\n",
       "      <td>926.355000</td>\n",
       "      <td>747863.247863</td>\n",
       "      <td>1.000000</td>\n",
       "    </tr>\n",
       "  </tbody>\n",
       "</table>\n",
       "<p>8 rows × 22 columns</p>\n",
       "</div>"
      ],
      "text/plain": [
       "             length       artists         album  time_signature  danceability  \\\n",
       "count  1.259400e+04  12594.000000  12594.000000    12594.000000  12594.000000   \n",
       "mean   2.385551e+05   4135.184215   4870.247816        4.502938      0.553316   \n",
       "std    1.263497e+05   2385.110827   2834.519720        6.384068      0.189292   \n",
       "min    9.750000e+03      0.000000      0.000000        0.000000      0.000000   \n",
       "25%    1.771040e+05   2094.250000   2406.000000        4.000000      0.428000   \n",
       "50%    2.119465e+05   4201.500000   4908.500000        4.000000      0.571000   \n",
       "75%    2.592970e+05   6213.750000   7320.750000        4.000000      0.693000   \n",
       "max    4.170227e+06   8136.000000   9764.000000       96.000000      0.978000   \n",
       "\n",
       "       acousticness        energy         tempo  instrumentalness  \\\n",
       "count  12594.000000  12594.000000  12594.000000      12594.000000   \n",
       "mean       0.315991      0.592348    119.010716          0.182240   \n",
       "std        0.361614      0.283803     31.161578          0.322545   \n",
       "min        0.000001      0.000568      0.000000          0.000000   \n",
       "25%        0.016200      0.413000     97.484000          0.000000   \n",
       "50%        0.128000      0.655000    121.940000          0.000332   \n",
       "75%        0.606750      0.827000    137.689500          0.180000   \n",
       "max        0.996000      0.999000    219.446000          0.986000   \n",
       "\n",
       "           loudness  ...       valence   speechiness          mode  \\\n",
       "count  12594.000000  ...  12594.000000  12594.000000  12594.000000   \n",
       "mean      -9.627065  ...      0.469516      0.084973      0.672622   \n",
       "std        6.945035  ...      0.428565      0.110423      0.684204   \n",
       "min      -44.150000  ...      0.000000      0.000000      0.000000   \n",
       "25%      -10.962500  ...      0.219000      0.036700      0.000000   \n",
       "50%       -7.214500  ...      0.423000      0.047400      1.000000   \n",
       "75%       -5.198000  ...      0.644000      0.079600      1.000000   \n",
       "max        1.177000  ...      5.000000      1.000000     11.000000   \n",
       "\n",
       "         Popularity       minutes  beat_density  Popularity_Rank  \\\n",
       "count  12594.000000  12594.000000  12594.000000     12594.000000   \n",
       "mean      50.297933      3.975918     35.102960      6180.605606   \n",
       "std       19.924747      2.105828     18.796769      3633.365412   \n",
       "min        0.000000      0.162500      0.000000         1.000000   \n",
       "25%       39.000000      2.951733     24.422204      3045.500000   \n",
       "50%       52.000000      3.532442     33.464736      6092.000000   \n",
       "75%       65.000000      4.321617     42.873465      9370.500000   \n",
       "max      100.000000     69.503783    574.662857     12343.000000   \n",
       "\n",
       "       melody_complexity  instrumental_acoustic_ratio      favorite  \n",
       "count       12594.000000                 12594.000000  12594.000000  \n",
       "mean          465.286804                   537.973461      0.009370  \n",
       "std           132.168642                 11978.910413      0.096346  \n",
       "min             0.000000                     0.000000      0.000000  \n",
       "25%           380.037000                     0.000000      0.000000  \n",
       "50%           480.024000                     0.005413      0.000000  \n",
       "75%           543.818000                     0.922067      0.000000  \n",
       "max           926.355000                747863.247863      1.000000  \n",
       "\n",
       "[8 rows x 22 columns]"
      ]
     },
     "execution_count": 3,
     "metadata": {},
     "output_type": "execute_result"
    }
   ],
   "source": [
    "df.describe()"
   ]
  },
  {
   "cell_type": "code",
   "execution_count": 4,
   "id": "8416b1ff",
   "metadata": {},
   "outputs": [
    {
     "data": {
      "text/html": [
       "<div>\n",
       "<style scoped>\n",
       "    .dataframe tbody tr th:only-of-type {\n",
       "        vertical-align: middle;\n",
       "    }\n",
       "\n",
       "    .dataframe tbody tr th {\n",
       "        vertical-align: top;\n",
       "    }\n",
       "\n",
       "    .dataframe thead th {\n",
       "        text-align: right;\n",
       "    }\n",
       "</style>\n",
       "<table border=\"1\" class=\"dataframe\">\n",
       "  <thead>\n",
       "    <tr style=\"text-align: right;\">\n",
       "      <th></th>\n",
       "      <th>track_id</th>\n",
       "      <th>length</th>\n",
       "      <th>artists</th>\n",
       "      <th>album</th>\n",
       "      <th>time_signature</th>\n",
       "      <th>danceability</th>\n",
       "      <th>acousticness</th>\n",
       "      <th>energy</th>\n",
       "      <th>tempo</th>\n",
       "      <th>instrumentalness</th>\n",
       "      <th>...</th>\n",
       "      <th>valence</th>\n",
       "      <th>speechiness</th>\n",
       "      <th>mode</th>\n",
       "      <th>Popularity</th>\n",
       "      <th>minutes</th>\n",
       "      <th>beat_density</th>\n",
       "      <th>Popularity_Rank</th>\n",
       "      <th>melody_complexity</th>\n",
       "      <th>instrumental_acoustic_ratio</th>\n",
       "      <th>favorite</th>\n",
       "    </tr>\n",
       "  </thead>\n",
       "  <tbody>\n",
       "    <tr>\n",
       "      <th>0</th>\n",
       "      <td>3rUGC1vUpkDG9CZFHMur1t</td>\n",
       "      <td>131872</td>\n",
       "      <td>7016</td>\n",
       "      <td>9646</td>\n",
       "      <td>1</td>\n",
       "      <td>0.75</td>\n",
       "      <td>0.2560</td>\n",
       "      <td>0.733</td>\n",
       "      <td>111.018</td>\n",
       "      <td>0.000000</td>\n",
       "      <td>...</td>\n",
       "      <td>0.844</td>\n",
       "      <td>0.0319</td>\n",
       "      <td>0</td>\n",
       "      <td>98.0</td>\n",
       "      <td>2.197867</td>\n",
       "      <td>50.511708</td>\n",
       "      <td>4.5</td>\n",
       "      <td>111.018</td>\n",
       "      <td>0.000000</td>\n",
       "      <td>0</td>\n",
       "    </tr>\n",
       "    <tr>\n",
       "      <th>1</th>\n",
       "      <td>7aqfrAY2p9BUSiupwk3svU</td>\n",
       "      <td>247444</td>\n",
       "      <td>2075</td>\n",
       "      <td>2891</td>\n",
       "      <td>4</td>\n",
       "      <td>0.47</td>\n",
       "      <td>0.0277</td>\n",
       "      <td>0.640</td>\n",
       "      <td>163.920</td>\n",
       "      <td>0.000000</td>\n",
       "      <td>...</td>\n",
       "      <td>0.248</td>\n",
       "      <td>0.3200</td>\n",
       "      <td>1</td>\n",
       "      <td>91.0</td>\n",
       "      <td>4.124067</td>\n",
       "      <td>39.747175</td>\n",
       "      <td>49.5</td>\n",
       "      <td>655.680</td>\n",
       "      <td>0.000000</td>\n",
       "      <td>0</td>\n",
       "    </tr>\n",
       "    <tr>\n",
       "      <th>2</th>\n",
       "      <td>7dJYggqjKo71KI9sLzqCs8</td>\n",
       "      <td>265360</td>\n",
       "      <td>2007</td>\n",
       "      <td>7025</td>\n",
       "      <td>4</td>\n",
       "      <td>0.75</td>\n",
       "      <td>0.2280</td>\n",
       "      <td>0.674</td>\n",
       "      <td>123.026</td>\n",
       "      <td>0.000089</td>\n",
       "      <td>...</td>\n",
       "      <td>0.392</td>\n",
       "      <td>0.0970</td>\n",
       "      <td>0</td>\n",
       "      <td>89.0</td>\n",
       "      <td>4.422667</td>\n",
       "      <td>27.817154</td>\n",
       "      <td>89.5</td>\n",
       "      <td>492.104</td>\n",
       "      <td>0.000391</td>\n",
       "      <td>0</td>\n",
       "    </tr>\n",
       "  </tbody>\n",
       "</table>\n",
       "<p>3 rows × 23 columns</p>\n",
       "</div>"
      ],
      "text/plain": [
       "                 track_id  length  artists  album  time_signature  \\\n",
       "0  3rUGC1vUpkDG9CZFHMur1t  131872     7016   9646               1   \n",
       "1  7aqfrAY2p9BUSiupwk3svU  247444     2075   2891               4   \n",
       "2  7dJYggqjKo71KI9sLzqCs8  265360     2007   7025               4   \n",
       "\n",
       "   danceability  acousticness  energy    tempo  instrumentalness  ...  \\\n",
       "0          0.75        0.2560   0.733  111.018          0.000000  ...   \n",
       "1          0.47        0.0277   0.640  163.920          0.000000  ...   \n",
       "2          0.75        0.2280   0.674  123.026          0.000089  ...   \n",
       "\n",
       "   valence  speechiness  mode  Popularity   minutes  beat_density  \\\n",
       "0    0.844       0.0319     0        98.0  2.197867     50.511708   \n",
       "1    0.248       0.3200     1        91.0  4.124067     39.747175   \n",
       "2    0.392       0.0970     0        89.0  4.422667     27.817154   \n",
       "\n",
       "   Popularity_Rank  melody_complexity  instrumental_acoustic_ratio  favorite  \n",
       "0              4.5            111.018                     0.000000         0  \n",
       "1             49.5            655.680                     0.000000         0  \n",
       "2             89.5            492.104                     0.000391         0  \n",
       "\n",
       "[3 rows x 23 columns]"
      ]
     },
     "execution_count": 4,
     "metadata": {},
     "output_type": "execute_result"
    }
   ],
   "source": [
    "df.head(3)"
   ]
  },
  {
   "cell_type": "code",
   "execution_count": 5,
   "id": "9cc4ee53",
   "metadata": {},
   "outputs": [
    {
     "name": "stdout",
     "output_type": "stream",
     "text": [
      "<class 'pandas.core.frame.DataFrame'>\n",
      "RangeIndex: 12594 entries, 0 to 12593\n",
      "Data columns (total 23 columns):\n",
      " #   Column                       Non-Null Count  Dtype  \n",
      "---  ------                       --------------  -----  \n",
      " 0   track_id                     12594 non-null  object \n",
      " 1   length                       12594 non-null  int64  \n",
      " 2   artists                      12594 non-null  int64  \n",
      " 3   album                        12594 non-null  int64  \n",
      " 4   time_signature               12594 non-null  int64  \n",
      " 5   danceability                 12594 non-null  float64\n",
      " 6   acousticness                 12594 non-null  float64\n",
      " 7   energy                       12594 non-null  float64\n",
      " 8   tempo                        12594 non-null  float64\n",
      " 9   instrumentalness             12594 non-null  float64\n",
      " 10  loudness                     12594 non-null  float64\n",
      " 11  liveness                     12594 non-null  float64\n",
      " 12  key                          12594 non-null  float64\n",
      " 13  valence                      12594 non-null  float64\n",
      " 14  speechiness                  12594 non-null  float64\n",
      " 15  mode                         12594 non-null  int64  \n",
      " 16  Popularity                   12594 non-null  float64\n",
      " 17  minutes                      12594 non-null  float64\n",
      " 18  beat_density                 12594 non-null  float64\n",
      " 19  Popularity_Rank              12594 non-null  float64\n",
      " 20  melody_complexity            12594 non-null  float64\n",
      " 21  instrumental_acoustic_ratio  12594 non-null  float64\n",
      " 22  favorite                     12594 non-null  int64  \n",
      "dtypes: float64(16), int64(6), object(1)\n",
      "memory usage: 2.2+ MB\n"
     ]
    }
   ],
   "source": [
    "df.info()"
   ]
  },
  {
   "cell_type": "code",
   "execution_count": 6,
   "id": "20be5f0f",
   "metadata": {},
   "outputs": [
    {
     "data": {
      "text/plain": [
       "favorite\n",
       "0    12476\n",
       "1      118\n",
       "Name: count, dtype: int64"
      ]
     },
     "execution_count": 6,
     "metadata": {},
     "output_type": "execute_result"
    }
   ],
   "source": [
    "df['favorite'].value_counts()"
   ]
  },
  {
   "cell_type": "code",
   "execution_count": 7,
   "id": "dd2c1c65",
   "metadata": {},
   "outputs": [
    {
     "name": "stdout",
     "output_type": "stream",
     "text": [
      "(12594, 23)\n"
     ]
    }
   ],
   "source": [
    "print(df.shape)"
   ]
  },
  {
   "cell_type": "code",
   "execution_count": 8,
   "id": "1ddca425",
   "metadata": {},
   "outputs": [],
   "source": [
    "#X = df.drop(columns=['favorite', 'track_id'])  # Drop 'favorite' and 'track_id' columns\n",
    "X = df[['track_id','album', 'artists', 'length', 'danceability', 'tempo', 'energy', 'acousticness', 'time_signature','favorite']]\n",
    "#'tempo','beat_density','speechiness','melody_complexity'\n",
    "y = df['favorite']  # Select the 'favorite' column as the target variable"
   ]
  },
  {
   "cell_type": "code",
   "execution_count": 9,
   "id": "4eeef485",
   "metadata": {},
   "outputs": [],
   "source": [
    "#X.to_csv('data/df_gbt.csv', index=False)"
   ]
  },
  {
   "cell_type": "code",
   "execution_count": 10,
   "id": "3eededc4",
   "metadata": {},
   "outputs": [
    {
     "name": "stdout",
     "output_type": "stream",
     "text": [
      "(12594, 10)\n",
      "(12594,)\n"
     ]
    }
   ],
   "source": [
    "print(X.shape)\n",
    "print(y.shape)"
   ]
  },
  {
   "cell_type": "code",
   "execution_count": 11,
   "id": "e63b3b48",
   "metadata": {},
   "outputs": [],
   "source": [
    "df = X\n",
    "data = df "
   ]
  },
  {
   "cell_type": "code",
   "execution_count": 12,
   "id": "91d0de44",
   "metadata": {},
   "outputs": [
    {
     "data": {
      "text/html": [
       "<div>\n",
       "<style scoped>\n",
       "    .dataframe tbody tr th:only-of-type {\n",
       "        vertical-align: middle;\n",
       "    }\n",
       "\n",
       "    .dataframe tbody tr th {\n",
       "        vertical-align: top;\n",
       "    }\n",
       "\n",
       "    .dataframe thead th {\n",
       "        text-align: right;\n",
       "    }\n",
       "</style>\n",
       "<table border=\"1\" class=\"dataframe\">\n",
       "  <thead>\n",
       "    <tr style=\"text-align: right;\">\n",
       "      <th></th>\n",
       "      <th>track_id</th>\n",
       "      <th>album</th>\n",
       "      <th>artists</th>\n",
       "      <th>length</th>\n",
       "      <th>danceability</th>\n",
       "      <th>tempo</th>\n",
       "      <th>energy</th>\n",
       "      <th>acousticness</th>\n",
       "      <th>time_signature</th>\n",
       "      <th>favorite</th>\n",
       "    </tr>\n",
       "  </thead>\n",
       "  <tbody>\n",
       "    <tr>\n",
       "      <th>0</th>\n",
       "      <td>3rUGC1vUpkDG9CZFHMur1t</td>\n",
       "      <td>9646</td>\n",
       "      <td>7016</td>\n",
       "      <td>131872</td>\n",
       "      <td>0.750</td>\n",
       "      <td>111.018</td>\n",
       "      <td>0.733</td>\n",
       "      <td>0.2560</td>\n",
       "      <td>1</td>\n",
       "      <td>0</td>\n",
       "    </tr>\n",
       "    <tr>\n",
       "      <th>1</th>\n",
       "      <td>7aqfrAY2p9BUSiupwk3svU</td>\n",
       "      <td>2891</td>\n",
       "      <td>2075</td>\n",
       "      <td>247444</td>\n",
       "      <td>0.470</td>\n",
       "      <td>163.920</td>\n",
       "      <td>0.640</td>\n",
       "      <td>0.0277</td>\n",
       "      <td>4</td>\n",
       "      <td>0</td>\n",
       "    </tr>\n",
       "    <tr>\n",
       "      <th>2</th>\n",
       "      <td>7dJYggqjKo71KI9sLzqCs8</td>\n",
       "      <td>7025</td>\n",
       "      <td>2007</td>\n",
       "      <td>265360</td>\n",
       "      <td>0.750</td>\n",
       "      <td>123.026</td>\n",
       "      <td>0.674</td>\n",
       "      <td>0.2280</td>\n",
       "      <td>4</td>\n",
       "      <td>0</td>\n",
       "    </tr>\n",
       "    <tr>\n",
       "      <th>3</th>\n",
       "      <td>4MjDJD8cW7iVeWInc2Bdyj</td>\n",
       "      <td>9691</td>\n",
       "      <td>742</td>\n",
       "      <td>267194</td>\n",
       "      <td>0.787</td>\n",
       "      <td>139.056</td>\n",
       "      <td>0.621</td>\n",
       "      <td>0.1500</td>\n",
       "      <td>4</td>\n",
       "      <td>0</td>\n",
       "    </tr>\n",
       "    <tr>\n",
       "      <th>4</th>\n",
       "      <td>5aIVCx5tnk0ntmdiinnYvw</td>\n",
       "      <td>9135</td>\n",
       "      <td>7579</td>\n",
       "      <td>200256</td>\n",
       "      <td>0.673</td>\n",
       "      <td>117.187</td>\n",
       "      <td>0.722</td>\n",
       "      <td>0.0856</td>\n",
       "      <td>4</td>\n",
       "      <td>0</td>\n",
       "    </tr>\n",
       "  </tbody>\n",
       "</table>\n",
       "</div>"
      ],
      "text/plain": [
       "                 track_id  album  artists  length  danceability    tempo  \\\n",
       "0  3rUGC1vUpkDG9CZFHMur1t   9646     7016  131872         0.750  111.018   \n",
       "1  7aqfrAY2p9BUSiupwk3svU   2891     2075  247444         0.470  163.920   \n",
       "2  7dJYggqjKo71KI9sLzqCs8   7025     2007  265360         0.750  123.026   \n",
       "3  4MjDJD8cW7iVeWInc2Bdyj   9691      742  267194         0.787  139.056   \n",
       "4  5aIVCx5tnk0ntmdiinnYvw   9135     7579  200256         0.673  117.187   \n",
       "\n",
       "   energy  acousticness  time_signature  favorite  \n",
       "0   0.733        0.2560               1         0  \n",
       "1   0.640        0.0277               4         0  \n",
       "2   0.674        0.2280               4         0  \n",
       "3   0.621        0.1500               4         0  \n",
       "4   0.722        0.0856               4         0  "
      ]
     },
     "execution_count": 12,
     "metadata": {},
     "output_type": "execute_result"
    }
   ],
   "source": [
    "data.head()"
   ]
  },
  {
   "cell_type": "markdown",
   "id": "0f3a2179",
   "metadata": {},
   "source": [
    "#### cosine_similarity"
   ]
  },
  {
   "cell_type": "code",
   "execution_count": 13,
   "id": "809114e4",
   "metadata": {},
   "outputs": [],
   "source": [
    "import pandas as pd\n",
    "from sklearn.metrics.pairwise import cosine_similarity\n",
    "from sklearn.preprocessing import MinMaxScaler\n",
    "\n",
    "# Normalizing the features\n",
    "scaler = MinMaxScaler()\n",
    "feature_columns = ['album', 'artists', 'length', 'danceability', 'tempo', 'energy', 'acousticness', 'time_signature','favorite']  # Replace with your actual feature columns\n",
    "data[feature_columns] = scaler.fit_transform(data[feature_columns])\n",
    "\n",
    "# Filter out the favorite songs\n",
    "favorite_songs = data[data['favorite'] == 1]\n",
    "\n",
    "# Compute the cosine similarity between all songs and the favorite songs\n",
    "similarity_matrix = cosine_similarity(data[feature_columns], favorite_songs[feature_columns])"
   ]
  },
  {
   "cell_type": "code",
   "execution_count": null,
   "id": "b9ebc3c9",
   "metadata": {},
   "outputs": [],
   "source": []
  },
  {
   "cell_type": "code",
   "execution_count": 14,
   "id": "ee82712f",
   "metadata": {},
   "outputs": [
    {
     "data": {
      "text/plain": [
       "array([[0.45053113, 0.46878909, 0.43231257, ..., 0.56841684, 0.60499291,\n",
       "        0.39834119],\n",
       "       [0.36097053, 0.47209805, 0.42939416, ..., 0.52029287, 0.49569141,\n",
       "        0.45501334],\n",
       "       [0.51509373, 0.55422115, 0.50798512, ..., 0.63106832, 0.66415819,\n",
       "        0.49025403],\n",
       "       ...,\n",
       "       [0.84222738, 0.94883738, 0.95350504, ..., 1.        , 0.96373831,\n",
       "        0.89208886],\n",
       "       [0.83469011, 0.9377988 , 0.9366106 , ..., 0.96373831, 1.        ,\n",
       "        0.85618068],\n",
       "       [0.81706845, 0.96992952, 0.95931494, ..., 0.89208886, 0.85618068,\n",
       "        1.        ]])"
      ]
     },
     "execution_count": 14,
     "metadata": {},
     "output_type": "execute_result"
    }
   ],
   "source": [
    "similarity_matrix"
   ]
  },
  {
   "cell_type": "code",
   "execution_count": 15,
   "id": "518d0fde",
   "metadata": {},
   "outputs": [],
   "source": [
    "#method 1\n",
    "\n",
    "# Calculate the mean similarity score for each song to all favorite songs\n",
    "mean_similarity_scores = np.mean(similarity_matrix, axis=1)\n",
    "\n",
    "data['mean_similarity'] = mean_similarity_scores"
   ]
  },
  {
   "cell_type": "code",
   "execution_count": 16,
   "id": "32990182",
   "metadata": {},
   "outputs": [],
   "source": [
    "from sklearn.cluster import KMeans\n",
    "\n",
    "# Perform clustering based on similarity scores\n",
    "kmeans = KMeans(n_clusters=10)  # number of clusters can be chosen based on your dataset\n",
    "clusters = kmeans.fit_predict(similarity_matrix)\n",
    "\n",
    "data['cluster_label'] = clusters"
   ]
  },
  {
   "cell_type": "code",
   "execution_count": 17,
   "id": "109105d9",
   "metadata": {},
   "outputs": [
    {
     "data": {
      "text/html": [
       "<div>\n",
       "<style scoped>\n",
       "    .dataframe tbody tr th:only-of-type {\n",
       "        vertical-align: middle;\n",
       "    }\n",
       "\n",
       "    .dataframe tbody tr th {\n",
       "        vertical-align: top;\n",
       "    }\n",
       "\n",
       "    .dataframe thead th {\n",
       "        text-align: right;\n",
       "    }\n",
       "</style>\n",
       "<table border=\"1\" class=\"dataframe\">\n",
       "  <thead>\n",
       "    <tr style=\"text-align: right;\">\n",
       "      <th></th>\n",
       "      <th>track_id</th>\n",
       "      <th>album</th>\n",
       "      <th>artists</th>\n",
       "      <th>length</th>\n",
       "      <th>danceability</th>\n",
       "      <th>tempo</th>\n",
       "      <th>energy</th>\n",
       "      <th>acousticness</th>\n",
       "      <th>time_signature</th>\n",
       "      <th>favorite</th>\n",
       "      <th>mean_similarity</th>\n",
       "      <th>cluster_label</th>\n",
       "    </tr>\n",
       "  </thead>\n",
       "  <tbody>\n",
       "    <tr>\n",
       "      <th>0</th>\n",
       "      <td>3rUGC1vUpkDG9CZFHMur1t</td>\n",
       "      <td>0.987915</td>\n",
       "      <td>0.862340</td>\n",
       "      <td>0.029353</td>\n",
       "      <td>0.766871</td>\n",
       "      <td>5.059012e-01</td>\n",
       "      <td>0.733582</td>\n",
       "      <td>0.257027</td>\n",
       "      <td>0.010417</td>\n",
       "      <td>0.0</td>\n",
       "      <td>0.512012</td>\n",
       "      <td>5</td>\n",
       "    </tr>\n",
       "    <tr>\n",
       "      <th>1</th>\n",
       "      <td>7aqfrAY2p9BUSiupwk3svU</td>\n",
       "      <td>0.296088</td>\n",
       "      <td>0.255039</td>\n",
       "      <td>0.057131</td>\n",
       "      <td>0.480573</td>\n",
       "      <td>7.469719e-01</td>\n",
       "      <td>0.640436</td>\n",
       "      <td>0.027810</td>\n",
       "      <td>0.041667</td>\n",
       "      <td>0.0</td>\n",
       "      <td>0.461976</td>\n",
       "      <td>7</td>\n",
       "    </tr>\n",
       "    <tr>\n",
       "      <th>2</th>\n",
       "      <td>7dJYggqjKo71KI9sLzqCs8</td>\n",
       "      <td>0.719480</td>\n",
       "      <td>0.246681</td>\n",
       "      <td>0.061438</td>\n",
       "      <td>0.766871</td>\n",
       "      <td>5.606208e-01</td>\n",
       "      <td>0.674490</td>\n",
       "      <td>0.228915</td>\n",
       "      <td>0.041667</td>\n",
       "      <td>0.0</td>\n",
       "      <td>0.581753</td>\n",
       "      <td>1</td>\n",
       "    </tr>\n",
       "    <tr>\n",
       "      <th>3</th>\n",
       "      <td>4MjDJD8cW7iVeWInc2Bdyj</td>\n",
       "      <td>0.992524</td>\n",
       "      <td>0.091200</td>\n",
       "      <td>0.061878</td>\n",
       "      <td>0.804703</td>\n",
       "      <td>6.336684e-01</td>\n",
       "      <td>0.621406</td>\n",
       "      <td>0.150601</td>\n",
       "      <td>0.041667</td>\n",
       "      <td>0.0</td>\n",
       "      <td>0.569698</td>\n",
       "      <td>1</td>\n",
       "    </tr>\n",
       "    <tr>\n",
       "      <th>4</th>\n",
       "      <td>5aIVCx5tnk0ntmdiinnYvw</td>\n",
       "      <td>0.935580</td>\n",
       "      <td>0.931539</td>\n",
       "      <td>0.045789</td>\n",
       "      <td>0.688139</td>\n",
       "      <td>5.340129e-01</td>\n",
       "      <td>0.722565</td>\n",
       "      <td>0.085943</td>\n",
       "      <td>0.041667</td>\n",
       "      <td>0.0</td>\n",
       "      <td>0.490068</td>\n",
       "      <td>5</td>\n",
       "    </tr>\n",
       "    <tr>\n",
       "      <th>...</th>\n",
       "      <td>...</td>\n",
       "      <td>...</td>\n",
       "      <td>...</td>\n",
       "      <td>...</td>\n",
       "      <td>...</td>\n",
       "      <td>...</td>\n",
       "      <td>...</td>\n",
       "      <td>...</td>\n",
       "      <td>...</td>\n",
       "      <td>...</td>\n",
       "      <td>...</td>\n",
       "      <td>...</td>\n",
       "    </tr>\n",
       "    <tr>\n",
       "      <th>12589</th>\n",
       "      <td>5R2rsbwCDXORX2tLfprRmM</td>\n",
       "      <td>0.591356</td>\n",
       "      <td>0.001844</td>\n",
       "      <td>0.037638</td>\n",
       "      <td>0.737219</td>\n",
       "      <td>0.000000e+00</td>\n",
       "      <td>0.508229</td>\n",
       "      <td>0.318272</td>\n",
       "      <td>0.750000</td>\n",
       "      <td>1.0</td>\n",
       "      <td>0.960850</td>\n",
       "      <td>2</td>\n",
       "    </tr>\n",
       "    <tr>\n",
       "      <th>12590</th>\n",
       "      <td>6DZz58CbF0AKw5PCKqNKcM</td>\n",
       "      <td>0.238120</td>\n",
       "      <td>0.001475</td>\n",
       "      <td>0.072262</td>\n",
       "      <td>0.449898</td>\n",
       "      <td>5.741731e-09</td>\n",
       "      <td>0.465161</td>\n",
       "      <td>0.691767</td>\n",
       "      <td>0.000000</td>\n",
       "      <td>1.0</td>\n",
       "      <td>0.780821</td>\n",
       "      <td>2</td>\n",
       "    </tr>\n",
       "    <tr>\n",
       "      <th>12591</th>\n",
       "      <td>3CA9pLiwRIGtUBiMjbZmRw</td>\n",
       "      <td>0.730746</td>\n",
       "      <td>0.000737</td>\n",
       "      <td>0.048311</td>\n",
       "      <td>0.598160</td>\n",
       "      <td>4.420222e-07</td>\n",
       "      <td>0.909859</td>\n",
       "      <td>0.089457</td>\n",
       "      <td>0.854167</td>\n",
       "      <td>1.0</td>\n",
       "      <td>0.941917</td>\n",
       "      <td>2</td>\n",
       "    </tr>\n",
       "    <tr>\n",
       "      <th>12592</th>\n",
       "      <td>27GmP9AWRs744SzKcpJsTZ</td>\n",
       "      <td>0.943466</td>\n",
       "      <td>0.000737</td>\n",
       "      <td>0.047141</td>\n",
       "      <td>0.871166</td>\n",
       "      <td>0.000000e+00</td>\n",
       "      <td>0.553300</td>\n",
       "      <td>0.056123</td>\n",
       "      <td>0.770833</td>\n",
       "      <td>1.0</td>\n",
       "      <td>0.940393</td>\n",
       "      <td>2</td>\n",
       "    </tr>\n",
       "    <tr>\n",
       "      <th>12593</th>\n",
       "      <td>0g2zuab5P1vIhEHI9oHj60</td>\n",
       "      <td>0.007374</td>\n",
       "      <td>0.003687</td>\n",
       "      <td>0.033999</td>\n",
       "      <td>0.741309</td>\n",
       "      <td>4.447563e-07</td>\n",
       "      <td>0.636430</td>\n",
       "      <td>0.023694</td>\n",
       "      <td>0.520833</td>\n",
       "      <td>1.0</td>\n",
       "      <td>0.909087</td>\n",
       "      <td>2</td>\n",
       "    </tr>\n",
       "  </tbody>\n",
       "</table>\n",
       "<p>12594 rows × 12 columns</p>\n",
       "</div>"
      ],
      "text/plain": [
       "                     track_id     album   artists    length  danceability  \\\n",
       "0      3rUGC1vUpkDG9CZFHMur1t  0.987915  0.862340  0.029353      0.766871   \n",
       "1      7aqfrAY2p9BUSiupwk3svU  0.296088  0.255039  0.057131      0.480573   \n",
       "2      7dJYggqjKo71KI9sLzqCs8  0.719480  0.246681  0.061438      0.766871   \n",
       "3      4MjDJD8cW7iVeWInc2Bdyj  0.992524  0.091200  0.061878      0.804703   \n",
       "4      5aIVCx5tnk0ntmdiinnYvw  0.935580  0.931539  0.045789      0.688139   \n",
       "...                       ...       ...       ...       ...           ...   \n",
       "12589  5R2rsbwCDXORX2tLfprRmM  0.591356  0.001844  0.037638      0.737219   \n",
       "12590  6DZz58CbF0AKw5PCKqNKcM  0.238120  0.001475  0.072262      0.449898   \n",
       "12591  3CA9pLiwRIGtUBiMjbZmRw  0.730746  0.000737  0.048311      0.598160   \n",
       "12592  27GmP9AWRs744SzKcpJsTZ  0.943466  0.000737  0.047141      0.871166   \n",
       "12593  0g2zuab5P1vIhEHI9oHj60  0.007374  0.003687  0.033999      0.741309   \n",
       "\n",
       "              tempo    energy  acousticness  time_signature  favorite  \\\n",
       "0      5.059012e-01  0.733582      0.257027        0.010417       0.0   \n",
       "1      7.469719e-01  0.640436      0.027810        0.041667       0.0   \n",
       "2      5.606208e-01  0.674490      0.228915        0.041667       0.0   \n",
       "3      6.336684e-01  0.621406      0.150601        0.041667       0.0   \n",
       "4      5.340129e-01  0.722565      0.085943        0.041667       0.0   \n",
       "...             ...       ...           ...             ...       ...   \n",
       "12589  0.000000e+00  0.508229      0.318272        0.750000       1.0   \n",
       "12590  5.741731e-09  0.465161      0.691767        0.000000       1.0   \n",
       "12591  4.420222e-07  0.909859      0.089457        0.854167       1.0   \n",
       "12592  0.000000e+00  0.553300      0.056123        0.770833       1.0   \n",
       "12593  4.447563e-07  0.636430      0.023694        0.520833       1.0   \n",
       "\n",
       "       mean_similarity  cluster_label  \n",
       "0             0.512012              5  \n",
       "1             0.461976              7  \n",
       "2             0.581753              1  \n",
       "3             0.569698              1  \n",
       "4             0.490068              5  \n",
       "...                ...            ...  \n",
       "12589         0.960850              2  \n",
       "12590         0.780821              2  \n",
       "12591         0.941917              2  \n",
       "12592         0.940393              2  \n",
       "12593         0.909087              2  \n",
       "\n",
       "[12594 rows x 12 columns]"
      ]
     },
     "execution_count": 17,
     "metadata": {},
     "output_type": "execute_result"
    }
   ],
   "source": [
    "data"
   ]
  },
  {
   "cell_type": "code",
   "execution_count": null,
   "id": "79db7faf",
   "metadata": {},
   "outputs": [],
   "source": []
  },
  {
   "cell_type": "code",
   "execution_count": 56,
   "id": "5b3a4118",
   "metadata": {},
   "outputs": [],
   "source": [
    "#mean_similarity df\n",
    "#data_1 = data.drop(['track_id', 'cluster_label'], axis=1)\n",
    "#cluster_label df\n",
    "#data_2 = data.drop(['track_id', 'mean_similarity'], axis=1)\n",
    "\n",
    "#'cluster_label'\n",
    "#\"mean_similarity\"\n",
    "X = data[['tempo', 'danceability', 'time_signature', 'length']]\n",
    "track_ids = data['track_id']\n",
    "\n",
    "\n",
    "\n",
    "# 'album', 'artists', 'length', 'danceability', 'tempo', 'energy', 'acousticness', 'time_signature' \n",
    "\n",
    "y = data['favorite']  #  target variable\n"
   ]
  },
  {
   "cell_type": "code",
   "execution_count": 41,
   "id": "53f6214c",
   "metadata": {},
   "outputs": [
    {
     "data": {
      "text/html": [
       "<div>\n",
       "<style scoped>\n",
       "    .dataframe tbody tr th:only-of-type {\n",
       "        vertical-align: middle;\n",
       "    }\n",
       "\n",
       "    .dataframe tbody tr th {\n",
       "        vertical-align: top;\n",
       "    }\n",
       "\n",
       "    .dataframe thead th {\n",
       "        text-align: right;\n",
       "    }\n",
       "</style>\n",
       "<table border=\"1\" class=\"dataframe\">\n",
       "  <thead>\n",
       "    <tr style=\"text-align: right;\">\n",
       "      <th></th>\n",
       "      <th>tempo</th>\n",
       "      <th>danceability</th>\n",
       "      <th>time_signature</th>\n",
       "      <th>length</th>\n",
       "    </tr>\n",
       "  </thead>\n",
       "  <tbody>\n",
       "    <tr>\n",
       "      <th>0</th>\n",
       "      <td>0.51</td>\n",
       "      <td>0.77</td>\n",
       "      <td>0.01</td>\n",
       "      <td>0.03</td>\n",
       "    </tr>\n",
       "    <tr>\n",
       "      <th>1</th>\n",
       "      <td>0.75</td>\n",
       "      <td>0.48</td>\n",
       "      <td>0.04</td>\n",
       "      <td>0.06</td>\n",
       "    </tr>\n",
       "    <tr>\n",
       "      <th>2</th>\n",
       "      <td>0.56</td>\n",
       "      <td>0.77</td>\n",
       "      <td>0.04</td>\n",
       "      <td>0.06</td>\n",
       "    </tr>\n",
       "    <tr>\n",
       "      <th>3</th>\n",
       "      <td>0.63</td>\n",
       "      <td>0.80</td>\n",
       "      <td>0.04</td>\n",
       "      <td>0.06</td>\n",
       "    </tr>\n",
       "    <tr>\n",
       "      <th>4</th>\n",
       "      <td>0.53</td>\n",
       "      <td>0.69</td>\n",
       "      <td>0.04</td>\n",
       "      <td>0.05</td>\n",
       "    </tr>\n",
       "    <tr>\n",
       "      <th>...</th>\n",
       "      <td>...</td>\n",
       "      <td>...</td>\n",
       "      <td>...</td>\n",
       "      <td>...</td>\n",
       "    </tr>\n",
       "    <tr>\n",
       "      <th>12589</th>\n",
       "      <td>0.00</td>\n",
       "      <td>0.74</td>\n",
       "      <td>0.75</td>\n",
       "      <td>0.04</td>\n",
       "    </tr>\n",
       "    <tr>\n",
       "      <th>12590</th>\n",
       "      <td>0.00</td>\n",
       "      <td>0.45</td>\n",
       "      <td>0.00</td>\n",
       "      <td>0.07</td>\n",
       "    </tr>\n",
       "    <tr>\n",
       "      <th>12591</th>\n",
       "      <td>0.00</td>\n",
       "      <td>0.60</td>\n",
       "      <td>0.85</td>\n",
       "      <td>0.05</td>\n",
       "    </tr>\n",
       "    <tr>\n",
       "      <th>12592</th>\n",
       "      <td>0.00</td>\n",
       "      <td>0.87</td>\n",
       "      <td>0.77</td>\n",
       "      <td>0.05</td>\n",
       "    </tr>\n",
       "    <tr>\n",
       "      <th>12593</th>\n",
       "      <td>0.00</td>\n",
       "      <td>0.74</td>\n",
       "      <td>0.52</td>\n",
       "      <td>0.03</td>\n",
       "    </tr>\n",
       "  </tbody>\n",
       "</table>\n",
       "<p>12594 rows × 4 columns</p>\n",
       "</div>"
      ],
      "text/plain": [
       "       tempo  danceability  time_signature  length\n",
       "0       0.51          0.77            0.01    0.03\n",
       "1       0.75          0.48            0.04    0.06\n",
       "2       0.56          0.77            0.04    0.06\n",
       "3       0.63          0.80            0.04    0.06\n",
       "4       0.53          0.69            0.04    0.05\n",
       "...      ...           ...             ...     ...\n",
       "12589   0.00          0.74            0.75    0.04\n",
       "12590   0.00          0.45            0.00    0.07\n",
       "12591   0.00          0.60            0.85    0.05\n",
       "12592   0.00          0.87            0.77    0.05\n",
       "12593   0.00          0.74            0.52    0.03\n",
       "\n",
       "[12594 rows x 4 columns]"
      ]
     },
     "execution_count": 41,
     "metadata": {},
     "output_type": "execute_result"
    }
   ],
   "source": [
    "X"
   ]
  },
  {
   "cell_type": "markdown",
   "id": "a4e965d7",
   "metadata": {},
   "source": [
    "### Train & Testing data set "
   ]
  },
  {
   "cell_type": "code",
   "execution_count": 59,
   "id": "be1926a4",
   "metadata": {},
   "outputs": [
    {
     "name": "stdout",
     "output_type": "stream",
     "text": [
      "(24952,)\n",
      "(2519,)\n"
     ]
    }
   ],
   "source": [
    "from imblearn.over_sampling import SMOTE\n",
    "\n",
    "# Shuffle your dataset \n",
    "shuffle_df = df.sample(frac=1)\n",
    "\n",
    "# Split the data into training and testing sets\n",
    "#X_train, X_test, y_train, y_test = train_test_split(X, y, test_size=0.2, random_state=42)\n",
    "\n",
    "X_train, X_test, y_train, y_test, track_ids_train, track_ids_test = train_test_split(\n",
    "    X, y, track_ids, test_size=0.2, random_state=42)\n",
    "\n",
    "#data imbalance\n",
    "oversample = SMOTE()\n",
    "X_train, y_train = oversample.fit_resample(X, y) \n",
    "\n",
    "# Scale the features\n",
    "scaler = StandardScaler()\n",
    "X_train = scaler.fit_transform(X_train)\n",
    "X_test = scaler.transform(X_test)\n",
    "\n",
    "print(y_train.shape)\n",
    "print(y_test.shape)"
   ]
  },
  {
   "cell_type": "markdown",
   "id": "835ecc81",
   "metadata": {},
   "source": [
    "##### fix the imbalanced data set "
   ]
  },
  {
   "cell_type": "code",
   "execution_count": 43,
   "id": "29a614b0",
   "metadata": {},
   "outputs": [
    {
     "data": {
      "text/plain": [
       "favorite\n",
       "0.00    12476\n",
       "1.00    12476\n",
       "Name: count, dtype: int64"
      ]
     },
     "execution_count": 43,
     "metadata": {},
     "output_type": "execute_result"
    }
   ],
   "source": [
    "y_train.value_counts() "
   ]
  },
  {
   "cell_type": "code",
   "execution_count": 44,
   "id": "f28792ac",
   "metadata": {},
   "outputs": [
    {
     "name": "stdout",
     "output_type": "stream",
     "text": [
      "(24952, 4)\n",
      "(24952,)\n",
      "(2519, 4)\n",
      "(2519,)\n"
     ]
    }
   ],
   "source": [
    "print(X_train.shape)\n",
    "print(y_train.shape)\n",
    "print(X_test.shape)\n",
    "print(y_test.shape)"
   ]
  },
  {
   "cell_type": "markdown",
   "id": "352f3052",
   "metadata": {},
   "source": [
    "#### Classification "
   ]
  },
  {
   "cell_type": "code",
   "execution_count": 45,
   "id": "345be35f",
   "metadata": {},
   "outputs": [
    {
     "name": "stderr",
     "output_type": "stream",
     "text": [
      "  0%|          | 0/29 [00:00<?, ?it/s]"
     ]
    },
    {
     "name": "stderr",
     "output_type": "stream",
     "text": [
      "100%|██████████| 29/29 [01:25<00:00,  2.94s/it]"
     ]
    },
    {
     "name": "stdout",
     "output_type": "stream",
     "text": [
      "[LightGBM] [Info] Number of positive: 12476, number of negative: 12476\n",
      "[LightGBM] [Info] Auto-choosing row-wise multi-threading, the overhead of testing was 0.000798 seconds.\n",
      "You can set `force_row_wise=true` to remove the overhead.\n",
      "And if memory is not enough, you can set `force_col_wise=true`.\n",
      "[LightGBM] [Info] Total Bins 1020\n",
      "[LightGBM] [Info] Number of data points in the train set: 24952, number of used features: 4\n",
      "[LightGBM] [Info] [binary:BoostFromScore]: pavg=0.500000 -> initscore=0.000000\n",
      "[LightGBM] [Warning] No further splits with positive gain, best gain: -inf\n",
      "[LightGBM] [Warning] No further splits with positive gain, best gain: -inf\n",
      "[LightGBM] [Warning] No further splits with positive gain, best gain: -inf\n",
      "[LightGBM] [Warning] No further splits with positive gain, best gain: -inf\n",
      "[LightGBM] [Warning] No further splits with positive gain, best gain: -inf\n",
      "[LightGBM] [Warning] No further splits with positive gain, best gain: -inf\n",
      "[LightGBM] [Warning] No further splits with positive gain, best gain: -inf\n",
      "[LightGBM] [Warning] No further splits with positive gain, best gain: -inf\n",
      "[LightGBM] [Warning] No further splits with positive gain, best gain: -inf\n",
      "[LightGBM] [Warning] No further splits with positive gain, best gain: -inf\n",
      "[LightGBM] [Warning] No further splits with positive gain, best gain: -inf\n",
      "[LightGBM] [Warning] No further splits with positive gain, best gain: -inf\n",
      "[LightGBM] [Warning] No further splits with positive gain, best gain: -inf\n",
      "[LightGBM] [Warning] No further splits with positive gain, best gain: -inf\n",
      "[LightGBM] [Warning] No further splits with positive gain, best gain: -inf\n",
      "[LightGBM] [Warning] No further splits with positive gain, best gain: -inf\n",
      "[LightGBM] [Warning] No further splits with positive gain, best gain: -inf\n",
      "[LightGBM] [Warning] No further splits with positive gain, best gain: -inf\n",
      "[LightGBM] [Warning] No further splits with positive gain, best gain: -inf\n",
      "[LightGBM] [Warning] No further splits with positive gain, best gain: -inf\n",
      "[LightGBM] [Warning] No further splits with positive gain, best gain: -inf\n",
      "[LightGBM] [Warning] No further splits with positive gain, best gain: -inf\n",
      "[LightGBM] [Warning] No further splits with positive gain, best gain: -inf\n",
      "[LightGBM] [Warning] No further splits with positive gain, best gain: -inf\n",
      "[LightGBM] [Warning] No further splits with positive gain, best gain: -inf\n",
      "[LightGBM] [Warning] No further splits with positive gain, best gain: -inf\n",
      "[LightGBM] [Warning] No further splits with positive gain, best gain: -inf\n",
      "[LightGBM] [Warning] No further splits with positive gain, best gain: -inf\n",
      "[LightGBM] [Warning] No further splits with positive gain, best gain: -inf\n",
      "[LightGBM] [Warning] No further splits with positive gain, best gain: -inf\n",
      "[LightGBM] [Warning] No further splits with positive gain, best gain: -inf\n",
      "[LightGBM] [Warning] No further splits with positive gain, best gain: -inf\n",
      "[LightGBM] [Warning] No further splits with positive gain, best gain: -inf\n",
      "[LightGBM] [Warning] No further splits with positive gain, best gain: -inf\n",
      "[LightGBM] [Warning] No further splits with positive gain, best gain: -inf\n",
      "[LightGBM] [Warning] No further splits with positive gain, best gain: -inf\n",
      "[LightGBM] [Warning] No further splits with positive gain, best gain: -inf\n",
      "[LightGBM] [Warning] No further splits with positive gain, best gain: -inf\n",
      "[LightGBM] [Warning] No further splits with positive gain, best gain: -inf\n",
      "[LightGBM] [Warning] No further splits with positive gain, best gain: -inf\n",
      "[LightGBM] [Warning] No further splits with positive gain, best gain: -inf\n",
      "[LightGBM] [Warning] No further splits with positive gain, best gain: -inf\n",
      "[LightGBM] [Warning] No further splits with positive gain, best gain: -inf\n",
      "[LightGBM] [Warning] No further splits with positive gain, best gain: -inf\n",
      "[LightGBM] [Warning] No further splits with positive gain, best gain: -inf\n",
      "[LightGBM] [Warning] No further splits with positive gain, best gain: -inf\n",
      "[LightGBM] [Warning] No further splits with positive gain, best gain: -inf\n",
      "[LightGBM] [Warning] No further splits with positive gain, best gain: -inf\n",
      "[LightGBM] [Warning] No further splits with positive gain, best gain: -inf\n",
      "[LightGBM] [Warning] No further splits with positive gain, best gain: -inf\n",
      "[LightGBM] [Warning] No further splits with positive gain, best gain: -inf\n",
      "[LightGBM] [Warning] No further splits with positive gain, best gain: -inf\n",
      "[LightGBM] [Warning] No further splits with positive gain, best gain: -inf\n",
      "[LightGBM] [Warning] No further splits with positive gain, best gain: -inf\n",
      "[LightGBM] [Warning] No further splits with positive gain, best gain: -inf\n",
      "[LightGBM] [Warning] No further splits with positive gain, best gain: -inf\n",
      "[LightGBM] [Warning] No further splits with positive gain, best gain: -inf\n",
      "[LightGBM] [Warning] No further splits with positive gain, best gain: -inf\n",
      "[LightGBM] [Warning] No further splits with positive gain, best gain: -inf\n",
      "[LightGBM] [Warning] No further splits with positive gain, best gain: -inf\n",
      "[LightGBM] [Warning] No further splits with positive gain, best gain: -inf\n",
      "[LightGBM] [Warning] No further splits with positive gain, best gain: -inf\n",
      "[LightGBM] [Warning] No further splits with positive gain, best gain: -inf\n",
      "[LightGBM] [Warning] No further splits with positive gain, best gain: -inf\n",
      "[LightGBM] [Warning] No further splits with positive gain, best gain: -inf\n",
      "[LightGBM] [Warning] No further splits with positive gain, best gain: -inf\n",
      "[LightGBM] [Warning] No further splits with positive gain, best gain: -inf\n",
      "[LightGBM] [Warning] No further splits with positive gain, best gain: -inf\n",
      "[LightGBM] [Warning] No further splits with positive gain, best gain: -inf\n",
      "[LightGBM] [Warning] No further splits with positive gain, best gain: -inf\n",
      "[LightGBM] [Warning] No further splits with positive gain, best gain: -inf\n",
      "[LightGBM] [Warning] No further splits with positive gain, best gain: -inf\n",
      "[LightGBM] [Warning] No further splits with positive gain, best gain: -inf\n",
      "[LightGBM] [Warning] No further splits with positive gain, best gain: -inf\n",
      "[LightGBM] [Warning] No further splits with positive gain, best gain: -inf\n",
      "[LightGBM] [Warning] No further splits with positive gain, best gain: -inf\n",
      "[LightGBM] [Warning] No further splits with positive gain, best gain: -inf\n",
      "[LightGBM] [Warning] No further splits with positive gain, best gain: -inf\n",
      "[LightGBM] [Warning] No further splits with positive gain, best gain: -inf\n",
      "[LightGBM] [Warning] No further splits with positive gain, best gain: -inf\n",
      "[LightGBM] [Warning] No further splits with positive gain, best gain: -inf\n",
      "[LightGBM] [Warning] No further splits with positive gain, best gain: -inf\n",
      "[LightGBM] [Warning] No further splits with positive gain, best gain: -inf\n",
      "[LightGBM] [Warning] No further splits with positive gain, best gain: -inf\n",
      "[LightGBM] [Warning] No further splits with positive gain, best gain: -inf\n",
      "[LightGBM] [Warning] No further splits with positive gain, best gain: -inf\n",
      "[LightGBM] [Warning] No further splits with positive gain, best gain: -inf\n",
      "[LightGBM] [Warning] No further splits with positive gain, best gain: -inf\n",
      "[LightGBM] [Warning] No further splits with positive gain, best gain: -inf\n",
      "[LightGBM] [Warning] No further splits with positive gain, best gain: -inf\n",
      "[LightGBM] [Warning] No further splits with positive gain, best gain: -inf\n",
      "[LightGBM] [Warning] No further splits with positive gain, best gain: -inf\n",
      "[LightGBM] [Warning] No further splits with positive gain, best gain: -inf\n",
      "[LightGBM] [Warning] No further splits with positive gain, best gain: -inf\n",
      "[LightGBM] [Warning] No further splits with positive gain, best gain: -inf\n",
      "[LightGBM] [Warning] No further splits with positive gain, best gain: -inf\n",
      "[LightGBM] [Warning] No further splits with positive gain, best gain: -inf\n",
      "[LightGBM] [Warning] No further splits with positive gain, best gain: -inf\n",
      "[LightGBM] [Warning] No further splits with positive gain, best gain: -inf\n",
      "                               Accuracy  Balanced Accuracy  ROC AUC  F1 Score  \\\n",
      "Model                                                                           \n",
      "AdaBoostClassifier                 1.00               1.00     1.00      1.00   \n",
      "BaggingClassifier                  1.00               1.00     1.00      1.00   \n",
      "XGBClassifier                      1.00               1.00     1.00      1.00   \n",
      "SVC                                1.00               1.00     1.00      1.00   \n",
      "RidgeClassifierCV                  1.00               1.00     1.00      1.00   \n",
      "RidgeClassifier                    1.00               1.00     1.00      1.00   \n",
      "RandomForestClassifier             1.00               1.00     1.00      1.00   \n",
      "Perceptron                         1.00               1.00     1.00      1.00   \n",
      "PassiveAggressiveClassifier        1.00               1.00     1.00      1.00   \n",
      "NuSVC                              1.00               1.00     1.00      1.00   \n",
      "NearestCentroid                    1.00               1.00     1.00      1.00   \n",
      "LogisticRegression                 1.00               1.00     1.00      1.00   \n",
      "LinearSVC                          1.00               1.00     1.00      1.00   \n",
      "LinearDiscriminantAnalysis         1.00               1.00     1.00      1.00   \n",
      "LabelSpreading                     1.00               1.00     1.00      1.00   \n",
      "LabelPropagation                   1.00               1.00     1.00      1.00   \n",
      "KNeighborsClassifier               1.00               1.00     1.00      1.00   \n",
      "ExtraTreesClassifier               1.00               1.00     1.00      1.00   \n",
      "ExtraTreeClassifier                1.00               1.00     1.00      1.00   \n",
      "DecisionTreeClassifier             1.00               1.00     1.00      1.00   \n",
      "CalibratedClassifierCV             1.00               1.00     1.00      1.00   \n",
      "LGBMClassifier                     1.00               1.00     1.00      1.00   \n",
      "GaussianNB                         1.00               1.00     1.00      1.00   \n",
      "QuadraticDiscriminantAnalysis      1.00               1.00     1.00      1.00   \n",
      "SGDClassifier                      1.00               1.00     1.00      1.00   \n",
      "BernoulliNB                        1.00               1.00     1.00      1.00   \n",
      "DummyClassifier                    0.99               0.50     0.50      0.99   \n",
      "\n",
      "                               Time Taken  \n",
      "Model                                      \n",
      "AdaBoostClassifier                   1.28  \n",
      "BaggingClassifier                    0.23  \n",
      "XGBClassifier                        0.13  \n",
      "SVC                                  0.09  \n",
      "RidgeClassifierCV                    0.03  \n",
      "RidgeClassifier                      0.03  \n",
      "RandomForestClassifier               1.32  \n",
      "Perceptron                           0.02  \n",
      "PassiveAggressiveClassifier          0.04  \n",
      "NuSVC                               20.54  \n",
      "NearestCentroid                      0.03  \n",
      "LogisticRegression                   0.07  \n",
      "LinearSVC                            0.05  \n",
      "LinearDiscriminantAnalysis           0.08  \n",
      "LabelSpreading                      40.55  \n",
      "LabelPropagation                    19.66  \n",
      "KNeighborsClassifier                 0.15  \n",
      "ExtraTreesClassifier                 0.32  \n",
      "ExtraTreeClassifier                  0.02  \n",
      "DecisionTreeClassifier               0.04  \n",
      "CalibratedClassifierCV               0.20  \n",
      "LGBMClassifier                       0.12  \n",
      "GaussianNB                           0.04  \n",
      "QuadraticDiscriminantAnalysis        0.03  \n",
      "SGDClassifier                        0.02  \n",
      "BernoulliNB                          0.02  \n",
      "DummyClassifier                      0.02  \n"
     ]
    },
    {
     "name": "stderr",
     "output_type": "stream",
     "text": [
      "\n"
     ]
    }
   ],
   "source": [
    "import lazypredict\n",
    "from lazypredict.Supervised import LazyClassifier\n",
    "\n",
    "clf = LazyClassifier(verbose=0,predictions=True, ignore_warnings=True, custom_metric=None)\n",
    "models,predictions = clf.fit(X_train, X_test, y_train, y_test)\n",
    "\n",
    "print(models)"
   ]
  },
  {
   "cell_type": "code",
   "execution_count": 46,
   "id": "49daab94",
   "metadata": {},
   "outputs": [
    {
     "name": "stdout",
     "output_type": "stream",
     "text": [
      "Logistic Regression - Accuracy: 1.0, Precision: 1.0, Recall: 1.0, F1 Score: 1.0\n",
      "Random Forest - Accuracy: 1.0, Precision: 1.0, Recall: 1.0, F1 Score: 1.0\n",
      "SVM - Accuracy: 1.0, Precision: 1.0, Recall: 1.0, F1 Score: 1.0\n",
      "Gradient Boosting - Accuracy: 1.0, Precision: 1.0, Recall: 1.0, F1 Score: 1.0\n"
     ]
    }
   ],
   "source": [
    "from sklearn.metrics import accuracy_score, precision_score, recall_score, f1_score\n",
    "from sklearn.linear_model import LogisticRegression\n",
    "from sklearn.ensemble import RandomForestClassifier\n",
    "from sklearn.svm import SVC\n",
    "from sklearn.ensemble import GradientBoostingClassifier\n",
    "\n",
    "# Define models\n",
    "models = {\n",
    "    'Logistic Regression': LogisticRegression(),\n",
    "    'Random Forest': RandomForestClassifier(),\n",
    "    'SVM': SVC(),\n",
    "    'Gradient Boosting': GradientBoostingClassifier()\n",
    "}\n",
    "\n",
    "# Train and evaluate each model\n",
    "for name, model in models.items():\n",
    "    model.fit(X_train, y_train)\n",
    "    y_pred = model.predict(X_test)\n",
    "    print(f'{name} - Accuracy: {accuracy_score(y_test, y_pred)}, Precision: {precision_score(y_test, y_pred)}, Recall: {recall_score(y_test, y_pred)}, F1 Score: {f1_score(y_test, y_pred)}')\n"
   ]
  },
  {
   "cell_type": "code",
   "execution_count": null,
   "id": "977f54ac",
   "metadata": {},
   "outputs": [],
   "source": []
  },
  {
   "cell_type": "code",
   "execution_count": 60,
   "id": "dcbfd63a",
   "metadata": {},
   "outputs": [],
   "source": [
    "# Assuming RandomForest performs the best\n",
    "best_model = RandomForestClassifier()\n",
    "best_model.fit(X_train, y_train)\n",
    "threshold =  0.5\n",
    "\n",
    "# Predict probabilities\n",
    "probabilities = best_model.predict_proba(X_test)[:, 1]  # Probability of being a favorite\n",
    "\n",
    "# Recommend songs with the highest probabilities\n",
    "recommendations = X_test[probabilities > threshold]  # Set a threshold\n"
   ]
  },
  {
   "cell_type": "code",
   "execution_count": 61,
   "id": "6c3359f4",
   "metadata": {},
   "outputs": [],
   "source": [
    "# Choose and train your model (e.g., Random Forest)\n",
    "model = RandomForestClassifier()\n",
    "model.fit(X_train, y_train)\n",
    "\n",
    "# Predict probabilities for the test set\n",
    "probabilities = model.predict_proba(X_test)[:, 1]\n"
   ]
  },
  {
   "cell_type": "code",
   "execution_count": 62,
   "id": "95388725",
   "metadata": {},
   "outputs": [
    {
     "name": "stdout",
     "output_type": "stream",
     "text": [
      "['0nAZGkBGKQCXyaoSJfRhC1', '27GmP9AWRs744SzKcpJsTZ', '43CIWpJaJHRcI4mUSjqgc2', '6dkffLWo31KnXmwCLsgA2K', '3JWh19WsndEFg0UFRFeTiU', '1kBgQ2cBNONDo7ABrvmRfu', '17IBDpAl3J39swaoPlfGpp', '1L0OmJV0LnPDWuHCIGmBV6', '40EXFgNMOIQRQOwJZ8mJkC', '2YSzYUF3jWqb9YP9VXmpjE', '6rjuKpPydT2SxN15TZpV7r', '4aMxs74PXoQg2SLgjypcvb', '3LtpKP5abr2qqjunvjlX5i', '3oZZfVvLJuDYc4Vn3A63Fw', '3aQem4jVGdhtg116TmJnHz', '1cByP16xx3Bikp74r1TW5f', '6jy9yJfgCsMHdu2Oz4BGKX', '05nbZ1xxVNwUTcGwLbp7CN', '4rXLjWdF2ZZpXCVTfWcshS', '0xl1w2q4VLojeXp4JfazPL']\n"
     ]
    }
   ],
   "source": [
    "# Create a DataFrame with track IDs and probabilities\n",
    "recommendations_df = pd.DataFrame({\n",
    "    'track_id': track_ids_test,\n",
    "    'probability': probabilities\n",
    "})\n",
    "\n",
    "# Set a threshold for recommendations\n",
    "threshold = 0.5  # adjust as needed\n",
    "\n",
    "# Filter for recommended songs\n",
    "recommended_songs = recommendations_df[recommendations_df['probability'] > threshold]\n",
    "\n",
    "# Output the track IDs of recommended songs\n",
    "recommended_track_ids = recommended_songs['track_id'].tolist()\n",
    "print(recommended_track_ids)\n"
   ]
  },
  {
   "cell_type": "code",
   "execution_count": 63,
   "id": "9810dba0",
   "metadata": {},
   "outputs": [
    {
     "data": {
      "text/plain": [
       "['0nAZGkBGKQCXyaoSJfRhC1',\n",
       " '27GmP9AWRs744SzKcpJsTZ',\n",
       " '43CIWpJaJHRcI4mUSjqgc2',\n",
       " '6dkffLWo31KnXmwCLsgA2K',\n",
       " '3JWh19WsndEFg0UFRFeTiU',\n",
       " '1kBgQ2cBNONDo7ABrvmRfu',\n",
       " '17IBDpAl3J39swaoPlfGpp',\n",
       " '1L0OmJV0LnPDWuHCIGmBV6',\n",
       " '40EXFgNMOIQRQOwJZ8mJkC',\n",
       " '2YSzYUF3jWqb9YP9VXmpjE',\n",
       " '6rjuKpPydT2SxN15TZpV7r',\n",
       " '4aMxs74PXoQg2SLgjypcvb',\n",
       " '3LtpKP5abr2qqjunvjlX5i',\n",
       " '3oZZfVvLJuDYc4Vn3A63Fw',\n",
       " '3aQem4jVGdhtg116TmJnHz',\n",
       " '1cByP16xx3Bikp74r1TW5f',\n",
       " '6jy9yJfgCsMHdu2Oz4BGKX',\n",
       " '05nbZ1xxVNwUTcGwLbp7CN',\n",
       " '4rXLjWdF2ZZpXCVTfWcshS',\n",
       " '0xl1w2q4VLojeXp4JfazPL']"
      ]
     },
     "execution_count": 63,
     "metadata": {},
     "output_type": "execute_result"
    }
   ],
   "source": [
    "recommended_track_ids"
   ]
  },
  {
   "cell_type": "code",
   "execution_count": null,
   "id": "c503e87c",
   "metadata": {},
   "outputs": [],
   "source": []
  },
  {
   "cell_type": "code",
   "execution_count": null,
   "id": "8cdc83ff",
   "metadata": {},
   "outputs": [],
   "source": []
  },
  {
   "cell_type": "code",
   "execution_count": null,
   "id": "0e3cdb20",
   "metadata": {},
   "outputs": [],
   "source": [
    "from sklearn.model_selection import train_test_split\n",
    "from sklearn.metrics import accuracy_score, precision_score, recall_score, f1_score\n",
    "from sklearn.ensemble import RandomForestClassifier\n",
    "# Other imports for different ML models...\n",
    "\n",
    "# Load the cosine similarity matrix\n",
    "cosine_sim_loaded = np.load('path_to_saved_matrix/cosine_similarity_matrix.npy')\n",
    "\n",
    "# Example: Using cosine similarity scores as features\n",
    "# Let's say each item is represented by its similarity scores to all other items\n",
    "X = cosine_sim_loaded\n",
    "y = your_data['favorite']  # Replace with your target variable\n",
    "\n",
    "# Split the dataset\n",
    "X_train, X_test, y_train, y_test = train_test_split(X, y, test_size=0.2, random_state=42)\n",
    "\n",
    "# Initialize and train a model (example: Random Forest)\n",
    "model = RandomForestClassifier()\n",
    "model.fit(X_train, y_train)\n",
    "\n",
    "# Predict on the test set\n",
    "y_pred = model.predict(X_test)\n",
    "\n",
    "# Evaluate the model\n",
    "accuracy = accuracy_score(y_test, y_pred)\n",
    "precision = precision_score(y_test, y_pred)\n",
    "recall = recall_score(y_test, y_pred)\n",
    "f1 = f1_score(y_test, y_pred)\n",
    "\n",
    "# Print the performance metrics\n",
    "print(f\"Accuracy: {accuracy}, Precision: {precision}, Recall: {recall}, F1 Score: {f1}\")\n"
   ]
  },
  {
   "cell_type": "code",
   "execution_count": null,
   "id": "976dead8",
   "metadata": {},
   "outputs": [],
   "source": []
  },
  {
   "cell_type": "code",
   "execution_count": null,
   "id": "d86c5428",
   "metadata": {},
   "outputs": [],
   "source": []
  },
  {
   "cell_type": "code",
   "execution_count": null,
   "id": "d099ae34",
   "metadata": {},
   "outputs": [],
   "source": []
  },
  {
   "cell_type": "code",
   "execution_count": null,
   "id": "22a834aa",
   "metadata": {},
   "outputs": [],
   "source": []
  },
  {
   "cell_type": "code",
   "execution_count": null,
   "id": "e2fe6bb4",
   "metadata": {},
   "outputs": [],
   "source": []
  },
  {
   "cell_type": "code",
   "execution_count": null,
   "id": "dd32941b",
   "metadata": {},
   "outputs": [],
   "source": []
  },
  {
   "cell_type": "code",
   "execution_count": null,
   "id": "403528f0",
   "metadata": {},
   "outputs": [],
   "source": []
  },
  {
   "cell_type": "code",
   "execution_count": null,
   "id": "cd410809",
   "metadata": {},
   "outputs": [],
   "source": []
  },
  {
   "cell_type": "code",
   "execution_count": null,
   "id": "3335a375",
   "metadata": {},
   "outputs": [],
   "source": []
  },
  {
   "cell_type": "markdown",
   "id": "d0935ad9",
   "metadata": {},
   "source": [
    "#### track_id to song name "
   ]
  },
  {
   "cell_type": "code",
   "execution_count": 65,
   "id": "8029da23",
   "metadata": {},
   "outputs": [],
   "source": [
    "# Declare the credentials\n",
    "client_id = '2a7adde1b07a4bf9a5fd750d6ff6f28d'\n",
    "client_secret = '74a5c5859a0548ccae791419cc29c8fa'\n",
    "redirect_uri='http://localhost:7777/callback'\n",
    "username = 'ethan.falcao'\n",
    "# Authorization flow\n",
    "scope = 'user-top-read'\n",
    "token = util.prompt_for_user_token(username, scope, client_id=client_id, client_secret=client_secret, redirect_uri=redirect_uri)\n",
    "\n",
    "if token:\n",
    "    sp = spotipy.Spotify(auth=token)\n",
    "else:\n",
    "    print(\"Can't get token for\", username)"
   ]
  },
  {
   "cell_type": "code",
   "execution_count": 66,
   "id": "6107e274",
   "metadata": {},
   "outputs": [],
   "source": [
    "import requests\n",
    "def get_track_info(track_id, token):\n",
    "    url = f'https://api.spotify.com/v1/tracks/{track_id}'\n",
    "    headers = {\n",
    "        'Authorization': f'Bearer {token}',\n",
    "    }\n",
    "    response = requests.get(url, headers=headers)\n",
    "    return response.json()"
   ]
  },
  {
   "cell_type": "code",
   "execution_count": 67,
   "id": "51205905",
   "metadata": {},
   "outputs": [
    {
     "name": "stdout",
     "output_type": "stream",
     "text": [
      "A Keeper\n",
      "Jumpman\n",
      "Bad Boy (with Young Thug)\n",
      "Gist\n",
      "Minute\n",
      "Sidenote\n",
      "Another Late Night (feat. Lil Yachty)\n",
      "On The Radar Freestyle\n",
      "Who Told You (feat. Drake)\n",
      "IDGAF (feat. Yeat)\n",
      "500lbs\n",
      "Turban\n",
      "Doja\n",
      "Polar Opposites\n",
      "What’s Next\n",
      "Hëavyweight\n",
      "Papi’s Home\n",
      "Myself\n",
      "fukumean\n",
      "Sacrifices\n"
     ]
    }
   ],
   "source": [
    "track_ids = recommended_track_ids\n",
    "for track_id in track_ids:\n",
    "    track_info = get_track_info(track_id, token)\n",
    "    print(track_info['name'])\n"
   ]
  },
  {
   "cell_type": "code",
   "execution_count": null,
   "id": "f37b89a7",
   "metadata": {},
   "outputs": [],
   "source": []
  },
  {
   "cell_type": "code",
   "execution_count": null,
   "id": "97c0c08e",
   "metadata": {},
   "outputs": [],
   "source": []
  },
  {
   "cell_type": "code",
   "execution_count": null,
   "id": "d4b21a8e",
   "metadata": {},
   "outputs": [],
   "source": []
  },
  {
   "cell_type": "code",
   "execution_count": null,
   "id": "78cbcedc",
   "metadata": {},
   "outputs": [],
   "source": []
  },
  {
   "cell_type": "code",
   "execution_count": null,
   "id": "7dbdcf87",
   "metadata": {},
   "outputs": [],
   "source": []
  },
  {
   "cell_type": "code",
   "execution_count": null,
   "id": "6320b91c",
   "metadata": {},
   "outputs": [],
   "source": []
  },
  {
   "cell_type": "markdown",
   "id": "0ede39d0",
   "metadata": {},
   "source": [
    "### Train & Testing data set "
   ]
  },
  {
   "cell_type": "code",
   "execution_count": 27,
   "id": "44a34e08",
   "metadata": {},
   "outputs": [
    {
     "name": "stdout",
     "output_type": "stream",
     "text": [
      "(10075,)\n",
      "(2519,)\n"
     ]
    }
   ],
   "source": [
    "# Shuffle your dataset \n",
    "shuffle_df = df.sample(frac=1)\n",
    "\n",
    "# Split the data into training and testing sets\n",
    "X_train, X_test, y_train, y_test = train_test_split(X, y, test_size=0.2, random_state=42)\n",
    "\n",
    "# Scale the features\n",
    "scaler = StandardScaler()\n",
    "X_train = scaler.fit_transform(X_train)\n",
    "X_test = scaler.transform(X_test)\n",
    "\n",
    "print(y_train.shape)\n",
    "print(y_test.shape)"
   ]
  },
  {
   "cell_type": "code",
   "execution_count": 28,
   "id": "fa3bee0e",
   "metadata": {},
   "outputs": [
    {
     "data": {
      "text/plain": [
       "array([[ 0.12604664, -1.4274222 , -0.93266627, ..., -1.37343819,\n",
       "        -1.18360404, -0.04340723],\n",
       "       [-0.0131337 , -1.47689497,  0.54698844, ..., -0.802509  ,\n",
       "         0.2664497 , -0.043406  ],\n",
       "       [-0.47055525,  1.62102266, -0.17055922, ...,  1.13514828,\n",
       "         0.71913583, -0.043359  ],\n",
       "       ...,\n",
       "       [-0.53727231,  0.00812658,  1.00142351, ...,  0.250146  ,\n",
       "         1.02310471, -0.04340711],\n",
       "       [ 0.8796991 , -1.30667511, -1.08544133, ..., -1.29361012,\n",
       "        -0.11879787, -0.04340723],\n",
       "       [-0.82818581,  0.18170053,  1.29176685, ..., -1.24976673,\n",
       "         0.11564508, -0.04340718]])"
      ]
     },
     "execution_count": 28,
     "metadata": {},
     "output_type": "execute_result"
    }
   ],
   "source": [
    "X_train"
   ]
  },
  {
   "cell_type": "code",
   "execution_count": 29,
   "id": "806f6c39",
   "metadata": {},
   "outputs": [],
   "source": [
    "#make sure the columns are assigned correctly \n",
    "#X_train = pd.DataFrame(X_train, columns=['album', 'artists', 'length', 'danceability', 'tempo', 'energy', 'acousticness', 'time_signature'])\n",
    "#X_test = pd.DataFrame(X_test, columns=['album', 'artists', 'length', 'danceability', 'tempo', 'energy', 'acousticness', 'time_signature'])\n",
    "#"
   ]
  },
  {
   "cell_type": "code",
   "execution_count": 30,
   "id": "746768cf",
   "metadata": {},
   "outputs": [],
   "source": [
    "#X_train.head(3)"
   ]
  },
  {
   "cell_type": "markdown",
   "id": "26348b4a",
   "metadata": {},
   "source": [
    "##### fix the imbalanced data set "
   ]
  },
  {
   "cell_type": "code",
   "execution_count": 31,
   "id": "2f691940",
   "metadata": {},
   "outputs": [],
   "source": [
    "#from imblearn.over_sampling import SMOTE\n",
    "# Train / Split Data\n",
    "#oversample = SMOTE()\n",
    "\n",
    "#X_train, y_train = oversample.fit_resample(X, y) "
   ]
  },
  {
   "cell_type": "code",
   "execution_count": 32,
   "id": "2ec3b6ab",
   "metadata": {},
   "outputs": [],
   "source": [
    "from imblearn.over_sampling import BorderlineSMOTE\n",
    "\n",
    "bsmote = BorderlineSMOTE(random_state = 42) \n",
    "X_train, y_train = bsmote.fit_resample(X, y) "
   ]
  },
  {
   "cell_type": "code",
   "execution_count": 33,
   "id": "bea3f74f",
   "metadata": {},
   "outputs": [
    {
     "data": {
      "text/plain": [
       "favorite\n",
       "0    12476\n",
       "1    12476\n",
       "Name: count, dtype: int64"
      ]
     },
     "execution_count": 33,
     "metadata": {},
     "output_type": "execute_result"
    }
   ],
   "source": [
    "y_train.value_counts()"
   ]
  },
  {
   "cell_type": "code",
   "execution_count": 34,
   "id": "2cac296b",
   "metadata": {},
   "outputs": [
    {
     "data": {
      "text/plain": [
       "favorite\n",
       "0    2499\n",
       "1      20\n",
       "Name: count, dtype: int64"
      ]
     },
     "execution_count": 34,
     "metadata": {},
     "output_type": "execute_result"
    }
   ],
   "source": [
    "y_test.value_counts()"
   ]
  },
  {
   "cell_type": "code",
   "execution_count": 35,
   "id": "95b8cb07",
   "metadata": {},
   "outputs": [
    {
     "name": "stdout",
     "output_type": "stream",
     "text": [
      "(24952, 21)\n",
      "(24952,)\n",
      "(2519, 21)\n",
      "(2519,)\n"
     ]
    }
   ],
   "source": [
    "print(X_train.shape)\n",
    "print(y_train.shape)\n",
    "print(X_test.shape)\n",
    "print(y_test.shape)"
   ]
  },
  {
   "cell_type": "markdown",
   "id": "a1caa78e",
   "metadata": {},
   "source": [
    "## ML Algo"
   ]
  },
  {
   "cell_type": "code",
   "execution_count": 36,
   "id": "1aa565e5",
   "metadata": {},
   "outputs": [
    {
     "name": "stderr",
     "output_type": "stream",
     "text": [
      "100%|██████████| 29/29 [02:26<00:00,  5.07s/it]"
     ]
    },
    {
     "name": "stdout",
     "output_type": "stream",
     "text": [
      "[LightGBM] [Info] Number of positive: 12476, number of negative: 12476\n",
      "[LightGBM] [Info] Auto-choosing row-wise multi-threading, the overhead of testing was 0.001068 seconds.\n",
      "You can set `force_row_wise=true` to remove the overhead.\n",
      "And if memory is not enough, you can set `force_col_wise=true`.\n",
      "[LightGBM] [Info] Total Bins 4877\n",
      "[LightGBM] [Info] Number of data points in the train set: 24952, number of used features: 21\n",
      "[LightGBM] [Info] [binary:BoostFromScore]: pavg=0.500000 -> initscore=0.000000\n",
      "[LightGBM] [Warning] No further splits with positive gain, best gain: -inf\n",
      "[LightGBM] [Warning] No further splits with positive gain, best gain: -inf\n",
      "[LightGBM] [Warning] No further splits with positive gain, best gain: -inf\n",
      "[LightGBM] [Warning] No further splits with positive gain, best gain: -inf\n",
      "[LightGBM] [Warning] No further splits with positive gain, best gain: -inf\n",
      "[LightGBM] [Warning] No further splits with positive gain, best gain: -inf\n",
      "[LightGBM] [Warning] No further splits with positive gain, best gain: -inf\n",
      "[LightGBM] [Warning] No further splits with positive gain, best gain: -inf\n",
      "[LightGBM] [Warning] No further splits with positive gain, best gain: -inf\n",
      "[LightGBM] [Warning] No further splits with positive gain, best gain: -inf\n",
      "[LightGBM] [Warning] No further splits with positive gain, best gain: -inf\n",
      "[LightGBM] [Warning] No further splits with positive gain, best gain: -inf\n",
      "[LightGBM] [Warning] No further splits with positive gain, best gain: -inf\n",
      "[LightGBM] [Warning] No further splits with positive gain, best gain: -inf\n",
      "[LightGBM] [Warning] No further splits with positive gain, best gain: -inf\n",
      "[LightGBM] [Warning] No further splits with positive gain, best gain: -inf\n",
      "[LightGBM] [Warning] No further splits with positive gain, best gain: -inf\n",
      "[LightGBM] [Warning] No further splits with positive gain, best gain: -inf\n",
      "[LightGBM] [Warning] No further splits with positive gain, best gain: -inf\n",
      "[LightGBM] [Warning] No further splits with positive gain, best gain: -inf\n",
      "[LightGBM] [Warning] No further splits with positive gain, best gain: -inf\n",
      "[LightGBM] [Warning] No further splits with positive gain, best gain: -inf\n",
      "[LightGBM] [Warning] No further splits with positive gain, best gain: -inf\n",
      "[LightGBM] [Warning] No further splits with positive gain, best gain: -inf\n",
      "[LightGBM] [Warning] No further splits with positive gain, best gain: -inf\n",
      "[LightGBM] [Warning] No further splits with positive gain, best gain: -inf\n",
      "[LightGBM] [Warning] No further splits with positive gain, best gain: -inf\n",
      "[LightGBM] [Warning] No further splits with positive gain, best gain: -inf\n",
      "[LightGBM] [Warning] No further splits with positive gain, best gain: -inf\n",
      "[LightGBM] [Warning] No further splits with positive gain, best gain: -inf\n",
      "[LightGBM] [Warning] No further splits with positive gain, best gain: -inf\n",
      "[LightGBM] [Warning] No further splits with positive gain, best gain: -inf\n",
      "[LightGBM] [Warning] No further splits with positive gain, best gain: -inf\n",
      "[LightGBM] [Warning] No further splits with positive gain, best gain: -inf\n",
      "[LightGBM] [Warning] No further splits with positive gain, best gain: -inf\n",
      "[LightGBM] [Warning] No further splits with positive gain, best gain: -inf\n",
      "[LightGBM] [Warning] No further splits with positive gain, best gain: -inf\n",
      "[LightGBM] [Warning] No further splits with positive gain, best gain: -inf\n",
      "[LightGBM] [Warning] No further splits with positive gain, best gain: -inf\n",
      "[LightGBM] [Warning] No further splits with positive gain, best gain: -inf\n",
      "[LightGBM] [Warning] No further splits with positive gain, best gain: -inf\n",
      "[LightGBM] [Warning] No further splits with positive gain, best gain: -inf\n",
      "[LightGBM] [Warning] No further splits with positive gain, best gain: -inf\n",
      "[LightGBM] [Warning] No further splits with positive gain, best gain: -inf\n",
      "[LightGBM] [Warning] No further splits with positive gain, best gain: -inf\n",
      "[LightGBM] [Warning] No further splits with positive gain, best gain: -inf\n",
      "[LightGBM] [Warning] No further splits with positive gain, best gain: -inf\n",
      "[LightGBM] [Warning] No further splits with positive gain, best gain: -inf\n",
      "[LightGBM] [Warning] No further splits with positive gain, best gain: -inf\n",
      "[LightGBM] [Warning] No further splits with positive gain, best gain: -inf\n",
      "[LightGBM] [Warning] No further splits with positive gain, best gain: -inf\n",
      "[LightGBM] [Warning] No further splits with positive gain, best gain: -inf\n",
      "[LightGBM] [Warning] No further splits with positive gain, best gain: -inf\n",
      "[LightGBM] [Warning] No further splits with positive gain, best gain: -inf\n",
      "[LightGBM] [Warning] No further splits with positive gain, best gain: -inf\n",
      "[LightGBM] [Warning] No further splits with positive gain, best gain: -inf\n",
      "[LightGBM] [Warning] No further splits with positive gain, best gain: -inf\n",
      "[LightGBM] [Warning] No further splits with positive gain, best gain: -inf\n",
      "[LightGBM] [Warning] No further splits with positive gain, best gain: -inf\n",
      "[LightGBM] [Warning] No further splits with positive gain, best gain: -inf\n",
      "[LightGBM] [Warning] No further splits with positive gain, best gain: -inf\n",
      "[LightGBM] [Warning] No further splits with positive gain, best gain: -inf\n",
      "[LightGBM] [Warning] No further splits with positive gain, best gain: -inf\n",
      "[LightGBM] [Warning] No further splits with positive gain, best gain: -inf\n",
      "[LightGBM] [Warning] No further splits with positive gain, best gain: -inf\n",
      "[LightGBM] [Warning] No further splits with positive gain, best gain: -inf\n",
      "[LightGBM] [Warning] No further splits with positive gain, best gain: -inf\n",
      "[LightGBM] [Warning] No further splits with positive gain, best gain: -inf\n",
      "[LightGBM] [Warning] No further splits with positive gain, best gain: -inf\n",
      "[LightGBM] [Warning] No further splits with positive gain, best gain: -inf\n",
      "[LightGBM] [Warning] No further splits with positive gain, best gain: -inf\n",
      "[LightGBM] [Warning] No further splits with positive gain, best gain: -inf\n",
      "[LightGBM] [Warning] No further splits with positive gain, best gain: -inf\n",
      "[LightGBM] [Warning] No further splits with positive gain, best gain: -inf\n",
      "[LightGBM] [Warning] No further splits with positive gain, best gain: -inf\n",
      "[LightGBM] [Warning] No further splits with positive gain, best gain: -inf\n",
      "[LightGBM] [Warning] No further splits with positive gain, best gain: -inf\n",
      "[LightGBM] [Warning] No further splits with positive gain, best gain: -inf\n",
      "[LightGBM] [Warning] No further splits with positive gain, best gain: -inf\n",
      "[LightGBM] [Warning] No further splits with positive gain, best gain: -inf\n",
      "[LightGBM] [Warning] No further splits with positive gain, best gain: -inf\n",
      "[LightGBM] [Warning] No further splits with positive gain, best gain: -inf\n",
      "[LightGBM] [Warning] No further splits with positive gain, best gain: -inf\n",
      "[LightGBM] [Warning] No further splits with positive gain, best gain: -inf\n",
      "[LightGBM] [Warning] No further splits with positive gain, best gain: -inf\n",
      "[LightGBM] [Warning] No further splits with positive gain, best gain: -inf\n",
      "[LightGBM] [Warning] No further splits with positive gain, best gain: -inf\n",
      "[LightGBM] [Warning] No further splits with positive gain, best gain: -inf\n",
      "[LightGBM] [Warning] No further splits with positive gain, best gain: -inf\n",
      "[LightGBM] [Warning] No further splits with positive gain, best gain: -inf\n",
      "[LightGBM] [Warning] No further splits with positive gain, best gain: -inf\n",
      "[LightGBM] [Warning] No further splits with positive gain, best gain: -inf\n",
      "[LightGBM] [Warning] No further splits with positive gain, best gain: -inf\n",
      "[LightGBM] [Warning] No further splits with positive gain, best gain: -inf\n",
      "[LightGBM] [Warning] No further splits with positive gain, best gain: -inf\n",
      "[LightGBM] [Warning] No further splits with positive gain, best gain: -inf\n",
      "[LightGBM] [Warning] No further splits with positive gain, best gain: -inf\n",
      "[LightGBM] [Warning] No further splits with positive gain, best gain: -inf\n",
      "[LightGBM] [Warning] No further splits with positive gain, best gain: -inf\n",
      "[LightGBM] [Warning] No further splits with positive gain, best gain: -inf\n",
      "Empty DataFrame\n",
      "Columns: [Accuracy, Balanced Accuracy, ROC AUC, F1 Score, Time Taken]\n",
      "Index: []\n"
     ]
    },
    {
     "name": "stderr",
     "output_type": "stream",
     "text": [
      "\n"
     ]
    }
   ],
   "source": [
    "import lazypredict\n",
    "from lazypredict.Supervised import LazyClassifier\n",
    "\n",
    "clf = LazyClassifier(verbose=0,predictions=True, ignore_warnings=True, custom_metric=None)\n",
    "models,predictions = clf.fit(X_train, X_test, y_train, y_test)\n",
    "\n",
    "print(models)"
   ]
  },
  {
   "cell_type": "markdown",
   "id": "6355afec",
   "metadata": {},
   "source": [
    "### KNN's  "
   ]
  },
  {
   "cell_type": "code",
   "execution_count": 36,
   "id": "f6e1cdfc",
   "metadata": {},
   "outputs": [
    {
     "ename": "NameError",
     "evalue": "name 'components' is not defined",
     "output_type": "error",
     "traceback": [
      "\u001b[1;31m---------------------------------------------------------------------------\u001b[0m",
      "\u001b[1;31mNameError\u001b[0m                                 Traceback (most recent call last)",
      "\u001b[1;32mc:\\Users\\ethan\\Documents\\Spotify_recommendations\\Github_pull\\github\\Spotify_Reccommendation_Algorithm\\model_selection.ipynb Cell 23\u001b[0m line \u001b[0;36m7\n\u001b[0;32m      <a href='vscode-notebook-cell:/c%3A/Users/ethan/Documents/Spotify_recommendations/Github_pull/github/Spotify_Reccommendation_Algorithm/model_selection.ipynb#X31sZmlsZQ%3D%3D?line=3'>4</a>\u001b[0m feature_names \u001b[39m=\u001b[39m X\u001b[39m.\u001b[39mcolumns  \u001b[39m# Assuming 'df' is your DataFrame\u001b[39;00m\n\u001b[0;32m      <a href='vscode-notebook-cell:/c%3A/Users/ethan/Documents/Spotify_recommendations/Github_pull/github/Spotify_Reccommendation_Algorithm/model_selection.ipynb#X31sZmlsZQ%3D%3D?line=5'>6</a>\u001b[0m \u001b[39m# Get the indices of the top features in each principal component\u001b[39;00m\n\u001b[1;32m----> <a href='vscode-notebook-cell:/c%3A/Users/ethan/Documents/Spotify_recommendations/Github_pull/github/Spotify_Reccommendation_Algorithm/model_selection.ipynb#X31sZmlsZQ%3D%3D?line=6'>7</a>\u001b[0m top_feature_indices \u001b[39m=\u001b[39m [np\u001b[39m.\u001b[39mabs(_pca\u001b[39m.\u001b[39mcomponents_[i])\u001b[39m.\u001b[39margsort()[::\u001b[39m-\u001b[39m\u001b[39m1\u001b[39m][:\u001b[39m8\u001b[39m] \u001b[39mfor\u001b[39;00m i \u001b[39min\u001b[39;00m \u001b[39mrange\u001b[39m(components)]\n\u001b[0;32m      <a href='vscode-notebook-cell:/c%3A/Users/ethan/Documents/Spotify_recommendations/Github_pull/github/Spotify_Reccommendation_Algorithm/model_selection.ipynb#X31sZmlsZQ%3D%3D?line=8'>9</a>\u001b[0m \u001b[39m# Get the names of the top features in each principal component\u001b[39;00m\n\u001b[0;32m     <a href='vscode-notebook-cell:/c%3A/Users/ethan/Documents/Spotify_recommendations/Github_pull/github/Spotify_Reccommendation_Algorithm/model_selection.ipynb#X31sZmlsZQ%3D%3D?line=9'>10</a>\u001b[0m selected_features \u001b[39m=\u001b[39m [[feature_names[j] \u001b[39mfor\u001b[39;00m j \u001b[39min\u001b[39;00m top_feature_indices[i]] \u001b[39mfor\u001b[39;00m i \u001b[39min\u001b[39;00m \u001b[39mrange\u001b[39m(components)]\n",
      "\u001b[1;31mNameError\u001b[0m: name 'components' is not defined"
     ]
    }
   ],
   "source": [
    "# Assuming '_pca' is already fitted on your data\n",
    "\n",
    "# Get the feature names\n",
    "feature_names = X.columns  # Assuming 'df' is your DataFrame\n",
    "\n",
    "# Get the indices of the top features in each principal component\n",
    "top_feature_indices = [np.abs(_pca.components_[i]).argsort()[::-1][:8] for i in range(components)]\n",
    "\n",
    "# Get the names of the top features in each principal component\n",
    "selected_features = [[feature_names[j] for j in top_feature_indices[i]] for i in range(components)]\n",
    "\n",
    "# Print the selected features for each component\n",
    "for i, features in enumerate(selected_features):\n",
    "    print(f\"Top features for component {i}: {features}\")\n"
   ]
  },
  {
   "cell_type": "code",
   "execution_count": null,
   "id": "a60181c0",
   "metadata": {},
   "outputs": [],
   "source": [
    "# Initialize the KNN model and fit it to the training data\n",
    "knn = KNeighborsClassifier(n_neighbors=5)  # You can adjust the number of neighbors\n",
    "knn.fit(X_train, y_train)\n",
    "\n",
    "# Predict the target variable for the test set\n",
    "y_pred = knn.predict(X_test)\n"
   ]
  },
  {
   "cell_type": "code",
   "execution_count": null,
   "id": "c650d884",
   "metadata": {},
   "outputs": [
    {
     "name": "stdout",
     "output_type": "stream",
     "text": [
      "Accuracy: 0.9920603414053196\n",
      "              precision    recall  f1-score   support\n",
      "\n",
      "           0       0.99      1.00      1.00      2499\n",
      "           1       1.00      0.00      0.00        20\n",
      "\n",
      "    accuracy                           0.99      2519\n",
      "   macro avg       1.00      0.50      0.50      2519\n",
      "weighted avg       0.99      0.99      0.99      2519\n",
      "\n",
      "[[2499    0]\n",
      " [  20    0]]\n"
     ]
    }
   ],
   "source": [
    "# Evaluate the model (you can use classification metrics to assess its performance)\n",
    "# For instance, you can use accuracy_score, classification_report, confusion_matrix, etc.\n",
    "from sklearn.metrics import accuracy_score, classification_report, confusion_matrix\n",
    "\n",
    "accuracy = accuracy_score(y_test, y_pred)\n",
    "print(f\"Accuracy: {accuracy}\")\n",
    "\n",
    "# Further evaluation\n",
    "print(classification_report(y_test, y_pred, zero_division=1)) \n",
    "print(confusion_matrix(y_test, y_pred))"
   ]
  },
  {
   "cell_type": "code",
   "execution_count": null,
   "id": "e608f8f8",
   "metadata": {},
   "outputs": [
    {
     "name": "stdout",
     "output_type": "stream",
     "text": [
      "Cross-Validation Scores: [0.99166336 0.99285431 0.99086939 0.98769353 0.99245433]\n",
      "Mean Accuracy: 0.9911069832734286\n"
     ]
    }
   ],
   "source": [
    "from sklearn.model_selection import cross_val_score, KFold\n",
    "\n",
    "# Assuming X and y are your features and target variable\n",
    "\n",
    "# Initialize the KNN model\n",
    "knn = KNeighborsClassifier(n_neighbors=5)  # You can adjust the number of neighbors\n",
    "\n",
    "# Define the number of folds for cross-validation\n",
    "num_folds = 5\n",
    "\n",
    "# Initialize KFold\n",
    "kf = KFold(n_splits=num_folds, shuffle=True, random_state=42)\n",
    "\n",
    "# Perform cross-validation\n",
    "cv_scores = cross_val_score(knn, X, y, cv=kf)\n",
    "\n",
    "# Output the cross-validation scores\n",
    "print(\"Cross-Validation Scores:\", cv_scores)\n",
    "print(\"Mean Accuracy:\", cv_scores.mean())"
   ]
  },
  {
   "cell_type": "markdown",
   "id": "5d729099",
   "metadata": {},
   "source": [
    "### Descision tree "
   ]
  },
  {
   "cell_type": "code",
   "execution_count": null,
   "id": "2977cd76",
   "metadata": {},
   "outputs": [
    {
     "name": "stdout",
     "output_type": "stream",
     "text": [
      "Accuracy: 0.9920603414053196\n"
     ]
    }
   ],
   "source": [
    "from sklearn.tree import DecisionTreeClassifier, export_graphviz\n",
    "from sklearn.metrics import accuracy_score, classification_report\n",
    "\n",
    "\n",
    "# Create and fit the Decision Tree classifier\n",
    "clf = DecisionTreeClassifier()\n",
    "clf.fit(X_train, y_train)\n",
    "# Make predictions\n",
    "predictions = clf.predict(X_test)\n",
    "\n",
    "# Evaluate the model\n",
    "accuracy = accuracy_score(y_test, predictions)\n",
    "print(\"Accuracy:\", accuracy)"
   ]
  },
  {
   "cell_type": "code",
   "execution_count": null,
   "id": "f3979d15",
   "metadata": {},
   "outputs": [
    {
     "name": "stdout",
     "output_type": "stream",
     "text": [
      "Classification Report:\n",
      "               precision    recall  f1-score   support\n",
      "\n",
      "           0       0.99      1.00      1.00      2499\n",
      "           1       0.00      0.00      0.00        20\n",
      "\n",
      "    accuracy                           0.99      2519\n",
      "   macro avg       0.50      0.50      0.50      2519\n",
      "weighted avg       0.98      0.99      0.99      2519\n",
      "\n"
     ]
    }
   ],
   "source": [
    "report = classification_report(y_test, predictions)\n",
    "print(\"Classification Report:\\n\", report)"
   ]
  },
  {
   "cell_type": "markdown",
   "id": "61941ab6",
   "metadata": {},
   "source": [
    "### Cosine Similarity"
   ]
  },
  {
   "cell_type": "code",
   "execution_count": null,
   "id": "7d29b262",
   "metadata": {},
   "outputs": [],
   "source": [
    "from sklearn.metrics.pairwise import cosine_similarity\n",
    "similarity_scores = cosine_similarity(pt)\n",
    "\n",
    "def recommend(book_name):\n",
    "    index = np.where(pt.index == book_name)[0][0]\n",
    "    similar_books = sorted(enumerate(similarity_scores[index]),key= lambda x: x[1], reverse =True)[1:6]\n",
    "    \n",
    "    for i in similar_books:\n",
    "        print(pt.index[i[0]])"
   ]
  },
  {
   "cell_type": "markdown",
   "id": "6cfd058d",
   "metadata": {},
   "source": [
    "## PipeLine"
   ]
  },
  {
   "cell_type": "code",
   "execution_count": null,
   "id": "a073719f",
   "metadata": {},
   "outputs": [],
   "source": [
    "from sklearn.pipeline import Pipeline\n",
    "from sklearn.preprocessing import StandardScaler\n",
    "from sklearn.decomposition import PCA\n",
    "from sklearn.neighbors import KNeighborsClassifier\n",
    "\n",
    "components = 8  # Define the number of components for PCA\n",
    "\n",
    "_sc = StandardScaler()\n",
    "_pca = PCA(n_components=components)\n",
    "#_model = KNeighborsClassifier(n_neighbors=5)\n",
    "_model =DecisionTreeClassifier()\n",
    "\n",
    "Pipe = Pipeline([\n",
    "    ('std_scaler', _sc),\n",
    "    ('pca', _pca),\n",
    "    ('regressor', _model)\n",
    "])"
   ]
  },
  {
   "cell_type": "code",
   "execution_count": null,
   "id": "09d686f6",
   "metadata": {},
   "outputs": [
    {
     "data": {
      "text/html": [
       "<style>#sk-container-id-13 {color: black;}#sk-container-id-13 pre{padding: 0;}#sk-container-id-13 div.sk-toggleable {background-color: white;}#sk-container-id-13 label.sk-toggleable__label {cursor: pointer;display: block;width: 100%;margin-bottom: 0;padding: 0.3em;box-sizing: border-box;text-align: center;}#sk-container-id-13 label.sk-toggleable__label-arrow:before {content: \"▸\";float: left;margin-right: 0.25em;color: #696969;}#sk-container-id-13 label.sk-toggleable__label-arrow:hover:before {color: black;}#sk-container-id-13 div.sk-estimator:hover label.sk-toggleable__label-arrow:before {color: black;}#sk-container-id-13 div.sk-toggleable__content {max-height: 0;max-width: 0;overflow: hidden;text-align: left;background-color: #f0f8ff;}#sk-container-id-13 div.sk-toggleable__content pre {margin: 0.2em;color: black;border-radius: 0.25em;background-color: #f0f8ff;}#sk-container-id-13 input.sk-toggleable__control:checked~div.sk-toggleable__content {max-height: 200px;max-width: 100%;overflow: auto;}#sk-container-id-13 input.sk-toggleable__control:checked~label.sk-toggleable__label-arrow:before {content: \"▾\";}#sk-container-id-13 div.sk-estimator input.sk-toggleable__control:checked~label.sk-toggleable__label {background-color: #d4ebff;}#sk-container-id-13 div.sk-label input.sk-toggleable__control:checked~label.sk-toggleable__label {background-color: #d4ebff;}#sk-container-id-13 input.sk-hidden--visually {border: 0;clip: rect(1px 1px 1px 1px);clip: rect(1px, 1px, 1px, 1px);height: 1px;margin: -1px;overflow: hidden;padding: 0;position: absolute;width: 1px;}#sk-container-id-13 div.sk-estimator {font-family: monospace;background-color: #f0f8ff;border: 1px dotted black;border-radius: 0.25em;box-sizing: border-box;margin-bottom: 0.5em;}#sk-container-id-13 div.sk-estimator:hover {background-color: #d4ebff;}#sk-container-id-13 div.sk-parallel-item::after {content: \"\";width: 100%;border-bottom: 1px solid gray;flex-grow: 1;}#sk-container-id-13 div.sk-label:hover label.sk-toggleable__label {background-color: #d4ebff;}#sk-container-id-13 div.sk-serial::before {content: \"\";position: absolute;border-left: 1px solid gray;box-sizing: border-box;top: 0;bottom: 0;left: 50%;z-index: 0;}#sk-container-id-13 div.sk-serial {display: flex;flex-direction: column;align-items: center;background-color: white;padding-right: 0.2em;padding-left: 0.2em;position: relative;}#sk-container-id-13 div.sk-item {position: relative;z-index: 1;}#sk-container-id-13 div.sk-parallel {display: flex;align-items: stretch;justify-content: center;background-color: white;position: relative;}#sk-container-id-13 div.sk-item::before, #sk-container-id-13 div.sk-parallel-item::before {content: \"\";position: absolute;border-left: 1px solid gray;box-sizing: border-box;top: 0;bottom: 0;left: 50%;z-index: -1;}#sk-container-id-13 div.sk-parallel-item {display: flex;flex-direction: column;z-index: 1;position: relative;background-color: white;}#sk-container-id-13 div.sk-parallel-item:first-child::after {align-self: flex-end;width: 50%;}#sk-container-id-13 div.sk-parallel-item:last-child::after {align-self: flex-start;width: 50%;}#sk-container-id-13 div.sk-parallel-item:only-child::after {width: 0;}#sk-container-id-13 div.sk-dashed-wrapped {border: 1px dashed gray;margin: 0 0.4em 0.5em 0.4em;box-sizing: border-box;padding-bottom: 0.4em;background-color: white;}#sk-container-id-13 div.sk-label label {font-family: monospace;font-weight: bold;display: inline-block;line-height: 1.2em;}#sk-container-id-13 div.sk-label-container {text-align: center;}#sk-container-id-13 div.sk-container {/* jupyter's `normalize.less` sets `[hidden] { display: none; }` but bootstrap.min.css set `[hidden] { display: none !important; }` so we also need the `!important` here to be able to override the default hidden behavior on the sphinx rendered scikit-learn.org. See: https://github.com/scikit-learn/scikit-learn/issues/21755 */display: inline-block !important;position: relative;}#sk-container-id-13 div.sk-text-repr-fallback {display: none;}</style><div id=\"sk-container-id-13\" class=\"sk-top-container\"><div class=\"sk-text-repr-fallback\"><pre>Pipeline(steps=[(&#x27;std_scaler&#x27;, StandardScaler()), (&#x27;pca&#x27;, PCA(n_components=8)),\n",
       "                (&#x27;regressor&#x27;, DecisionTreeClassifier())])</pre><b>In a Jupyter environment, please rerun this cell to show the HTML representation or trust the notebook. <br />On GitHub, the HTML representation is unable to render, please try loading this page with nbviewer.org.</b></div><div class=\"sk-container\" hidden><div class=\"sk-item sk-dashed-wrapped\"><div class=\"sk-label-container\"><div class=\"sk-label sk-toggleable\"><input class=\"sk-toggleable__control sk-hidden--visually\" id=\"sk-estimator-id-49\" type=\"checkbox\" ><label for=\"sk-estimator-id-49\" class=\"sk-toggleable__label sk-toggleable__label-arrow\">Pipeline</label><div class=\"sk-toggleable__content\"><pre>Pipeline(steps=[(&#x27;std_scaler&#x27;, StandardScaler()), (&#x27;pca&#x27;, PCA(n_components=8)),\n",
       "                (&#x27;regressor&#x27;, DecisionTreeClassifier())])</pre></div></div></div><div class=\"sk-serial\"><div class=\"sk-item\"><div class=\"sk-estimator sk-toggleable\"><input class=\"sk-toggleable__control sk-hidden--visually\" id=\"sk-estimator-id-50\" type=\"checkbox\" ><label for=\"sk-estimator-id-50\" class=\"sk-toggleable__label sk-toggleable__label-arrow\">StandardScaler</label><div class=\"sk-toggleable__content\"><pre>StandardScaler()</pre></div></div></div><div class=\"sk-item\"><div class=\"sk-estimator sk-toggleable\"><input class=\"sk-toggleable__control sk-hidden--visually\" id=\"sk-estimator-id-51\" type=\"checkbox\" ><label for=\"sk-estimator-id-51\" class=\"sk-toggleable__label sk-toggleable__label-arrow\">PCA</label><div class=\"sk-toggleable__content\"><pre>PCA(n_components=8)</pre></div></div></div><div class=\"sk-item\"><div class=\"sk-estimator sk-toggleable\"><input class=\"sk-toggleable__control sk-hidden--visually\" id=\"sk-estimator-id-52\" type=\"checkbox\" ><label for=\"sk-estimator-id-52\" class=\"sk-toggleable__label sk-toggleable__label-arrow\">DecisionTreeClassifier</label><div class=\"sk-toggleable__content\"><pre>DecisionTreeClassifier()</pre></div></div></div></div></div></div></div>"
      ],
      "text/plain": [
       "Pipeline(steps=[('std_scaler', StandardScaler()), ('pca', PCA(n_components=8)),\n",
       "                ('regressor', DecisionTreeClassifier())])"
      ]
     },
     "execution_count": 289,
     "metadata": {},
     "output_type": "execute_result"
    }
   ],
   "source": [
    "# perform a split\n",
    "random_state = 30\n",
    "\n",
    "X_train, X_test, y_train, y_test = \\\n",
    "    train_test_split(X, y, \n",
    "                     test_size=0.2,\n",
    "                     shuffle=True, \n",
    "                     random_state=random_state)\n",
    "    \n",
    "# train the model using the PCA components\n",
    "Pipe.fit(X_train,y_train)\n"
   ]
  },
  {
   "cell_type": "code",
   "execution_count": null,
   "id": "8d540124",
   "metadata": {},
   "outputs": [
    {
     "data": {
      "text/plain": [
       "1.0"
      ]
     },
     "execution_count": 290,
     "metadata": {},
     "output_type": "execute_result"
    }
   ],
   "source": [
    "Pipe.score(X_test,y_test)"
   ]
  },
  {
   "cell_type": "markdown",
   "id": "bf44977a",
   "metadata": {},
   "source": [
    "### Predict Songs "
   ]
  },
  {
   "cell_type": "code",
   "execution_count": null,
   "id": "e99807b6",
   "metadata": {},
   "outputs": [
    {
     "name": "stdout",
     "output_type": "stream",
     "text": [
      "<class 'pandas.core.frame.DataFrame'>\n",
      "RangeIndex: 12594 entries, 0 to 12593\n",
      "Data columns (total 23 columns):\n",
      " #   Column                       Non-Null Count  Dtype  \n",
      "---  ------                       --------------  -----  \n",
      " 0   track_id                     12594 non-null  object \n",
      " 1   length                       12594 non-null  int64  \n",
      " 2   artists                      12594 non-null  int64  \n",
      " 3   album                        12594 non-null  int64  \n",
      " 4   time_signature               12594 non-null  int64  \n",
      " 5   danceability                 12594 non-null  float64\n",
      " 6   acousticness                 12594 non-null  float64\n",
      " 7   energy                       12594 non-null  float64\n",
      " 8   tempo                        12594 non-null  float64\n",
      " 9   instrumentalness             12594 non-null  float64\n",
      " 10  loudness                     12594 non-null  float64\n",
      " 11  liveness                     12594 non-null  float64\n",
      " 12  key                          12594 non-null  float64\n",
      " 13  valence                      12594 non-null  float64\n",
      " 14  speechiness                  12594 non-null  float64\n",
      " 15  mode                         12594 non-null  int64  \n",
      " 16  Popularity                   12594 non-null  float64\n",
      " 17  minutes                      12594 non-null  float64\n",
      " 18  beat_density                 12594 non-null  float64\n",
      " 19  Popularity_Rank              12594 non-null  float64\n",
      " 20  melody_complexity            12594 non-null  float64\n",
      " 21  instrumental_acoustic_ratio  12594 non-null  float64\n",
      " 22  favorite                     12594 non-null  int64  \n",
      "dtypes: float64(16), int64(6), object(1)\n",
      "memory usage: 2.2+ MB\n"
     ]
    }
   ],
   "source": [
    "df.info()"
   ]
  },
  {
   "cell_type": "code",
   "execution_count": null,
   "id": "1c476f59",
   "metadata": {},
   "outputs": [],
   "source": [
    "# Predicting if a song is a favorite\n",
    "prob_preds = Pipe.predict_proba(df.drop(['favorite','track_id'], axis=1))\n",
    "threshold = 0.30 # define threshold here\n",
    "preds = [1 if prob_preds[i][1]> threshold else 0 for i in range(len(prob_preds))]\n",
    "df['prediction'] = preds"
   ]
  },
  {
   "cell_type": "code",
   "execution_count": null,
   "id": "d79c132a",
   "metadata": {},
   "outputs": [
    {
     "data": {
      "text/plain": [
       "0        0\n",
       "1        0\n",
       "2        0\n",
       "3        0\n",
       "4        0\n",
       "        ..\n",
       "12589    1\n",
       "12590    1\n",
       "12591    1\n",
       "12592    1\n",
       "12593    1\n",
       "Name: prediction, Length: 12594, dtype: int64"
      ]
     },
     "execution_count": 294,
     "metadata": {},
     "output_type": "execute_result"
    }
   ],
   "source": [
    "df['prediction']"
   ]
  },
  {
   "cell_type": "code",
   "execution_count": null,
   "id": "fe71e344",
   "metadata": {},
   "outputs": [
    {
     "ename": "NameError",
     "evalue": "name 'df' is not defined",
     "output_type": "error",
     "traceback": [
      "\u001b[1;31m---------------------------------------------------------------------------\u001b[0m",
      "\u001b[1;31mNameError\u001b[0m                                 Traceback (most recent call last)",
      "\u001b[1;32mc:\\Users\\ethan\\Documents\\Spotify_recommendations\\Github_pull\\github\\Spotify_Reccommendation_Algorithm\\model_selection.ipynb Cell 40\u001b[0m line \u001b[0;36m1\n\u001b[1;32m----> <a href='vscode-notebook-cell:/c%3A/Users/ethan/Documents/Spotify_recommendations/Github_pull/github/Spotify_Reccommendation_Algorithm/model_selection.ipynb#X54sZmlsZQ%3D%3D?line=0'>1</a>\u001b[0m df[\u001b[39m'\u001b[39m\u001b[39mprediction\u001b[39m\u001b[39m'\u001b[39m]\u001b[39m.\u001b[39mvalue_counts()\n",
      "\u001b[1;31mNameError\u001b[0m: name 'df' is not defined"
     ]
    }
   ],
   "source": [
    "df['prediction'].value_counts()"
   ]
  },
  {
   "cell_type": "markdown",
   "id": "97408c9a",
   "metadata": {},
   "source": [
    "### Building the playlist from recommended songs upload to Spotify "
   ]
  },
  {
   "cell_type": "code",
   "execution_count": null,
   "id": "820706fd",
   "metadata": {},
   "outputs": [],
   "source": [
    "import spotipy\n",
    "import spotipy.util as util\n",
    "from spotipy.oauth2 import SpotifyClientCredentials\n",
    "from spotipy import oauth2"
   ]
  },
  {
   "cell_type": "code",
   "execution_count": null,
   "id": "ea20b55d",
   "metadata": {},
   "outputs": [],
   "source": [
    "# Declare the credentials\n",
    "client_id = '2a7adde1b07a4bf9a5fd750d6ff6f28d'\n",
    "client_secret = '74a5c5859a0548ccae791419cc29c8fa'\n",
    "redirect_uri='http://localhost:7777/callback'\n",
    "username = 'ethan.falcao'"
   ]
  },
  {
   "cell_type": "code",
   "execution_count": null,
   "id": "9cb2bbeb",
   "metadata": {},
   "outputs": [],
   "source": [
    "# Once the Authorisation is complete, we just need to `sp` to call the APIs\n",
    "scope = 'user-top-read playlist-modify-private playlist-modify-public'\n",
    "token = util.prompt_for_user_token(username, scope, client_id=client_id, client_secret=client_secret, redirect_uri=redirect_uri)\n",
    "\n",
    "if token:\n",
    "    sp = spotipy.Spotify(auth=token)\n",
    "else:\n",
    "    print(\"Can't get token for\", username)"
   ]
  },
  {
   "cell_type": "code",
   "execution_count": null,
   "id": "b26ff3ca",
   "metadata": {},
   "outputs": [],
   "source": [
    "# Creating a function that builds a playlist in the user's spotify account\n",
    "def create_playlist(sp, username, playlist_name, playlist_description):\n",
    "    playlists = sp.user_playlist_create(username, playlist_name, description = playlist_description)"
   ]
  },
  {
   "cell_type": "code",
   "execution_count": null,
   "id": "04013a43",
   "metadata": {},
   "outputs": [],
   "source": [
    "create_playlist(sp, username, 'ML PLaylist', 'This playlist was created using machine learning!')"
   ]
  },
  {
   "cell_type": "code",
   "execution_count": null,
   "id": "f9e06cb5",
   "metadata": {},
   "outputs": [],
   "source": [
    "# Function to check if the playlist was created successfully\n",
    "def fetch_playlists(sp, username):\n",
    "    \"\"\"\n",
    "    Returns the user's playlists.\n",
    "    \"\"\"\n",
    "        \n",
    "    id = []\n",
    "    name = []\n",
    "    num_tracks = []\n",
    "    \n",
    "    # Make the API request\n",
    "    playlists = sp.user_playlists(username)\n",
    "    for playlist in playlists['items']:\n",
    "        id.append(playlist['id'])\n",
    "        name.append(playlist['name'])\n",
    "        num_tracks.append(playlist['tracks']['total'])\n",
    "\n",
    "    # Create the final df   \n",
    "    df_playlists = pd.DataFrame({\"id\":id, \"name\": name, \"#tracks\": num_tracks})\n",
    "    return df_playlists"
   ]
  },
  {
   "cell_type": "code",
   "execution_count": null,
   "id": "cc591d48",
   "metadata": {},
   "outputs": [
    {
     "data": {
      "text/html": [
       "<div>\n",
       "<style scoped>\n",
       "    .dataframe tbody tr th:only-of-type {\n",
       "        vertical-align: middle;\n",
       "    }\n",
       "\n",
       "    .dataframe tbody tr th {\n",
       "        vertical-align: top;\n",
       "    }\n",
       "\n",
       "    .dataframe thead th {\n",
       "        text-align: right;\n",
       "    }\n",
       "</style>\n",
       "<table border=\"1\" class=\"dataframe\">\n",
       "  <thead>\n",
       "    <tr style=\"text-align: right;\">\n",
       "      <th></th>\n",
       "      <th>id</th>\n",
       "      <th>name</th>\n",
       "      <th>#tracks</th>\n",
       "    </tr>\n",
       "  </thead>\n",
       "  <tbody>\n",
       "    <tr>\n",
       "      <th>0</th>\n",
       "      <td>4pAo35sQk7E0v0PumqL6L5</td>\n",
       "      <td>ML PLaylist</td>\n",
       "      <td>0</td>\n",
       "    </tr>\n",
       "    <tr>\n",
       "      <th>1</th>\n",
       "      <td>1steg8eX8EvQoRt3O251il</td>\n",
       "      <td>ML PLaylist</td>\n",
       "      <td>118</td>\n",
       "    </tr>\n",
       "    <tr>\n",
       "      <th>2</th>\n",
       "      <td>7q9MublCR8vYmsEfZI3QkS</td>\n",
       "      <td>Your New Jams</td>\n",
       "      <td>118</td>\n",
       "    </tr>\n",
       "    <tr>\n",
       "      <th>3</th>\n",
       "      <td>1AJFPBjF116BRPJsbjoOn7</td>\n",
       "      <td>July 2023</td>\n",
       "      <td>20</td>\n",
       "    </tr>\n",
       "    <tr>\n",
       "      <th>4</th>\n",
       "      <td>1oxbP11MEsbkUqyMlaIYac</td>\n",
       "      <td>October 2023</td>\n",
       "      <td>27</td>\n",
       "    </tr>\n",
       "  </tbody>\n",
       "</table>\n",
       "</div>"
      ],
      "text/plain": [
       "                       id           name  #tracks\n",
       "0  4pAo35sQk7E0v0PumqL6L5    ML PLaylist        0\n",
       "1  1steg8eX8EvQoRt3O251il    ML PLaylist      118\n",
       "2  7q9MublCR8vYmsEfZI3QkS  Your New Jams      118\n",
       "3  1AJFPBjF116BRPJsbjoOn7      July 2023       20\n",
       "4  1oxbP11MEsbkUqyMlaIYac   October 2023       27"
      ]
     },
     "execution_count": 302,
     "metadata": {},
     "output_type": "execute_result"
    }
   ],
   "source": [
    "fetch_playlists(sp,username).head()"
   ]
  },
  {
   "cell_type": "code",
   "execution_count": null,
   "id": "0931251c",
   "metadata": {},
   "outputs": [],
   "source": [
    "# Getting the playlist ID of the most recently made playlist so we can add songs to it later\n",
    "playlist_id = fetch_playlists(sp,username)['id'][0]"
   ]
  },
  {
   "cell_type": "code",
   "execution_count": null,
   "id": "f913172f",
   "metadata": {},
   "outputs": [],
   "source": [
    "# Function to add selected songs to playlist\n",
    "def enrich_playlist(sp, username, playlist_id, playlist_tracks):\n",
    "    index = 0\n",
    "    results = []\n",
    "    \n",
    "    while index < len(playlist_tracks):\n",
    "        results += sp.user_playlist_add_tracks(username, playlist_id, tracks = playlist_tracks[index:index + 50])\n",
    "        index += 50"
   ]
  },
  {
   "cell_type": "code",
   "execution_count": null,
   "id": "af0b6533",
   "metadata": {},
   "outputs": [],
   "source": [
    "# Adding songs to playlist\n",
    "list_track = df.loc[df['prediction']  == 1]['track_id']\n",
    "enrich_playlist(sp, username, playlist_id, list_track)"
   ]
  }
 ],
 "metadata": {
  "kernelspec": {
   "display_name": "Python 3 (ipykernel)",
   "language": "python",
   "name": "python3"
  },
  "language_info": {
   "codemirror_mode": {
    "name": "ipython",
    "version": 3
   },
   "file_extension": ".py",
   "mimetype": "text/x-python",
   "name": "python",
   "nbconvert_exporter": "python",
   "pygments_lexer": "ipython3",
   "version": "3.9.13"
  }
 },
 "nbformat": 4,
 "nbformat_minor": 5
}
