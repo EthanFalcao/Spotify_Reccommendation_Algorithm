{
 "cells": [
  {
   "cell_type": "code",
   "execution_count": 156,
   "id": "d209f050",
   "metadata": {},
   "outputs": [],
   "source": [
    "# Import the libraries\n",
    "import os\n",
    "import pandas as pd\n",
    "import numpy as np\n",
    "import json\n",
    "import matplotlib.pyplot as plt\n",
    "import seaborn as sns\n",
    "%config InlineBackend.figure_format ='retina'\n",
    "import spotipy\n",
    "import spotipy.util as util\n",
    "from spotipy.oauth2 import SpotifyClientCredentials\n",
    "import warnings\n",
    "warnings.simplefilter(action='ignore', category=FutureWarning)\n"
   ]
  },
  {
   "cell_type": "markdown",
   "id": "7f99712a",
   "metadata": {},
   "source": [
    "## Import data"
   ]
  },
  {
   "cell_type": "code",
   "execution_count": 157,
   "id": "36ee14e2",
   "metadata": {},
   "outputs": [],
   "source": [
    "#13k top spotify songs \n",
    "#df=pd.read_csv('data/df.csv', sep=\",\")\n",
    "#users favorite tracks based on time \n",
    "df_fav=pd.read_csv('data/df_fav.csv', sep=\",\")\n",
    "df=pd.read_csv('data/df_hot.csv', sep=\",\")"
   ]
  },
  {
   "cell_type": "code",
   "execution_count": 159,
   "id": "856466dc",
   "metadata": {},
   "outputs": [
    {
     "data": {
      "text/html": [
       "<div>\n",
       "<style scoped>\n",
       "    .dataframe tbody tr th:only-of-type {\n",
       "        vertical-align: middle;\n",
       "    }\n",
       "\n",
       "    .dataframe tbody tr th {\n",
       "        vertical-align: top;\n",
       "    }\n",
       "\n",
       "    .dataframe thead th {\n",
       "        text-align: right;\n",
       "    }\n",
       "</style>\n",
       "<table border=\"1\" class=\"dataframe\">\n",
       "  <thead>\n",
       "    <tr style=\"text-align: right;\">\n",
       "      <th></th>\n",
       "      <th>length</th>\n",
       "      <th>artists</th>\n",
       "      <th>album</th>\n",
       "      <th>time_signature</th>\n",
       "      <th>danceability</th>\n",
       "      <th>acousticness</th>\n",
       "      <th>energy</th>\n",
       "      <th>tempo</th>\n",
       "      <th>instrumentalness</th>\n",
       "      <th>loudness</th>\n",
       "      <th>liveness</th>\n",
       "      <th>key</th>\n",
       "      <th>valence</th>\n",
       "      <th>speechiness</th>\n",
       "      <th>mode</th>\n",
       "      <th>Popularity</th>\n",
       "      <th>minutes</th>\n",
       "      <th>favorite</th>\n",
       "    </tr>\n",
       "  </thead>\n",
       "  <tbody>\n",
       "    <tr>\n",
       "      <th>count</th>\n",
       "      <td>1.259400e+04</td>\n",
       "      <td>12594.000000</td>\n",
       "      <td>12594.000000</td>\n",
       "      <td>12594.000000</td>\n",
       "      <td>12594.000000</td>\n",
       "      <td>12594.000000</td>\n",
       "      <td>12594.000000</td>\n",
       "      <td>12594.000000</td>\n",
       "      <td>12594.000000</td>\n",
       "      <td>12594.000000</td>\n",
       "      <td>12594.000000</td>\n",
       "      <td>12594.000000</td>\n",
       "      <td>12594.000000</td>\n",
       "      <td>12594.000000</td>\n",
       "      <td>12594.000000</td>\n",
       "      <td>12594.000000</td>\n",
       "      <td>12594.000000</td>\n",
       "      <td>12594.000000</td>\n",
       "    </tr>\n",
       "    <tr>\n",
       "      <th>mean</th>\n",
       "      <td>2.385551e+05</td>\n",
       "      <td>4135.184215</td>\n",
       "      <td>4870.247816</td>\n",
       "      <td>4.502938</td>\n",
       "      <td>0.553316</td>\n",
       "      <td>0.315991</td>\n",
       "      <td>0.592348</td>\n",
       "      <td>119.010716</td>\n",
       "      <td>0.182240</td>\n",
       "      <td>-9.627065</td>\n",
       "      <td>0.183178</td>\n",
       "      <td>6.463719</td>\n",
       "      <td>0.469516</td>\n",
       "      <td>0.084973</td>\n",
       "      <td>0.672622</td>\n",
       "      <td>50.297933</td>\n",
       "      <td>3.975918</td>\n",
       "      <td>0.009370</td>\n",
       "    </tr>\n",
       "    <tr>\n",
       "      <th>std</th>\n",
       "      <td>1.263497e+05</td>\n",
       "      <td>2385.110827</td>\n",
       "      <td>2834.519720</td>\n",
       "      <td>6.384068</td>\n",
       "      <td>0.189292</td>\n",
       "      <td>0.361614</td>\n",
       "      <td>0.283803</td>\n",
       "      <td>31.161578</td>\n",
       "      <td>0.322545</td>\n",
       "      <td>6.945035</td>\n",
       "      <td>0.148547</td>\n",
       "      <td>12.668640</td>\n",
       "      <td>0.428565</td>\n",
       "      <td>0.110423</td>\n",
       "      <td>0.684204</td>\n",
       "      <td>19.924747</td>\n",
       "      <td>2.105828</td>\n",
       "      <td>0.096346</td>\n",
       "    </tr>\n",
       "    <tr>\n",
       "      <th>min</th>\n",
       "      <td>9.750000e+03</td>\n",
       "      <td>0.000000</td>\n",
       "      <td>0.000000</td>\n",
       "      <td>0.000000</td>\n",
       "      <td>0.000000</td>\n",
       "      <td>0.000001</td>\n",
       "      <td>0.000568</td>\n",
       "      <td>0.000000</td>\n",
       "      <td>0.000000</td>\n",
       "      <td>-44.150000</td>\n",
       "      <td>0.012000</td>\n",
       "      <td>0.000000</td>\n",
       "      <td>0.000000</td>\n",
       "      <td>0.000000</td>\n",
       "      <td>0.000000</td>\n",
       "      <td>0.000000</td>\n",
       "      <td>0.162500</td>\n",
       "      <td>0.000000</td>\n",
       "    </tr>\n",
       "    <tr>\n",
       "      <th>25%</th>\n",
       "      <td>1.771040e+05</td>\n",
       "      <td>2094.250000</td>\n",
       "      <td>2406.000000</td>\n",
       "      <td>4.000000</td>\n",
       "      <td>0.428000</td>\n",
       "      <td>0.016200</td>\n",
       "      <td>0.413000</td>\n",
       "      <td>97.484000</td>\n",
       "      <td>0.000000</td>\n",
       "      <td>-10.962500</td>\n",
       "      <td>0.094100</td>\n",
       "      <td>2.000000</td>\n",
       "      <td>0.219000</td>\n",
       "      <td>0.036700</td>\n",
       "      <td>0.000000</td>\n",
       "      <td>39.000000</td>\n",
       "      <td>2.951733</td>\n",
       "      <td>0.000000</td>\n",
       "    </tr>\n",
       "    <tr>\n",
       "      <th>50%</th>\n",
       "      <td>2.119465e+05</td>\n",
       "      <td>4201.500000</td>\n",
       "      <td>4908.500000</td>\n",
       "      <td>4.000000</td>\n",
       "      <td>0.571000</td>\n",
       "      <td>0.128000</td>\n",
       "      <td>0.655000</td>\n",
       "      <td>121.940000</td>\n",
       "      <td>0.000332</td>\n",
       "      <td>-7.214500</td>\n",
       "      <td>0.122000</td>\n",
       "      <td>5.000000</td>\n",
       "      <td>0.423000</td>\n",
       "      <td>0.047400</td>\n",
       "      <td>1.000000</td>\n",
       "      <td>52.000000</td>\n",
       "      <td>3.532442</td>\n",
       "      <td>0.000000</td>\n",
       "    </tr>\n",
       "    <tr>\n",
       "      <th>75%</th>\n",
       "      <td>2.592970e+05</td>\n",
       "      <td>6213.750000</td>\n",
       "      <td>7320.750000</td>\n",
       "      <td>4.000000</td>\n",
       "      <td>0.693000</td>\n",
       "      <td>0.606750</td>\n",
       "      <td>0.827000</td>\n",
       "      <td>137.689500</td>\n",
       "      <td>0.180000</td>\n",
       "      <td>-5.198000</td>\n",
       "      <td>0.225000</td>\n",
       "      <td>9.000000</td>\n",
       "      <td>0.644000</td>\n",
       "      <td>0.079600</td>\n",
       "      <td>1.000000</td>\n",
       "      <td>65.000000</td>\n",
       "      <td>4.321617</td>\n",
       "      <td>0.000000</td>\n",
       "    </tr>\n",
       "    <tr>\n",
       "      <th>max</th>\n",
       "      <td>4.170227e+06</td>\n",
       "      <td>8136.000000</td>\n",
       "      <td>9764.000000</td>\n",
       "      <td>96.000000</td>\n",
       "      <td>0.978000</td>\n",
       "      <td>0.996000</td>\n",
       "      <td>0.999000</td>\n",
       "      <td>219.446000</td>\n",
       "      <td>0.986000</td>\n",
       "      <td>1.177000</td>\n",
       "      <td>0.985000</td>\n",
       "      <td>180.917000</td>\n",
       "      <td>5.000000</td>\n",
       "      <td>1.000000</td>\n",
       "      <td>11.000000</td>\n",
       "      <td>100.000000</td>\n",
       "      <td>69.503783</td>\n",
       "      <td>1.000000</td>\n",
       "    </tr>\n",
       "  </tbody>\n",
       "</table>\n",
       "</div>"
      ],
      "text/plain": [
       "             length       artists         album  time_signature  danceability  \\\n",
       "count  1.259400e+04  12594.000000  12594.000000    12594.000000  12594.000000   \n",
       "mean   2.385551e+05   4135.184215   4870.247816        4.502938      0.553316   \n",
       "std    1.263497e+05   2385.110827   2834.519720        6.384068      0.189292   \n",
       "min    9.750000e+03      0.000000      0.000000        0.000000      0.000000   \n",
       "25%    1.771040e+05   2094.250000   2406.000000        4.000000      0.428000   \n",
       "50%    2.119465e+05   4201.500000   4908.500000        4.000000      0.571000   \n",
       "75%    2.592970e+05   6213.750000   7320.750000        4.000000      0.693000   \n",
       "max    4.170227e+06   8136.000000   9764.000000       96.000000      0.978000   \n",
       "\n",
       "       acousticness        energy         tempo  instrumentalness  \\\n",
       "count  12594.000000  12594.000000  12594.000000      12594.000000   \n",
       "mean       0.315991      0.592348    119.010716          0.182240   \n",
       "std        0.361614      0.283803     31.161578          0.322545   \n",
       "min        0.000001      0.000568      0.000000          0.000000   \n",
       "25%        0.016200      0.413000     97.484000          0.000000   \n",
       "50%        0.128000      0.655000    121.940000          0.000332   \n",
       "75%        0.606750      0.827000    137.689500          0.180000   \n",
       "max        0.996000      0.999000    219.446000          0.986000   \n",
       "\n",
       "           loudness      liveness           key       valence   speechiness  \\\n",
       "count  12594.000000  12594.000000  12594.000000  12594.000000  12594.000000   \n",
       "mean      -9.627065      0.183178      6.463719      0.469516      0.084973   \n",
       "std        6.945035      0.148547     12.668640      0.428565      0.110423   \n",
       "min      -44.150000      0.012000      0.000000      0.000000      0.000000   \n",
       "25%      -10.962500      0.094100      2.000000      0.219000      0.036700   \n",
       "50%       -7.214500      0.122000      5.000000      0.423000      0.047400   \n",
       "75%       -5.198000      0.225000      9.000000      0.644000      0.079600   \n",
       "max        1.177000      0.985000    180.917000      5.000000      1.000000   \n",
       "\n",
       "               mode    Popularity       minutes      favorite  \n",
       "count  12594.000000  12594.000000  12594.000000  12594.000000  \n",
       "mean       0.672622     50.297933      3.975918      0.009370  \n",
       "std        0.684204     19.924747      2.105828      0.096346  \n",
       "min        0.000000      0.000000      0.162500      0.000000  \n",
       "25%        0.000000     39.000000      2.951733      0.000000  \n",
       "50%        1.000000     52.000000      3.532442      0.000000  \n",
       "75%        1.000000     65.000000      4.321617      0.000000  \n",
       "max       11.000000    100.000000     69.503783      1.000000  "
      ]
     },
     "execution_count": 159,
     "metadata": {},
     "output_type": "execute_result"
    }
   ],
   "source": [
    "df.describe()"
   ]
  },
  {
   "cell_type": "code",
   "execution_count": 160,
   "id": "9cc4ee53",
   "metadata": {},
   "outputs": [
    {
     "name": "stdout",
     "output_type": "stream",
     "text": [
      "<class 'pandas.core.frame.DataFrame'>\n",
      "RangeIndex: 12594 entries, 0 to 12593\n",
      "Data columns (total 19 columns):\n",
      " #   Column            Non-Null Count  Dtype  \n",
      "---  ------            --------------  -----  \n",
      " 0   track_id          12594 non-null  object \n",
      " 1   length            12594 non-null  int64  \n",
      " 2   artists           12594 non-null  int64  \n",
      " 3   album             12594 non-null  int64  \n",
      " 4   time_signature    12594 non-null  int64  \n",
      " 5   danceability      12594 non-null  float64\n",
      " 6   acousticness      12594 non-null  float64\n",
      " 7   energy            12594 non-null  float64\n",
      " 8   tempo             12594 non-null  float64\n",
      " 9   instrumentalness  12594 non-null  float64\n",
      " 10  loudness          12594 non-null  float64\n",
      " 11  liveness          12594 non-null  float64\n",
      " 12  key               12594 non-null  float64\n",
      " 13  valence           12594 non-null  float64\n",
      " 14  speechiness       12594 non-null  float64\n",
      " 15  mode              12594 non-null  int64  \n",
      " 16  Popularity        12594 non-null  float64\n",
      " 17  minutes           12594 non-null  float64\n",
      " 18  favorite          12594 non-null  int64  \n",
      "dtypes: float64(12), int64(6), object(1)\n",
      "memory usage: 1.8+ MB\n"
     ]
    }
   ],
   "source": [
    "df.info()"
   ]
  },
  {
   "cell_type": "code",
   "execution_count": 161,
   "id": "20be5f0f",
   "metadata": {},
   "outputs": [
    {
     "data": {
      "text/plain": [
       "favorite\n",
       "0    12476\n",
       "1      118\n",
       "Name: count, dtype: int64"
      ]
     },
     "execution_count": 161,
     "metadata": {},
     "output_type": "execute_result"
    }
   ],
   "source": [
    "df['favorite'].value_counts()"
   ]
  },
  {
   "cell_type": "code",
   "execution_count": 163,
   "id": "dd2c1c65",
   "metadata": {},
   "outputs": [
    {
     "name": "stdout",
     "output_type": "stream",
     "text": [
      "(12594, 19)\n"
     ]
    }
   ],
   "source": [
    "print(df.shape)"
   ]
  },
  {
   "cell_type": "code",
   "execution_count": 164,
   "id": "1ddca425",
   "metadata": {},
   "outputs": [],
   "source": [
    "X = df[['artists', 'key', 'valence', 'time_signature', 'tempo', 'mode']]\n",
    "\n",
    "\n",
    "y = df[['favorite']] "
   ]
  },
  {
   "cell_type": "code",
   "execution_count": 165,
   "id": "3eededc4",
   "metadata": {},
   "outputs": [
    {
     "name": "stdout",
     "output_type": "stream",
     "text": [
      "(12594, 6)\n",
      "(12594, 1)\n"
     ]
    }
   ],
   "source": [
    "print(X.shape)\n",
    "print(y.shape)"
   ]
  },
  {
   "cell_type": "markdown",
   "id": "0ede39d0",
   "metadata": {},
   "source": [
    "Train & Testing data set "
   ]
  },
  {
   "cell_type": "code",
   "execution_count": 167,
   "id": "44a34e08",
   "metadata": {},
   "outputs": [
    {
     "name": "stdout",
     "output_type": "stream",
     "text": [
      "(10075, 1)\n",
      "(2519, 1)\n"
     ]
    }
   ],
   "source": [
    "# Shuffle your dataset \n",
    "shuffle_df = df.sample(frac=1)\n",
    "# Split into training and test set \n",
    "X_train, X_test, y_train, y_test = train_test_split( \n",
    "             X, y, test_size = 0.2, random_state=42) \n",
    "\n",
    "\n",
    "#X_test = np.ravel(X_test)\n",
    "#y_test = np.ravel(y_test)\n",
    "\n",
    "print(y_train.shape)\n",
    "print(y_test.shape)"
   ]
  },
  {
   "cell_type": "code",
   "execution_count": 168,
   "id": "746768cf",
   "metadata": {},
   "outputs": [
    {
     "data": {
      "text/html": [
       "<div>\n",
       "<style scoped>\n",
       "    .dataframe tbody tr th:only-of-type {\n",
       "        vertical-align: middle;\n",
       "    }\n",
       "\n",
       "    .dataframe tbody tr th {\n",
       "        vertical-align: top;\n",
       "    }\n",
       "\n",
       "    .dataframe thead th {\n",
       "        text-align: right;\n",
       "    }\n",
       "</style>\n",
       "<table border=\"1\" class=\"dataframe\">\n",
       "  <thead>\n",
       "    <tr style=\"text-align: right;\">\n",
       "      <th></th>\n",
       "      <th>artists</th>\n",
       "      <th>key</th>\n",
       "      <th>valence</th>\n",
       "      <th>time_signature</th>\n",
       "      <th>tempo</th>\n",
       "      <th>mode</th>\n",
       "    </tr>\n",
       "  </thead>\n",
       "  <tbody>\n",
       "    <tr>\n",
       "      <th>3470</th>\n",
       "      <td>747</td>\n",
       "      <td>2.0</td>\n",
       "      <td>0.190</td>\n",
       "      <td>4</td>\n",
       "      <td>77.079</td>\n",
       "      <td>0</td>\n",
       "    </tr>\n",
       "    <tr>\n",
       "      <th>2619</th>\n",
       "      <td>629</td>\n",
       "      <td>7.0</td>\n",
       "      <td>0.338</td>\n",
       "      <td>4</td>\n",
       "      <td>125.012</td>\n",
       "      <td>0</td>\n",
       "    </tr>\n",
       "    <tr>\n",
       "      <th>6918</th>\n",
       "      <td>8018</td>\n",
       "      <td>9.0</td>\n",
       "      <td>0.772</td>\n",
       "      <td>4</td>\n",
       "      <td>139.976</td>\n",
       "      <td>1</td>\n",
       "    </tr>\n",
       "  </tbody>\n",
       "</table>\n",
       "</div>"
      ],
      "text/plain": [
       "      artists  key  valence  time_signature    tempo  mode\n",
       "3470      747  2.0    0.190               4   77.079     0\n",
       "2619      629  7.0    0.338               4  125.012     0\n",
       "6918     8018  9.0    0.772               4  139.976     1"
      ]
     },
     "execution_count": 168,
     "metadata": {},
     "output_type": "execute_result"
    }
   ],
   "source": [
    "X_train.head(3)"
   ]
  },
  {
   "cell_type": "markdown",
   "id": "26348b4a",
   "metadata": {},
   "source": [
    "##### fix the imbalanced data set "
   ]
  },
  {
   "cell_type": "code",
   "execution_count": 169,
   "id": "2f691940",
   "metadata": {},
   "outputs": [],
   "source": [
    "from imblearn.over_sampling import SMOTE\n",
    "# Train / Split Data\n",
    "oversample = SMOTE()\n",
    "X_train, y_train = oversample.fit_resample(X, y) "
   ]
  },
  {
   "cell_type": "code",
   "execution_count": 170,
   "id": "bea3f74f",
   "metadata": {},
   "outputs": [
    {
     "data": {
      "text/plain": [
       "favorite\n",
       "0           12476\n",
       "1           12476\n",
       "Name: count, dtype: int64"
      ]
     },
     "execution_count": 170,
     "metadata": {},
     "output_type": "execute_result"
    }
   ],
   "source": [
    "y_train.value_counts()"
   ]
  },
  {
   "cell_type": "code",
   "execution_count": 185,
   "id": "2cac296b",
   "metadata": {},
   "outputs": [
    {
     "data": {
      "text/plain": [
       "favorite\n",
       "0           2499\n",
       "1             20\n",
       "Name: count, dtype: int64"
      ]
     },
     "execution_count": 185,
     "metadata": {},
     "output_type": "execute_result"
    }
   ],
   "source": [
    "y_test.value_counts()"
   ]
  },
  {
   "cell_type": "markdown",
   "id": "a1caa78e",
   "metadata": {},
   "source": [
    "## ML Algo"
   ]
  },
  {
   "cell_type": "code",
   "execution_count": 171,
   "id": "55ac95a4",
   "metadata": {},
   "outputs": [
    {
     "name": "stdout",
     "output_type": "stream",
     "text": [
      "1.0\n"
     ]
    }
   ],
   "source": [
    "from sklearn.linear_model import LogisticRegression \n",
    "from sklearn.model_selection import cross_val_score\n",
    "\n",
    "# Logistic Regression\n",
    "lr = LogisticRegression(solver='lbfgs', max_iter=400)\n",
    "lr.fit(X_train, np.ravel(y_train, order='C'))\n",
    "\n",
    "lr_scores = cross_val_score(lr, X_train, np.ravel(y_train), cv=10, scoring=\"f1\")\n",
    "print(np.mean(lr_scores))\n"
   ]
  },
  {
   "cell_type": "code",
   "execution_count": 191,
   "metadata": {},
   "outputs": [
    {
     "data": {
      "image/png": "[encoded data removed]",
      "text/plain": [
       "<Figure size 800x600 with 1 Axes>"
      ]
     },
     "metadata": {
      "image/png": {
       "height": 546,
       "width": 691
      }
     },
     "output_type": "display_data"
    }
   ],
   "source": [
    "# Plotting the cross-validation scores\n",
    "mean_score = np.mean(lr_scores)\n",
    "\n",
    "plt.figure(figsize=(8, 6))\n",
    "plt.bar(range(len(lr_scores)), lr_scores, color='skyblue')\n",
    "plt.axhline(mean_score, color='red', linestyle='dashed', linewidth=2, label='Mean F1 Score')\n",
    "plt.xlabel('Cross-Validation Fold')\n",
    "plt.ylabel('F1 Score')\n",
    "plt.title('Cross-Validation Scores for Logistic Regression')\n",
    "plt.legend()\n",
    "plt.show()"
   ]
  },
  {
   "cell_type": "code",
   "execution_count": 195,
   "id": "504f4212",
   "metadata": {},
   "outputs": [
    {
     "data": {
      "image/png": "[encoded data removed]",
      "text/plain": [
       "<Figure size 800x600 with 2 Axes>"
      ]
     },
     "metadata": {
      "image/png": {
       "height": 546,
       "width": 658
      }
     },
     "output_type": "display_data"
    }
   ],
   "source": [
    "from sklearn.metrics import confusion_matrix\n",
    "import matplotlib.pyplot as plt\n",
    "import seaborn as sns\n",
    "\n",
    "# Assuming you have y_test (true labels) and predictions (predicted labels)\n",
    "confusion_mat = confusion_matrix(y_test, predictions)\n",
    "\n",
    "# Visualizing the confusion matrix\n",
    "plt.figure(figsize=(8, 6))\n",
    "sns.heatmap(confusion_mat, annot=True, fmt='d', cmap='Blues')\n",
    "plt.xlabel('Predicted')\n",
    "plt.ylabel('Actual')\n",
    "plt.title('Confusion Matrix')\n",
    "plt.show()\n"
   ]
  },
  {
   "cell_type": "markdown",
   "id": "6355afec",
   "metadata": {},
   "source": [
    "## KNN's  "
   ]
  },
  {
   "cell_type": "code",
   "execution_count": 175,
   "id": "a021b0d7",
   "metadata": {},
   "outputs": [
    {
     "name": "stdout",
     "output_type": "stream",
     "text": [
      "[0 0 0 ... 0 0 0]\n"
     ]
    }
   ],
   "source": [
    "  # Import necessary modules \n",
    "from sklearn.neighbors import KNeighborsClassifier \n",
    "from sklearn.model_selection import train_test_split \n",
    "\n",
    "knn = KNeighborsClassifier(n_neighbors=7) \n",
    "\n",
    "knn.fit(X_train, np.ravel(y_train))\n",
    "  \n",
    "# Predict on dataset which model has not seen before \n",
    "print(knn.predict(X_test)) "
   ]
  },
  {
   "cell_type": "code",
   "execution_count": 178,
   "id": "fb0579b2",
   "metadata": {},
   "outputs": [
    {
     "data": {
      "image/png": "[encoded data removed]",
      "text/plain": [
       "<Figure size 800x600 with 2 Axes>"
      ]
     },
     "metadata": {
      "image/png": {
       "height": 546,
       "width": 658
      }
     },
     "output_type": "display_data"
    }
   ],
   "source": [
    "from sklearn.metrics import confusion_matrix\n",
    "import matplotlib.pyplot as plt\n",
    "import seaborn as sns  # Optional - for a nicer visualization\n",
    "\n",
    "\n",
    "# Get predictions from the model\n",
    "predictions = knn.predict(X_test)\n",
    "\n",
    "# Create a confusion matrix\n",
    "conf_matrix = confusion_matrix(y_test, predictions)\n",
    "\n",
    "# Display the confusion matrix using matplotlib\n",
    "plt.figure(figsize=(8, 6))\n",
    "sns.heatmap(conf_matrix, annot=True, fmt='d', cmap='Blues')  # Using seaborn for a heatmap\n",
    "plt.xlabel('Predicted')\n",
    "plt.ylabel('Actual')\n",
    "plt.title('Confusion Matrix')\n",
    "plt.show()\n"
   ]
  },
  {
   "cell_type": "markdown",
   "id": "5d729099",
   "metadata": {},
   "source": [
    "## Descision tree "
   ]
  },
  {
   "cell_type": "code",
   "execution_count": 181,
   "id": "2977cd76",
   "metadata": {},
   "outputs": [
    {
     "name": "stdout",
     "output_type": "stream",
     "text": [
      "Accuracy: 1.0\n"
     ]
    }
   ],
   "source": [
    "from sklearn.tree import DecisionTreeClassifier, export_graphviz\n",
    "from sklearn.metrics import accuracy_score, classification_report\n",
    "\n",
    "\n",
    "# Create and fit the Decision Tree classifier\n",
    "clf = DecisionTreeClassifier()\n",
    "clf.fit(X_train, y_train)\n",
    "# Make predictions\n",
    "predictions = clf.predict(X_test)\n",
    "\n",
    "# Evaluate the model\n",
    "accuracy = accuracy_score(y_test, predictions)\n",
    "print(\"Accuracy:\", accuracy)"
   ]
  },
  {
   "cell_type": "code",
   "execution_count": null,
   "id": "f3979d15",
   "metadata": {},
   "outputs": [
    {
     "name": "stdout",
     "output_type": "stream",
     "text": [
      "Classification Report:\n",
      "               precision    recall  f1-score   support\n",
      "\n",
      "           0       1.00      1.00      1.00      2499\n",
      "           1       1.00      1.00      1.00        20\n",
      "\n",
      "    accuracy                           1.00      2519\n",
      "   macro avg       1.00      1.00      1.00      2519\n",
      "weighted avg       1.00      1.00      1.00      2519\n",
      "\n"
     ]
    }
   ],
   "source": [
    "report = classification_report(y_test, predictions)\n",
    "print(\"Classification Report:\\n\", report)"
   ]
  },
  {
   "cell_type": "code",
   "execution_count": null,
   "id": "f678676c",
   "metadata": {},
   "outputs": [
    {
     "ename": "NameError",
     "evalue": "name 'Pipeline' is not defined",
     "output_type": "error",
     "traceback": [
      "\u001b[1;31m---------------------------------------------------------------------------\u001b[0m",
      "\u001b[1;31mNameError\u001b[0m                                 Traceback (most recent call last)",
      "File \u001b[1;32m<timed exec>:2\u001b[0m\n",
      "\u001b[1;31mNameError\u001b[0m: name 'Pipeline' is not defined"
     ]
    }
   ],
   "source": [
    "%%time\n",
    "# RandomForestClassifier\n",
    "rf = Pipeline([('rf', RandomForestClassifier(n_estimators = 10, max_depth = 20).fit(X_train, y_train))])\n",
    "rf_scores = cross_val_score(rf, X_train, y_train, cv=10, scoring=\"f1\")\n",
    "np.mean(rf_scores)"
   ]
  },
  {
   "cell_type": "code",
   "execution_count": null,
   "id": "a569f408",
   "metadata": {},
   "outputs": [
    {
     "data": {
      "text/plain": [
       "favorite\n",
       "0           2499\n",
       "1             20\n",
       "Name: count, dtype: int64"
      ]
     },
     "execution_count": 149,
     "metadata": {},
     "output_type": "execute_result"
    }
   ],
   "source": [
    "# Checking for imbalance\n",
    "y_test.value_counts()"
   ]
  },
  {
   "cell_type": "code",
   "execution_count": null,
   "id": "81a4a71d",
   "metadata": {},
   "outputs": [],
   "source": [
    "# Building a pipeline to use on regular data\n",
    "from sklearn.pipeline import make_pipeline\n",
    "from sklearn.preprocessing import StandardScaler\n",
    "\n",
    "pipe = make_pipeline(StandardScaler(), DecisionTreeClassifier(max_depth=30))\n",
    "pipe.fit(X_train, y_train)  # apply scaling on training data\n",
    "Pipeline(steps=[('standardscaler', StandardScaler()),\n",
    "                ('dt', DecisionTreeClassifier(max_depth=30))])\n",
    "\n",
    "pipe.score(X_test, y_test)"
   ]
  }
 ],
 "metadata": {
  "kernelspec": {
   "display_name": "Python 3 (ipykernel)",
   "language": "python",
   "name": "python3"
  },
  "language_info": {
   "codemirror_mode": {
    "name": "ipython",
    "version": 3
   },
   "file_extension": ".py",
   "mimetype": "text/x-python",
   "name": "python",
   "nbconvert_exporter": "python",
   "pygments_lexer": "ipython3",
   "version": "3.9.13"
  }
 },
 "nbformat": 4,
 "nbformat_minor": 5
}
