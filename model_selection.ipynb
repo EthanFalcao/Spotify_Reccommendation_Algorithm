{
 "cells": [
  {
   "cell_type": "code",
   "execution_count": 135,
   "id": "d209f050",
   "metadata": {},
   "outputs": [],
   "source": [
    "# Import the libraries\n",
    "import os\n",
    "import pandas as pd\n",
    "import numpy as np\n",
    "import json\n",
    "import matplotlib.pyplot as plt\n",
    "import seaborn as sns\n",
    "%config InlineBackend.figure_format ='retina'\n",
    "import spotipy\n",
    "import spotipy.util as util\n",
    "from spotipy.oauth2 import SpotifyClientCredentials\n",
    "\n",
    "from sklearn.model_selection import train_test_split\n",
    "from sklearn.model_selection import cross_val_score\n",
    "from sklearn.preprocessing import StandardScaler\n",
    "\n",
    "from sklearn.tree import DecisionTreeClassifier\n",
    "from sklearn.ensemble import RandomForestClassifier\n",
    "from sklearn.ensemble import AdaBoostClassifier\n",
    "from sklearn.linear_model import LogisticRegressionCV\n",
    "\n",
    "from sklearn.neighbors import KNeighborsClassifier\n",
    "\n",
    "import warnings\n",
    "warnings.simplefilter(action='ignore', category=FutureWarning)\n"
   ]
  },
  {
   "cell_type": "markdown",
   "id": "7f99712a",
   "metadata": {},
   "source": [
    "## Import data"
   ]
  },
  {
   "cell_type": "code",
   "execution_count": 136,
   "id": "36ee14e2",
   "metadata": {},
   "outputs": [],
   "source": [
    "#13k top spotify songs \n",
    "#df=pd.read_csv('data/df.csv', sep=\",\")\n",
    "#users favorite tracks based on time \n",
    "df_fav=pd.read_csv('data/df_fav.csv', sep=\",\")\n",
    "df=pd.read_csv('data/df_hot.csv', sep=\",\")"
   ]
  },
  {
   "cell_type": "code",
   "execution_count": 137,
   "id": "856466dc",
   "metadata": {},
   "outputs": [
    {
     "data": {
      "text/html": [
       "<div>\n",
       "<style scoped>\n",
       "    .dataframe tbody tr th:only-of-type {\n",
       "        vertical-align: middle;\n",
       "    }\n",
       "\n",
       "    .dataframe tbody tr th {\n",
       "        vertical-align: top;\n",
       "    }\n",
       "\n",
       "    .dataframe thead th {\n",
       "        text-align: right;\n",
       "    }\n",
       "</style>\n",
       "<table border=\"1\" class=\"dataframe\">\n",
       "  <thead>\n",
       "    <tr style=\"text-align: right;\">\n",
       "      <th></th>\n",
       "      <th>length</th>\n",
       "      <th>artists</th>\n",
       "      <th>album</th>\n",
       "      <th>time_signature</th>\n",
       "      <th>danceability</th>\n",
       "      <th>acousticness</th>\n",
       "      <th>energy</th>\n",
       "      <th>tempo</th>\n",
       "      <th>instrumentalness</th>\n",
       "      <th>loudness</th>\n",
       "      <th>...</th>\n",
       "      <th>valence</th>\n",
       "      <th>speechiness</th>\n",
       "      <th>mode</th>\n",
       "      <th>Popularity</th>\n",
       "      <th>minutes</th>\n",
       "      <th>beat_density</th>\n",
       "      <th>Popularity_Rank</th>\n",
       "      <th>melody_complexity</th>\n",
       "      <th>instrumental_acoustic_ratio</th>\n",
       "      <th>favorite</th>\n",
       "    </tr>\n",
       "  </thead>\n",
       "  <tbody>\n",
       "    <tr>\n",
       "      <th>count</th>\n",
       "      <td>12594.00</td>\n",
       "      <td>12594.00</td>\n",
       "      <td>12594.00</td>\n",
       "      <td>12594.00</td>\n",
       "      <td>12594.00</td>\n",
       "      <td>12594.00</td>\n",
       "      <td>12594.00</td>\n",
       "      <td>12594.00</td>\n",
       "      <td>12594.00</td>\n",
       "      <td>12594.00</td>\n",
       "      <td>...</td>\n",
       "      <td>12594.00</td>\n",
       "      <td>12594.00</td>\n",
       "      <td>12594.00</td>\n",
       "      <td>12594.00</td>\n",
       "      <td>12594.00</td>\n",
       "      <td>12594.00</td>\n",
       "      <td>12594.00</td>\n",
       "      <td>12594.00</td>\n",
       "      <td>12594.00</td>\n",
       "      <td>12594.00</td>\n",
       "    </tr>\n",
       "    <tr>\n",
       "      <th>mean</th>\n",
       "      <td>238555.06</td>\n",
       "      <td>4135.18</td>\n",
       "      <td>4870.25</td>\n",
       "      <td>4.50</td>\n",
       "      <td>0.55</td>\n",
       "      <td>0.32</td>\n",
       "      <td>0.59</td>\n",
       "      <td>119.01</td>\n",
       "      <td>0.18</td>\n",
       "      <td>-9.63</td>\n",
       "      <td>...</td>\n",
       "      <td>0.47</td>\n",
       "      <td>0.08</td>\n",
       "      <td>0.67</td>\n",
       "      <td>50.30</td>\n",
       "      <td>3.98</td>\n",
       "      <td>35.10</td>\n",
       "      <td>6180.61</td>\n",
       "      <td>465.29</td>\n",
       "      <td>537.97</td>\n",
       "      <td>0.01</td>\n",
       "    </tr>\n",
       "    <tr>\n",
       "      <th>std</th>\n",
       "      <td>126349.68</td>\n",
       "      <td>2385.11</td>\n",
       "      <td>2834.52</td>\n",
       "      <td>6.38</td>\n",
       "      <td>0.19</td>\n",
       "      <td>0.36</td>\n",
       "      <td>0.28</td>\n",
       "      <td>31.16</td>\n",
       "      <td>0.32</td>\n",
       "      <td>6.95</td>\n",
       "      <td>...</td>\n",
       "      <td>0.43</td>\n",
       "      <td>0.11</td>\n",
       "      <td>0.68</td>\n",
       "      <td>19.92</td>\n",
       "      <td>2.11</td>\n",
       "      <td>18.80</td>\n",
       "      <td>3633.37</td>\n",
       "      <td>132.17</td>\n",
       "      <td>11978.91</td>\n",
       "      <td>0.10</td>\n",
       "    </tr>\n",
       "    <tr>\n",
       "      <th>min</th>\n",
       "      <td>9750.00</td>\n",
       "      <td>0.00</td>\n",
       "      <td>0.00</td>\n",
       "      <td>0.00</td>\n",
       "      <td>0.00</td>\n",
       "      <td>0.00</td>\n",
       "      <td>0.00</td>\n",
       "      <td>0.00</td>\n",
       "      <td>0.00</td>\n",
       "      <td>-44.15</td>\n",
       "      <td>...</td>\n",
       "      <td>0.00</td>\n",
       "      <td>0.00</td>\n",
       "      <td>0.00</td>\n",
       "      <td>0.00</td>\n",
       "      <td>0.16</td>\n",
       "      <td>0.00</td>\n",
       "      <td>1.00</td>\n",
       "      <td>0.00</td>\n",
       "      <td>0.00</td>\n",
       "      <td>0.00</td>\n",
       "    </tr>\n",
       "    <tr>\n",
       "      <th>25%</th>\n",
       "      <td>177104.00</td>\n",
       "      <td>2094.25</td>\n",
       "      <td>2406.00</td>\n",
       "      <td>4.00</td>\n",
       "      <td>0.43</td>\n",
       "      <td>0.02</td>\n",
       "      <td>0.41</td>\n",
       "      <td>97.48</td>\n",
       "      <td>0.00</td>\n",
       "      <td>-10.96</td>\n",
       "      <td>...</td>\n",
       "      <td>0.22</td>\n",
       "      <td>0.04</td>\n",
       "      <td>0.00</td>\n",
       "      <td>39.00</td>\n",
       "      <td>2.95</td>\n",
       "      <td>24.42</td>\n",
       "      <td>3045.50</td>\n",
       "      <td>380.04</td>\n",
       "      <td>0.00</td>\n",
       "      <td>0.00</td>\n",
       "    </tr>\n",
       "    <tr>\n",
       "      <th>50%</th>\n",
       "      <td>211946.50</td>\n",
       "      <td>4201.50</td>\n",
       "      <td>4908.50</td>\n",
       "      <td>4.00</td>\n",
       "      <td>0.57</td>\n",
       "      <td>0.13</td>\n",
       "      <td>0.66</td>\n",
       "      <td>121.94</td>\n",
       "      <td>0.00</td>\n",
       "      <td>-7.21</td>\n",
       "      <td>...</td>\n",
       "      <td>0.42</td>\n",
       "      <td>0.05</td>\n",
       "      <td>1.00</td>\n",
       "      <td>52.00</td>\n",
       "      <td>3.53</td>\n",
       "      <td>33.46</td>\n",
       "      <td>6092.00</td>\n",
       "      <td>480.02</td>\n",
       "      <td>0.01</td>\n",
       "      <td>0.00</td>\n",
       "    </tr>\n",
       "    <tr>\n",
       "      <th>75%</th>\n",
       "      <td>259297.00</td>\n",
       "      <td>6213.75</td>\n",
       "      <td>7320.75</td>\n",
       "      <td>4.00</td>\n",
       "      <td>0.69</td>\n",
       "      <td>0.61</td>\n",
       "      <td>0.83</td>\n",
       "      <td>137.69</td>\n",
       "      <td>0.18</td>\n",
       "      <td>-5.20</td>\n",
       "      <td>...</td>\n",
       "      <td>0.64</td>\n",
       "      <td>0.08</td>\n",
       "      <td>1.00</td>\n",
       "      <td>65.00</td>\n",
       "      <td>4.32</td>\n",
       "      <td>42.87</td>\n",
       "      <td>9370.50</td>\n",
       "      <td>543.82</td>\n",
       "      <td>0.92</td>\n",
       "      <td>0.00</td>\n",
       "    </tr>\n",
       "    <tr>\n",
       "      <th>max</th>\n",
       "      <td>4170227.00</td>\n",
       "      <td>8136.00</td>\n",
       "      <td>9764.00</td>\n",
       "      <td>96.00</td>\n",
       "      <td>0.98</td>\n",
       "      <td>1.00</td>\n",
       "      <td>1.00</td>\n",
       "      <td>219.45</td>\n",
       "      <td>0.99</td>\n",
       "      <td>1.18</td>\n",
       "      <td>...</td>\n",
       "      <td>5.00</td>\n",
       "      <td>1.00</td>\n",
       "      <td>11.00</td>\n",
       "      <td>100.00</td>\n",
       "      <td>69.50</td>\n",
       "      <td>574.66</td>\n",
       "      <td>12343.00</td>\n",
       "      <td>926.36</td>\n",
       "      <td>747863.25</td>\n",
       "      <td>1.00</td>\n",
       "    </tr>\n",
       "  </tbody>\n",
       "</table>\n",
       "<p>8 rows × 22 columns</p>\n",
       "</div>"
      ],
      "text/plain": [
       "          length  artists    album  time_signature  danceability  \\\n",
       "count   12594.00 12594.00 12594.00        12594.00      12594.00   \n",
       "mean   238555.06  4135.18  4870.25            4.50          0.55   \n",
       "std    126349.68  2385.11  2834.52            6.38          0.19   \n",
       "min      9750.00     0.00     0.00            0.00          0.00   \n",
       "25%    177104.00  2094.25  2406.00            4.00          0.43   \n",
       "50%    211946.50  4201.50  4908.50            4.00          0.57   \n",
       "75%    259297.00  6213.75  7320.75            4.00          0.69   \n",
       "max   4170227.00  8136.00  9764.00           96.00          0.98   \n",
       "\n",
       "       acousticness   energy    tempo  instrumentalness  loudness  ...  \\\n",
       "count      12594.00 12594.00 12594.00          12594.00  12594.00  ...   \n",
       "mean           0.32     0.59   119.01              0.18     -9.63  ...   \n",
       "std            0.36     0.28    31.16              0.32      6.95  ...   \n",
       "min            0.00     0.00     0.00              0.00    -44.15  ...   \n",
       "25%            0.02     0.41    97.48              0.00    -10.96  ...   \n",
       "50%            0.13     0.66   121.94              0.00     -7.21  ...   \n",
       "75%            0.61     0.83   137.69              0.18     -5.20  ...   \n",
       "max            1.00     1.00   219.45              0.99      1.18  ...   \n",
       "\n",
       "       valence  speechiness     mode  Popularity  minutes  beat_density  \\\n",
       "count 12594.00     12594.00 12594.00    12594.00 12594.00      12594.00   \n",
       "mean      0.47         0.08     0.67       50.30     3.98         35.10   \n",
       "std       0.43         0.11     0.68       19.92     2.11         18.80   \n",
       "min       0.00         0.00     0.00        0.00     0.16          0.00   \n",
       "25%       0.22         0.04     0.00       39.00     2.95         24.42   \n",
       "50%       0.42         0.05     1.00       52.00     3.53         33.46   \n",
       "75%       0.64         0.08     1.00       65.00     4.32         42.87   \n",
       "max       5.00         1.00    11.00      100.00    69.50        574.66   \n",
       "\n",
       "       Popularity_Rank  melody_complexity  instrumental_acoustic_ratio  \\\n",
       "count         12594.00           12594.00                     12594.00   \n",
       "mean           6180.61             465.29                       537.97   \n",
       "std            3633.37             132.17                     11978.91   \n",
       "min               1.00               0.00                         0.00   \n",
       "25%            3045.50             380.04                         0.00   \n",
       "50%            6092.00             480.02                         0.01   \n",
       "75%            9370.50             543.82                         0.92   \n",
       "max           12343.00             926.36                    747863.25   \n",
       "\n",
       "       favorite  \n",
       "count  12594.00  \n",
       "mean       0.01  \n",
       "std        0.10  \n",
       "min        0.00  \n",
       "25%        0.00  \n",
       "50%        0.00  \n",
       "75%        0.00  \n",
       "max        1.00  \n",
       "\n",
       "[8 rows x 22 columns]"
      ]
     },
     "execution_count": 137,
     "metadata": {},
     "output_type": "execute_result"
    }
   ],
   "source": [
    "df.describe()"
   ]
  },
  {
   "cell_type": "code",
   "execution_count": 138,
   "id": "9cc4ee53",
   "metadata": {},
   "outputs": [
    {
     "name": "stdout",
     "output_type": "stream",
     "text": [
      "<class 'pandas.core.frame.DataFrame'>\n",
      "RangeIndex: 12594 entries, 0 to 12593\n",
      "Data columns (total 23 columns):\n",
      " #   Column                       Non-Null Count  Dtype  \n",
      "---  ------                       --------------  -----  \n",
      " 0   track_id                     12594 non-null  object \n",
      " 1   length                       12594 non-null  int64  \n",
      " 2   artists                      12594 non-null  int64  \n",
      " 3   album                        12594 non-null  int64  \n",
      " 4   time_signature               12594 non-null  int64  \n",
      " 5   danceability                 12594 non-null  float64\n",
      " 6   acousticness                 12594 non-null  float64\n",
      " 7   energy                       12594 non-null  float64\n",
      " 8   tempo                        12594 non-null  float64\n",
      " 9   instrumentalness             12594 non-null  float64\n",
      " 10  loudness                     12594 non-null  float64\n",
      " 11  liveness                     12594 non-null  float64\n",
      " 12  key                          12594 non-null  float64\n",
      " 13  valence                      12594 non-null  float64\n",
      " 14  speechiness                  12594 non-null  float64\n",
      " 15  mode                         12594 non-null  int64  \n",
      " 16  Popularity                   12594 non-null  float64\n",
      " 17  minutes                      12594 non-null  float64\n",
      " 18  beat_density                 12594 non-null  float64\n",
      " 19  Popularity_Rank              12594 non-null  float64\n",
      " 20  melody_complexity            12594 non-null  float64\n",
      " 21  instrumental_acoustic_ratio  12594 non-null  float64\n",
      " 22  favorite                     12594 non-null  int64  \n",
      "dtypes: float64(16), int64(6), object(1)\n",
      "memory usage: 2.2+ MB\n"
     ]
    }
   ],
   "source": [
    "df.info()"
   ]
  },
  {
   "cell_type": "code",
   "execution_count": 139,
   "id": "20be5f0f",
   "metadata": {},
   "outputs": [
    {
     "data": {
      "text/plain": [
       "favorite\n",
       "0    12476\n",
       "1      118\n",
       "Name: count, dtype: int64"
      ]
     },
     "execution_count": 139,
     "metadata": {},
     "output_type": "execute_result"
    }
   ],
   "source": [
    "df['favorite'].value_counts()"
   ]
  },
  {
   "cell_type": "code",
   "execution_count": 140,
   "id": "dd2c1c65",
   "metadata": {},
   "outputs": [
    {
     "name": "stdout",
     "output_type": "stream",
     "text": [
      "(12594, 23)\n"
     ]
    }
   ],
   "source": [
    "print(df.shape)"
   ]
  },
  {
   "cell_type": "code",
   "execution_count": 141,
   "id": "c3bc30cb",
   "metadata": {},
   "outputs": [
    {
     "data": {
      "text/html": [
       "<div>\n",
       "<style scoped>\n",
       "    .dataframe tbody tr th:only-of-type {\n",
       "        vertical-align: middle;\n",
       "    }\n",
       "\n",
       "    .dataframe tbody tr th {\n",
       "        vertical-align: top;\n",
       "    }\n",
       "\n",
       "    .dataframe thead th {\n",
       "        text-align: right;\n",
       "    }\n",
       "</style>\n",
       "<table border=\"1\" class=\"dataframe\">\n",
       "  <thead>\n",
       "    <tr style=\"text-align: right;\">\n",
       "      <th></th>\n",
       "      <th>track_id</th>\n",
       "      <th>length</th>\n",
       "      <th>artists</th>\n",
       "      <th>album</th>\n",
       "      <th>time_signature</th>\n",
       "      <th>danceability</th>\n",
       "      <th>acousticness</th>\n",
       "      <th>energy</th>\n",
       "      <th>tempo</th>\n",
       "      <th>instrumentalness</th>\n",
       "      <th>...</th>\n",
       "      <th>valence</th>\n",
       "      <th>speechiness</th>\n",
       "      <th>mode</th>\n",
       "      <th>Popularity</th>\n",
       "      <th>minutes</th>\n",
       "      <th>beat_density</th>\n",
       "      <th>Popularity_Rank</th>\n",
       "      <th>melody_complexity</th>\n",
       "      <th>instrumental_acoustic_ratio</th>\n",
       "      <th>favorite</th>\n",
       "    </tr>\n",
       "  </thead>\n",
       "  <tbody>\n",
       "    <tr>\n",
       "      <th>0</th>\n",
       "      <td>3rUGC1vUpkDG9CZFHMur1t</td>\n",
       "      <td>131872</td>\n",
       "      <td>7016</td>\n",
       "      <td>9646</td>\n",
       "      <td>1</td>\n",
       "      <td>0.75</td>\n",
       "      <td>0.26</td>\n",
       "      <td>0.73</td>\n",
       "      <td>111.02</td>\n",
       "      <td>0.00</td>\n",
       "      <td>...</td>\n",
       "      <td>0.84</td>\n",
       "      <td>0.03</td>\n",
       "      <td>0</td>\n",
       "      <td>98.00</td>\n",
       "      <td>2.20</td>\n",
       "      <td>50.51</td>\n",
       "      <td>4.50</td>\n",
       "      <td>111.02</td>\n",
       "      <td>0.00</td>\n",
       "      <td>0</td>\n",
       "    </tr>\n",
       "    <tr>\n",
       "      <th>1</th>\n",
       "      <td>7aqfrAY2p9BUSiupwk3svU</td>\n",
       "      <td>247444</td>\n",
       "      <td>2075</td>\n",
       "      <td>2891</td>\n",
       "      <td>4</td>\n",
       "      <td>0.47</td>\n",
       "      <td>0.03</td>\n",
       "      <td>0.64</td>\n",
       "      <td>163.92</td>\n",
       "      <td>0.00</td>\n",
       "      <td>...</td>\n",
       "      <td>0.25</td>\n",
       "      <td>0.32</td>\n",
       "      <td>1</td>\n",
       "      <td>91.00</td>\n",
       "      <td>4.12</td>\n",
       "      <td>39.75</td>\n",
       "      <td>49.50</td>\n",
       "      <td>655.68</td>\n",
       "      <td>0.00</td>\n",
       "      <td>0</td>\n",
       "    </tr>\n",
       "    <tr>\n",
       "      <th>2</th>\n",
       "      <td>7dJYggqjKo71KI9sLzqCs8</td>\n",
       "      <td>265360</td>\n",
       "      <td>2007</td>\n",
       "      <td>7025</td>\n",
       "      <td>4</td>\n",
       "      <td>0.75</td>\n",
       "      <td>0.23</td>\n",
       "      <td>0.67</td>\n",
       "      <td>123.03</td>\n",
       "      <td>0.00</td>\n",
       "      <td>...</td>\n",
       "      <td>0.39</td>\n",
       "      <td>0.10</td>\n",
       "      <td>0</td>\n",
       "      <td>89.00</td>\n",
       "      <td>4.42</td>\n",
       "      <td>27.82</td>\n",
       "      <td>89.50</td>\n",
       "      <td>492.10</td>\n",
       "      <td>0.00</td>\n",
       "      <td>0</td>\n",
       "    </tr>\n",
       "    <tr>\n",
       "      <th>3</th>\n",
       "      <td>4MjDJD8cW7iVeWInc2Bdyj</td>\n",
       "      <td>267194</td>\n",
       "      <td>742</td>\n",
       "      <td>9691</td>\n",
       "      <td>4</td>\n",
       "      <td>0.79</td>\n",
       "      <td>0.15</td>\n",
       "      <td>0.62</td>\n",
       "      <td>139.06</td>\n",
       "      <td>0.00</td>\n",
       "      <td>...</td>\n",
       "      <td>0.13</td>\n",
       "      <td>0.07</td>\n",
       "      <td>0</td>\n",
       "      <td>94.00</td>\n",
       "      <td>4.45</td>\n",
       "      <td>31.23</td>\n",
       "      <td>21.00</td>\n",
       "      <td>556.22</td>\n",
       "      <td>0.00</td>\n",
       "      <td>0</td>\n",
       "    </tr>\n",
       "    <tr>\n",
       "      <th>4</th>\n",
       "      <td>5aIVCx5tnk0ntmdiinnYvw</td>\n",
       "      <td>200256</td>\n",
       "      <td>7579</td>\n",
       "      <td>9135</td>\n",
       "      <td>4</td>\n",
       "      <td>0.67</td>\n",
       "      <td>0.09</td>\n",
       "      <td>0.72</td>\n",
       "      <td>117.19</td>\n",
       "      <td>0.00</td>\n",
       "      <td>...</td>\n",
       "      <td>0.52</td>\n",
       "      <td>0.08</td>\n",
       "      <td>0</td>\n",
       "      <td>92.00</td>\n",
       "      <td>3.34</td>\n",
       "      <td>35.11</td>\n",
       "      <td>37.50</td>\n",
       "      <td>468.75</td>\n",
       "      <td>0.00</td>\n",
       "      <td>0</td>\n",
       "    </tr>\n",
       "    <tr>\n",
       "      <th>...</th>\n",
       "      <td>...</td>\n",
       "      <td>...</td>\n",
       "      <td>...</td>\n",
       "      <td>...</td>\n",
       "      <td>...</td>\n",
       "      <td>...</td>\n",
       "      <td>...</td>\n",
       "      <td>...</td>\n",
       "      <td>...</td>\n",
       "      <td>...</td>\n",
       "      <td>...</td>\n",
       "      <td>...</td>\n",
       "      <td>...</td>\n",
       "      <td>...</td>\n",
       "      <td>...</td>\n",
       "      <td>...</td>\n",
       "      <td>...</td>\n",
       "      <td>...</td>\n",
       "      <td>...</td>\n",
       "      <td>...</td>\n",
       "      <td>...</td>\n",
       "    </tr>\n",
       "    <tr>\n",
       "      <th>12589</th>\n",
       "      <td>5R2rsbwCDXORX2tLfprRmM</td>\n",
       "      <td>166343</td>\n",
       "      <td>15</td>\n",
       "      <td>5774</td>\n",
       "      <td>72</td>\n",
       "      <td>0.72</td>\n",
       "      <td>0.32</td>\n",
       "      <td>0.51</td>\n",
       "      <td>0.00</td>\n",
       "      <td>0.15</td>\n",
       "      <td>...</td>\n",
       "      <td>4.00</td>\n",
       "      <td>1.00</td>\n",
       "      <td>7</td>\n",
       "      <td>0.46</td>\n",
       "      <td>2.77</td>\n",
       "      <td>0.00</td>\n",
       "      <td>39.00</td>\n",
       "      <td>0.00</td>\n",
       "      <td>0.48</td>\n",
       "      <td>1</td>\n",
       "    </tr>\n",
       "    <tr>\n",
       "      <th>12590</th>\n",
       "      <td>6DZz58CbF0AKw5PCKqNKcM</td>\n",
       "      <td>310393</td>\n",
       "      <td>12</td>\n",
       "      <td>2325</td>\n",
       "      <td>0</td>\n",
       "      <td>0.44</td>\n",
       "      <td>0.69</td>\n",
       "      <td>0.47</td>\n",
       "      <td>0.00</td>\n",
       "      <td>0.38</td>\n",
       "      <td>...</td>\n",
       "      <td>4.00</td>\n",
       "      <td>1.00</td>\n",
       "      <td>3</td>\n",
       "      <td>0.24</td>\n",
       "      <td>5.17</td>\n",
       "      <td>0.00</td>\n",
       "      <td>69.00</td>\n",
       "      <td>0.00</td>\n",
       "      <td>0.56</td>\n",
       "      <td>1</td>\n",
       "    </tr>\n",
       "    <tr>\n",
       "      <th>12591</th>\n",
       "      <td>3CA9pLiwRIGtUBiMjbZmRw</td>\n",
       "      <td>210746</td>\n",
       "      <td>6</td>\n",
       "      <td>7135</td>\n",
       "      <td>82</td>\n",
       "      <td>0.58</td>\n",
       "      <td>0.09</td>\n",
       "      <td>0.91</td>\n",
       "      <td>0.00</td>\n",
       "      <td>0.12</td>\n",
       "      <td>...</td>\n",
       "      <td>4.00</td>\n",
       "      <td>1.00</td>\n",
       "      <td>8</td>\n",
       "      <td>0.76</td>\n",
       "      <td>3.51</td>\n",
       "      <td>0.00</td>\n",
       "      <td>10.00</td>\n",
       "      <td>0.01</td>\n",
       "      <td>1.34</td>\n",
       "      <td>1</td>\n",
       "    </tr>\n",
       "    <tr>\n",
       "      <th>12592</th>\n",
       "      <td>27GmP9AWRs744SzKcpJsTZ</td>\n",
       "      <td>205879</td>\n",
       "      <td>6</td>\n",
       "      <td>9212</td>\n",
       "      <td>74</td>\n",
       "      <td>0.85</td>\n",
       "      <td>0.06</td>\n",
       "      <td>0.55</td>\n",
       "      <td>0.00</td>\n",
       "      <td>0.33</td>\n",
       "      <td>...</td>\n",
       "      <td>4.00</td>\n",
       "      <td>1.00</td>\n",
       "      <td>1</td>\n",
       "      <td>0.66</td>\n",
       "      <td>3.43</td>\n",
       "      <td>0.00</td>\n",
       "      <td>21.00</td>\n",
       "      <td>0.00</td>\n",
       "      <td>5.94</td>\n",
       "      <td>1</td>\n",
       "    </tr>\n",
       "    <tr>\n",
       "      <th>12593</th>\n",
       "      <td>0g2zuab5P1vIhEHI9oHj60</td>\n",
       "      <td>151200</td>\n",
       "      <td>30</td>\n",
       "      <td>72</td>\n",
       "      <td>50</td>\n",
       "      <td>0.72</td>\n",
       "      <td>0.02</td>\n",
       "      <td>0.64</td>\n",
       "      <td>0.00</td>\n",
       "      <td>0.35</td>\n",
       "      <td>...</td>\n",
       "      <td>4.00</td>\n",
       "      <td>1.00</td>\n",
       "      <td>1</td>\n",
       "      <td>0.21</td>\n",
       "      <td>2.52</td>\n",
       "      <td>0.00</td>\n",
       "      <td>79.50</td>\n",
       "      <td>0.00</td>\n",
       "      <td>14.83</td>\n",
       "      <td>1</td>\n",
       "    </tr>\n",
       "  </tbody>\n",
       "</table>\n",
       "<p>12594 rows × 23 columns</p>\n",
       "</div>"
      ],
      "text/plain": [
       "                     track_id  length  artists  album  time_signature  \\\n",
       "0      3rUGC1vUpkDG9CZFHMur1t  131872     7016   9646               1   \n",
       "1      7aqfrAY2p9BUSiupwk3svU  247444     2075   2891               4   \n",
       "2      7dJYggqjKo71KI9sLzqCs8  265360     2007   7025               4   \n",
       "3      4MjDJD8cW7iVeWInc2Bdyj  267194      742   9691               4   \n",
       "4      5aIVCx5tnk0ntmdiinnYvw  200256     7579   9135               4   \n",
       "...                       ...     ...      ...    ...             ...   \n",
       "12589  5R2rsbwCDXORX2tLfprRmM  166343       15   5774              72   \n",
       "12590  6DZz58CbF0AKw5PCKqNKcM  310393       12   2325               0   \n",
       "12591  3CA9pLiwRIGtUBiMjbZmRw  210746        6   7135              82   \n",
       "12592  27GmP9AWRs744SzKcpJsTZ  205879        6   9212              74   \n",
       "12593  0g2zuab5P1vIhEHI9oHj60  151200       30     72              50   \n",
       "\n",
       "       danceability  acousticness  energy  tempo  instrumentalness  ...  \\\n",
       "0              0.75          0.26    0.73 111.02              0.00  ...   \n",
       "1              0.47          0.03    0.64 163.92              0.00  ...   \n",
       "2              0.75          0.23    0.67 123.03              0.00  ...   \n",
       "3              0.79          0.15    0.62 139.06              0.00  ...   \n",
       "4              0.67          0.09    0.72 117.19              0.00  ...   \n",
       "...             ...           ...     ...    ...               ...  ...   \n",
       "12589          0.72          0.32    0.51   0.00              0.15  ...   \n",
       "12590          0.44          0.69    0.47   0.00              0.38  ...   \n",
       "12591          0.58          0.09    0.91   0.00              0.12  ...   \n",
       "12592          0.85          0.06    0.55   0.00              0.33  ...   \n",
       "12593          0.72          0.02    0.64   0.00              0.35  ...   \n",
       "\n",
       "       valence  speechiness  mode  Popularity  minutes  beat_density  \\\n",
       "0         0.84         0.03     0       98.00     2.20         50.51   \n",
       "1         0.25         0.32     1       91.00     4.12         39.75   \n",
       "2         0.39         0.10     0       89.00     4.42         27.82   \n",
       "3         0.13         0.07     0       94.00     4.45         31.23   \n",
       "4         0.52         0.08     0       92.00     3.34         35.11   \n",
       "...        ...          ...   ...         ...      ...           ...   \n",
       "12589     4.00         1.00     7        0.46     2.77          0.00   \n",
       "12590     4.00         1.00     3        0.24     5.17          0.00   \n",
       "12591     4.00         1.00     8        0.76     3.51          0.00   \n",
       "12592     4.00         1.00     1        0.66     3.43          0.00   \n",
       "12593     4.00         1.00     1        0.21     2.52          0.00   \n",
       "\n",
       "       Popularity_Rank  melody_complexity  instrumental_acoustic_ratio  \\\n",
       "0                 4.50             111.02                         0.00   \n",
       "1                49.50             655.68                         0.00   \n",
       "2                89.50             492.10                         0.00   \n",
       "3                21.00             556.22                         0.00   \n",
       "4                37.50             468.75                         0.00   \n",
       "...                ...                ...                          ...   \n",
       "12589            39.00               0.00                         0.48   \n",
       "12590            69.00               0.00                         0.56   \n",
       "12591            10.00               0.01                         1.34   \n",
       "12592            21.00               0.00                         5.94   \n",
       "12593            79.50               0.00                        14.83   \n",
       "\n",
       "       favorite  \n",
       "0             0  \n",
       "1             0  \n",
       "2             0  \n",
       "3             0  \n",
       "4             0  \n",
       "...         ...  \n",
       "12589         1  \n",
       "12590         1  \n",
       "12591         1  \n",
       "12592         1  \n",
       "12593         1  \n",
       "\n",
       "[12594 rows x 23 columns]"
      ]
     },
     "execution_count": 141,
     "metadata": {},
     "output_type": "execute_result"
    }
   ],
   "source": [
    "df"
   ]
  },
  {
   "cell_type": "code",
   "execution_count": 142,
   "id": "1ddca425",
   "metadata": {},
   "outputs": [],
   "source": [
    "#X = df.drop(columns=['favorite', 'track_id'])  # Drop 'favorite' and 'track_id' columns\n",
    "#X = df[['valence', 'key', 'time_signature','artists','tempo','beat_density','speechiness','melody_complexity']]\n",
    "X = df[['album', 'artists', 'length', 'danceability', 'tempo', 'energy', 'acousticness', 'time_signature']]\n",
    "#'tempo','beat_density','speechiness','melody_complexity'\n",
    "\n",
    "y = df['favorite']  # Select the 'favorite' column as the target variable"
   ]
  },
  {
   "cell_type": "code",
   "execution_count": 143,
   "id": "3eededc4",
   "metadata": {},
   "outputs": [
    {
     "name": "stdout",
     "output_type": "stream",
     "text": [
      "(12594, 8)\n",
      "(12594,)\n"
     ]
    }
   ],
   "source": [
    "print(X.shape)\n",
    "print(y.shape)"
   ]
  },
  {
   "cell_type": "markdown",
   "id": "0ede39d0",
   "metadata": {},
   "source": [
    "Train & Testing data set "
   ]
  },
  {
   "cell_type": "code",
   "execution_count": 144,
   "id": "44a34e08",
   "metadata": {},
   "outputs": [
    {
     "name": "stdout",
     "output_type": "stream",
     "text": [
      "(10075,)\n",
      "(2519,)\n"
     ]
    }
   ],
   "source": [
    "# Shuffle your dataset \n",
    "shuffle_df = df.sample(frac=1)\n",
    "\n",
    "# Split the data into training and testing sets\n",
    "X_train, X_test, y_train, y_test = train_test_split(X, y, test_size=0.2, random_state=42)\n",
    "\n",
    "# Scale the features\n",
    "scaler = StandardScaler()\n",
    "X_train = scaler.fit_transform(X_train)\n",
    "X_test = scaler.transform(X_test)\n",
    "\n",
    "print(y_train.shape)\n",
    "print(y_test.shape)"
   ]
  },
  {
   "cell_type": "code",
   "execution_count": 145,
   "id": "806f6c39",
   "metadata": {},
   "outputs": [],
   "source": [
    "#make sure the columns are assigned correctly \n",
    "X_train = pd.DataFrame(X_train, columns=['album', 'artists', 'length', 'danceability', 'tempo', 'energy', 'acousticness', 'time_signature'])\n",
    "X_test = pd.DataFrame(X_test, columns=['album', 'artists', 'length', 'danceability', 'tempo', 'energy', 'acousticness', 'time_signature'])\n",
    "#"
   ]
  },
  {
   "cell_type": "code",
   "execution_count": 146,
   "id": "746768cf",
   "metadata": {},
   "outputs": [
    {
     "data": {
      "text/html": [
       "<div>\n",
       "<style scoped>\n",
       "    .dataframe tbody tr th:only-of-type {\n",
       "        vertical-align: middle;\n",
       "    }\n",
       "\n",
       "    .dataframe tbody tr th {\n",
       "        vertical-align: top;\n",
       "    }\n",
       "\n",
       "    .dataframe thead th {\n",
       "        text-align: right;\n",
       "    }\n",
       "</style>\n",
       "<table border=\"1\" class=\"dataframe\">\n",
       "  <thead>\n",
       "    <tr style=\"text-align: right;\">\n",
       "      <th></th>\n",
       "      <th>album</th>\n",
       "      <th>artists</th>\n",
       "      <th>length</th>\n",
       "      <th>danceability</th>\n",
       "      <th>tempo</th>\n",
       "      <th>energy</th>\n",
       "      <th>acousticness</th>\n",
       "      <th>time_signature</th>\n",
       "    </tr>\n",
       "  </thead>\n",
       "  <tbody>\n",
       "    <tr>\n",
       "      <th>0</th>\n",
       "      <td>-0.93</td>\n",
       "      <td>-1.43</td>\n",
       "      <td>0.13</td>\n",
       "      <td>-0.56</td>\n",
       "      <td>-1.34</td>\n",
       "      <td>0.82</td>\n",
       "      <td>-0.85</td>\n",
       "      <td>-0.08</td>\n",
       "    </tr>\n",
       "    <tr>\n",
       "      <th>1</th>\n",
       "      <td>0.55</td>\n",
       "      <td>-1.48</td>\n",
       "      <td>-0.01</td>\n",
       "      <td>0.14</td>\n",
       "      <td>0.19</td>\n",
       "      <td>1.22</td>\n",
       "      <td>-0.87</td>\n",
       "      <td>-0.08</td>\n",
       "    </tr>\n",
       "    <tr>\n",
       "      <th>2</th>\n",
       "      <td>-0.17</td>\n",
       "      <td>1.62</td>\n",
       "      <td>-0.47</td>\n",
       "      <td>1.19</td>\n",
       "      <td>0.67</td>\n",
       "      <td>-0.25</td>\n",
       "      <td>0.67</td>\n",
       "      <td>-0.08</td>\n",
       "    </tr>\n",
       "  </tbody>\n",
       "</table>\n",
       "</div>"
      ],
      "text/plain": [
       "   album  artists  length  danceability  tempo  energy  acousticness  \\\n",
       "0  -0.93    -1.43    0.13         -0.56  -1.34    0.82         -0.85   \n",
       "1   0.55    -1.48   -0.01          0.14   0.19    1.22         -0.87   \n",
       "2  -0.17     1.62   -0.47          1.19   0.67   -0.25          0.67   \n",
       "\n",
       "   time_signature  \n",
       "0           -0.08  \n",
       "1           -0.08  \n",
       "2           -0.08  "
      ]
     },
     "execution_count": 146,
     "metadata": {},
     "output_type": "execute_result"
    }
   ],
   "source": [
    "X_train.head(3)"
   ]
  },
  {
   "cell_type": "markdown",
   "id": "26348b4a",
   "metadata": {},
   "source": [
    "##### fix the imbalanced data set "
   ]
  },
  {
   "cell_type": "code",
   "execution_count": 147,
   "id": "2f691940",
   "metadata": {},
   "outputs": [],
   "source": [
    "from imblearn.over_sampling import SMOTE\n",
    "# Train / Split Data\n",
    "oversample = SMOTE()\n",
    "X_train, y_train = oversample.fit_resample(X, y) "
   ]
  },
  {
   "cell_type": "code",
   "execution_count": 148,
   "id": "bea3f74f",
   "metadata": {},
   "outputs": [
    {
     "data": {
      "text/plain": [
       "favorite\n",
       "0    12476\n",
       "1    12476\n",
       "Name: count, dtype: int64"
      ]
     },
     "execution_count": 148,
     "metadata": {},
     "output_type": "execute_result"
    }
   ],
   "source": [
    "y_train.value_counts()"
   ]
  },
  {
   "cell_type": "code",
   "execution_count": 149,
   "id": "2cac296b",
   "metadata": {},
   "outputs": [
    {
     "data": {
      "text/plain": [
       "favorite\n",
       "0    2499\n",
       "1      20\n",
       "Name: count, dtype: int64"
      ]
     },
     "execution_count": 149,
     "metadata": {},
     "output_type": "execute_result"
    }
   ],
   "source": [
    "y_test.value_counts()"
   ]
  },
  {
   "cell_type": "code",
   "execution_count": 150,
   "id": "95b8cb07",
   "metadata": {},
   "outputs": [
    {
     "name": "stdout",
     "output_type": "stream",
     "text": [
      "(24952, 8)\n",
      "(24952,)\n",
      "(2519, 8)\n",
      "(2519,)\n"
     ]
    }
   ],
   "source": [
    "print(X_train.shape)\n",
    "print(y_train.shape)\n",
    "print(X_test.shape)\n",
    "print(y_test.shape)"
   ]
  },
  {
   "cell_type": "markdown",
   "id": "a1caa78e",
   "metadata": {},
   "source": [
    "## ML Algo"
   ]
  },
  {
   "cell_type": "code",
   "execution_count": 151,
   "id": "1aa565e5",
   "metadata": {},
   "outputs": [
    {
     "name": "stderr",
     "output_type": "stream",
     "text": [
      " 14%|█▍        | 4/29 [00:00<00:05,  4.25it/s]"
     ]
    },
    {
     "name": "stderr",
     "output_type": "stream",
     "text": [
      "100%|██████████| 29/29 [01:35<00:00,  3.28s/it]"
     ]
    },
    {
     "name": "stdout",
     "output_type": "stream",
     "text": [
      "[LightGBM] [Info] Number of positive: 12476, number of negative: 12476\n",
      "[LightGBM] [Info] Auto-choosing row-wise multi-threading, the overhead of testing was 0.000868 seconds.\n",
      "You can set `force_row_wise=true` to remove the overhead.\n",
      "And if memory is not enough, you can set `force_col_wise=true`.\n",
      "[LightGBM] [Info] Total Bins 1874\n",
      "[LightGBM] [Info] Number of data points in the train set: 24952, number of used features: 8\n",
      "[LightGBM] [Info] [binary:BoostFromScore]: pavg=0.500000 -> initscore=0.000000\n",
      "[LightGBM] [Warning] No further splits with positive gain, best gain: -inf\n",
      "[LightGBM] [Warning] No further splits with positive gain, best gain: -inf\n",
      "[LightGBM] [Warning] No further splits with positive gain, best gain: -inf\n",
      "[LightGBM] [Warning] No further splits with positive gain, best gain: -inf\n",
      "[LightGBM] [Warning] No further splits with positive gain, best gain: -inf\n",
      "[LightGBM] [Warning] No further splits with positive gain, best gain: -inf\n",
      "[LightGBM] [Warning] No further splits with positive gain, best gain: -inf\n",
      "[LightGBM] [Warning] No further splits with positive gain, best gain: -inf\n",
      "[LightGBM] [Warning] No further splits with positive gain, best gain: -inf\n",
      "[LightGBM] [Warning] No further splits with positive gain, best gain: -inf\n",
      "[LightGBM] [Warning] No further splits with positive gain, best gain: -inf\n",
      "[LightGBM] [Warning] No further splits with positive gain, best gain: -inf\n",
      "[LightGBM] [Warning] No further splits with positive gain, best gain: -inf\n",
      "[LightGBM] [Warning] No further splits with positive gain, best gain: -inf\n",
      "[LightGBM] [Warning] No further splits with positive gain, best gain: -inf\n",
      "[LightGBM] [Warning] No further splits with positive gain, best gain: -inf\n",
      "[LightGBM] [Warning] No further splits with positive gain, best gain: -inf\n",
      "[LightGBM] [Warning] No further splits with positive gain, best gain: -inf\n",
      "[LightGBM] [Warning] No further splits with positive gain, best gain: -inf\n",
      "[LightGBM] [Warning] No further splits with positive gain, best gain: -inf\n",
      "[LightGBM] [Warning] No further splits with positive gain, best gain: -inf\n",
      "[LightGBM] [Warning] No further splits with positive gain, best gain: -inf\n",
      "[LightGBM] [Warning] No further splits with positive gain, best gain: -inf\n",
      "[LightGBM] [Warning] No further splits with positive gain, best gain: -inf\n",
      "[LightGBM] [Warning] No further splits with positive gain, best gain: -inf\n",
      "[LightGBM] [Warning] No further splits with positive gain, best gain: -inf\n",
      "[LightGBM] [Warning] No further splits with positive gain, best gain: -inf\n",
      "[LightGBM] [Warning] No further splits with positive gain, best gain: -inf\n",
      "[LightGBM] [Warning] No further splits with positive gain, best gain: -inf\n",
      "[LightGBM] [Warning] No further splits with positive gain, best gain: -inf\n",
      "[LightGBM] [Warning] No further splits with positive gain, best gain: -inf\n",
      "[LightGBM] [Warning] No further splits with positive gain, best gain: -inf\n",
      "[LightGBM] [Warning] No further splits with positive gain, best gain: -inf\n",
      "[LightGBM] [Warning] No further splits with positive gain, best gain: -inf\n",
      "[LightGBM] [Warning] No further splits with positive gain, best gain: -inf\n",
      "[LightGBM] [Warning] No further splits with positive gain, best gain: -inf\n",
      "[LightGBM] [Warning] No further splits with positive gain, best gain: -inf\n",
      "[LightGBM] [Warning] No further splits with positive gain, best gain: -inf\n",
      "[LightGBM] [Warning] No further splits with positive gain, best gain: -inf\n",
      "[LightGBM] [Warning] No further splits with positive gain, best gain: -inf\n",
      "[LightGBM] [Warning] No further splits with positive gain, best gain: -inf\n",
      "[LightGBM] [Warning] No further splits with positive gain, best gain: -inf\n",
      "[LightGBM] [Warning] No further splits with positive gain, best gain: -inf\n",
      "[LightGBM] [Warning] No further splits with positive gain, best gain: -inf\n",
      "[LightGBM] [Warning] No further splits with positive gain, best gain: -inf\n",
      "[LightGBM] [Warning] No further splits with positive gain, best gain: -inf\n",
      "[LightGBM] [Warning] No further splits with positive gain, best gain: -inf\n",
      "[LightGBM] [Warning] No further splits with positive gain, best gain: -inf\n",
      "[LightGBM] [Warning] No further splits with positive gain, best gain: -inf\n",
      "[LightGBM] [Warning] No further splits with positive gain, best gain: -inf\n",
      "[LightGBM] [Warning] No further splits with positive gain, best gain: -inf\n",
      "[LightGBM] [Warning] No further splits with positive gain, best gain: -inf\n",
      "[LightGBM] [Warning] No further splits with positive gain, best gain: -inf\n",
      "[LightGBM] [Warning] No further splits with positive gain, best gain: -inf\n",
      "[LightGBM] [Warning] No further splits with positive gain, best gain: -inf\n",
      "[LightGBM] [Warning] No further splits with positive gain, best gain: -inf\n",
      "[LightGBM] [Warning] No further splits with positive gain, best gain: -inf\n",
      "[LightGBM] [Warning] No further splits with positive gain, best gain: -inf\n",
      "[LightGBM] [Warning] No further splits with positive gain, best gain: -inf\n",
      "[LightGBM] [Warning] No further splits with positive gain, best gain: -inf\n",
      "[LightGBM] [Warning] No further splits with positive gain, best gain: -inf\n",
      "[LightGBM] [Warning] No further splits with positive gain, best gain: -inf\n",
      "[LightGBM] [Warning] No further splits with positive gain, best gain: -inf\n",
      "[LightGBM] [Warning] No further splits with positive gain, best gain: -inf\n",
      "[LightGBM] [Warning] No further splits with positive gain, best gain: -inf\n",
      "[LightGBM] [Warning] No further splits with positive gain, best gain: -inf\n",
      "[LightGBM] [Warning] No further splits with positive gain, best gain: -inf\n",
      "[LightGBM] [Warning] No further splits with positive gain, best gain: -inf\n",
      "[LightGBM] [Warning] No further splits with positive gain, best gain: -inf\n",
      "[LightGBM] [Warning] No further splits with positive gain, best gain: -inf\n",
      "[LightGBM] [Warning] No further splits with positive gain, best gain: -inf\n",
      "[LightGBM] [Warning] No further splits with positive gain, best gain: -inf\n",
      "[LightGBM] [Warning] No further splits with positive gain, best gain: -inf\n",
      "[LightGBM] [Warning] No further splits with positive gain, best gain: -inf\n",
      "[LightGBM] [Warning] No further splits with positive gain, best gain: -inf\n",
      "[LightGBM] [Warning] No further splits with positive gain, best gain: -inf\n",
      "[LightGBM] [Warning] No further splits with positive gain, best gain: -inf\n",
      "[LightGBM] [Warning] No further splits with positive gain, best gain: -inf\n",
      "[LightGBM] [Warning] No further splits with positive gain, best gain: -inf\n",
      "[LightGBM] [Warning] No further splits with positive gain, best gain: -inf\n",
      "[LightGBM] [Warning] No further splits with positive gain, best gain: -inf\n",
      "[LightGBM] [Warning] No further splits with positive gain, best gain: -inf\n",
      "[LightGBM] [Warning] No further splits with positive gain, best gain: -inf\n",
      "[LightGBM] [Warning] No further splits with positive gain, best gain: -inf\n",
      "[LightGBM] [Warning] No further splits with positive gain, best gain: -inf\n",
      "[LightGBM] [Warning] No further splits with positive gain, best gain: -inf\n",
      "[LightGBM] [Warning] No further splits with positive gain, best gain: -inf\n",
      "[LightGBM] [Warning] No further splits with positive gain, best gain: -inf\n",
      "[LightGBM] [Warning] No further splits with positive gain, best gain: -inf\n",
      "[LightGBM] [Warning] No further splits with positive gain, best gain: -inf\n",
      "[LightGBM] [Warning] No further splits with positive gain, best gain: -inf\n",
      "[LightGBM] [Warning] No further splits with positive gain, best gain: -inf\n",
      "[LightGBM] [Warning] No further splits with positive gain, best gain: -inf\n",
      "[LightGBM] [Warning] No further splits with positive gain, best gain: -inf\n",
      "[LightGBM] [Warning] No further splits with positive gain, best gain: -inf\n",
      "[LightGBM] [Warning] No further splits with positive gain, best gain: -inf\n",
      "[LightGBM] [Warning] No further splits with positive gain, best gain: -inf\n",
      "[LightGBM] [Warning] No further splits with positive gain, best gain: -inf\n",
      "[LightGBM] [Warning] No further splits with positive gain, best gain: -inf\n",
      "                               Accuracy  Balanced Accuracy  ROC AUC  F1 Score  \\\n",
      "Model                                                                           \n",
      "ExtraTreesClassifier               0.94               0.94     0.94      0.96   \n",
      "ExtraTreeClassifier                1.00               0.93     0.93      1.00   \n",
      "LinearDiscriminantAnalysis         0.94               0.87     0.87      0.96   \n",
      "RidgeClassifier                    0.94               0.87     0.87      0.96   \n",
      "RidgeClassifierCV                  0.94               0.87     0.87      0.96   \n",
      "NearestCentroid                    0.54               0.74     0.74      0.69   \n",
      "KNeighborsClassifier               0.93               0.74     0.74      0.96   \n",
      "Perceptron                         0.50               0.72     0.72      0.66   \n",
      "LabelPropagation                   0.96               0.71     0.71      0.97   \n",
      "LabelSpreading                     0.96               0.71     0.71      0.97   \n",
      "LogisticRegression                 0.40               0.67     0.67      0.56   \n",
      "SGDClassifier                      0.38               0.66     0.66      0.54   \n",
      "CalibratedClassifierCV             0.37               0.66     0.66      0.53   \n",
      "PassiveAggressiveClassifier        0.32               0.63     0.63      0.47   \n",
      "LinearSVC                          0.28               0.61     0.61      0.43   \n",
      "SVC                                0.99               0.50     0.50      0.99   \n",
      "XGBClassifier                      0.01               0.50     0.50      0.00   \n",
      "RandomForestClassifier             0.01               0.50     0.50      0.00   \n",
      "AdaBoostClassifier                 0.01               0.50     0.50      0.00   \n",
      "NuSVC                              0.99               0.50     0.50      0.99   \n",
      "BaggingClassifier                  0.01               0.50     0.50      0.00   \n",
      "DummyClassifier                    0.99               0.50     0.50      0.99   \n",
      "DecisionTreeClassifier             0.01               0.50     0.50      0.00   \n",
      "BernoulliNB                        0.01               0.50     0.50      0.00   \n",
      "LGBMClassifier                     0.01               0.50     0.50      0.00   \n",
      "QuadraticDiscriminantAnalysis      0.73               0.37     0.37      0.84   \n",
      "GaussianNB                         0.69               0.35     0.35      0.81   \n",
      "\n",
      "                               Time Taken  \n",
      "Model                                      \n",
      "ExtraTreesClassifier                 0.55  \n",
      "ExtraTreeClassifier                  0.04  \n",
      "LinearDiscriminantAnalysis           0.11  \n",
      "RidgeClassifier                      0.06  \n",
      "RidgeClassifierCV                    0.04  \n",
      "NearestCentroid                      0.02  \n",
      "KNeighborsClassifier                 0.48  \n",
      "Perceptron                           0.03  \n",
      "LabelPropagation                    25.18  \n",
      "LabelSpreading                      45.91  \n",
      "LogisticRegression                   0.09  \n",
      "SGDClassifier                        0.03  \n",
      "CalibratedClassifierCV               0.35  \n",
      "PassiveAggressiveClassifier          0.04  \n",
      "LinearSVC                            0.06  \n",
      "SVC                                  0.14  \n",
      "XGBClassifier                        0.13  \n",
      "RandomForestClassifier               1.18  \n",
      "AdaBoostClassifier                   0.10  \n",
      "NuSVC                               19.67  \n",
      "BaggingClassifier                    0.44  \n",
      "DummyClassifier                      0.03  \n",
      "DecisionTreeClassifier               0.07  \n",
      "BernoulliNB                          0.04  \n",
      "LGBMClassifier                       0.13  \n",
      "QuadraticDiscriminantAnalysis        0.04  \n",
      "GaussianNB                           0.03  \n"
     ]
    },
    {
     "name": "stderr",
     "output_type": "stream",
     "text": [
      "\n"
     ]
    }
   ],
   "source": [
    "import lazypredict\n",
    "from lazypredict.Supervised import LazyClassifier\n",
    "\n",
    "clf = LazyClassifier(verbose=0,predictions=True, ignore_warnings=True, custom_metric=None)\n",
    "models,predictions = clf.fit(X_train, X_test, y_train, y_test)\n",
    "\n",
    "print(models)"
   ]
  },
  {
   "cell_type": "code",
   "execution_count": null,
   "id": "27ee431d",
   "metadata": {},
   "outputs": [],
   "source": []
  },
  {
   "cell_type": "code",
   "execution_count": null,
   "id": "3036c2cf",
   "metadata": {},
   "outputs": [],
   "source": []
  },
  {
   "cell_type": "markdown",
   "id": "6355afec",
   "metadata": {},
   "source": [
    "## KNN's  "
   ]
  },
  {
   "cell_type": "code",
   "execution_count": 152,
   "id": "f6e1cdfc",
   "metadata": {},
   "outputs": [
    {
     "name": "stdout",
     "output_type": "stream",
     "text": [
      "Top features for component 0: ['acousticness', 'danceability', 'album', 'artists', 'time_signature', 'track_id', 'length', 'energy']\n",
      "Top features for component 1: ['energy', 'time_signature', 'length', 'album', 'artists', 'acousticness', 'track_id', 'danceability']\n",
      "Top features for component 2: ['track_id', 'length', 'artists', 'time_signature', 'energy', 'album', 'danceability', 'acousticness']\n",
      "Top features for component 3: ['length', 'track_id', 'time_signature', 'energy', 'album', 'artists', 'acousticness', 'danceability']\n",
      "Top features for component 4: ['artists', 'acousticness', 'danceability', 'energy', 'track_id', 'album', 'length', 'time_signature']\n",
      "Top features for component 5: ['album', 'energy', 'time_signature', 'artists', 'danceability', 'length', 'acousticness', 'track_id']\n",
      "Top features for component 6: ['time_signature', 'album', 'energy', 'danceability', 'acousticness', 'artists', 'length', 'track_id']\n",
      "Top features for component 7: ['acousticness', 'danceability', 'album', 'artists', 'energy', 'time_signature', 'length', 'track_id']\n"
     ]
    }
   ],
   "source": [
    "# Assuming '_pca' is already fitted on your data\n",
    "\n",
    "# Get the feature names\n",
    "feature_names = df.columns  # Assuming 'df' is your DataFrame\n",
    "\n",
    "# Get the indices of the top features in each principal component\n",
    "top_feature_indices = [np.abs(_pca.components_[i]).argsort()[::-1][:8] for i in range(components)]\n",
    "\n",
    "# Get the names of the top features in each principal component\n",
    "selected_features = [[feature_names[j] for j in top_feature_indices[i]] for i in range(components)]\n",
    "\n",
    "# Print the selected features for each component\n",
    "for i, features in enumerate(selected_features):\n",
    "    print(f\"Top features for component {i}: {features}\")\n"
   ]
  },
  {
   "cell_type": "code",
   "execution_count": 154,
   "id": "a60181c0",
   "metadata": {},
   "outputs": [],
   "source": [
    "# Initialize the KNN model and fit it to the training data\n",
    "knn = KNeighborsClassifier(n_neighbors=5)  # You can adjust the number of neighbors\n",
    "knn.fit(X_train, y_train)\n",
    "\n",
    "# Predict the target variable for the test set\n",
    "y_pred = knn.predict(X_test)\n"
   ]
  },
  {
   "cell_type": "code",
   "execution_count": 155,
   "id": "c650d884",
   "metadata": {},
   "outputs": [
    {
     "name": "stdout",
     "output_type": "stream",
     "text": [
      "Accuracy: 0.9920603414053196\n",
      "              precision    recall  f1-score   support\n",
      "\n",
      "           0       0.99      1.00      1.00      2499\n",
      "           1       1.00      0.00      0.00        20\n",
      "\n",
      "    accuracy                           0.99      2519\n",
      "   macro avg       1.00      0.50      0.50      2519\n",
      "weighted avg       0.99      0.99      0.99      2519\n",
      "\n",
      "[[2499    0]\n",
      " [  20    0]]\n"
     ]
    }
   ],
   "source": [
    "# Evaluate the model (you can use classification metrics to assess its performance)\n",
    "# For instance, you can use accuracy_score, classification_report, confusion_matrix, etc.\n",
    "from sklearn.metrics import accuracy_score, classification_report, confusion_matrix\n",
    "\n",
    "accuracy = accuracy_score(y_test, y_pred)\n",
    "print(f\"Accuracy: {accuracy}\")\n",
    "\n",
    "# Further evaluation\n",
    "print(classification_report(y_test, y_pred, zero_division=1)) \n",
    "print(confusion_matrix(y_test, y_pred))"
   ]
  },
  {
   "cell_type": "code",
   "execution_count": 156,
   "id": "e608f8f8",
   "metadata": {},
   "outputs": [
    {
     "name": "stdout",
     "output_type": "stream",
     "text": [
      "Cross-Validation Scores: [0.99206034 0.99166336 0.99086939 0.98809051 0.99046863]\n",
      "Mean Accuracy: 0.9906304460997136\n"
     ]
    }
   ],
   "source": [
    "from sklearn.model_selection import cross_val_score, KFold\n",
    "\n",
    "# Assuming X and y are your features and target variable\n",
    "\n",
    "# Initialize the KNN model\n",
    "knn = KNeighborsClassifier(n_neighbors=5)  # You can adjust the number of neighbors\n",
    "\n",
    "# Define the number of folds for cross-validation\n",
    "num_folds = 5\n",
    "\n",
    "# Initialize KFold\n",
    "kf = KFold(n_splits=num_folds, shuffle=True, random_state=42)\n",
    "\n",
    "# Perform cross-validation\n",
    "cv_scores = cross_val_score(knn, X, y, cv=kf)\n",
    "\n",
    "# Output the cross-validation scores\n",
    "print(\"Cross-Validation Scores:\", cv_scores)\n",
    "print(\"Mean Accuracy:\", cv_scores.mean())"
   ]
  },
  {
   "cell_type": "code",
   "execution_count": 157,
   "id": "4ab45d4b",
   "metadata": {},
   "outputs": [
    {
     "ename": "NameError",
     "evalue": "name 'LogisticRegression' is not defined",
     "output_type": "error",
     "traceback": [
      "\u001b[1;31m---------------------------------------------------------------------------\u001b[0m",
      "\u001b[1;31mNameError\u001b[0m                                 Traceback (most recent call last)",
      "File \u001b[1;32m<timed exec>:2\u001b[0m\n",
      "\u001b[1;31mNameError\u001b[0m: name 'LogisticRegression' is not defined"
     ]
    }
   ],
   "source": [
    "%%time\n",
    "# Logistic Regression\n",
    "lr = LogisticRegression(solver='lbfgs', max_iter=400).fit(X_train, y_train)\n",
    "lr_scores = cross_val_score(lr, X_train, y_train, cv=10, scoring=\"f1\")\n",
    "print(np.mean(lr_scores))"
   ]
  },
  {
   "cell_type": "markdown",
   "id": "5d729099",
   "metadata": {},
   "source": [
    "## Descision tree "
   ]
  },
  {
   "cell_type": "code",
   "execution_count": null,
   "id": "2977cd76",
   "metadata": {},
   "outputs": [
    {
     "name": "stdout",
     "output_type": "stream",
     "text": [
      "Accuracy: 1.0\n"
     ]
    }
   ],
   "source": [
    "from sklearn.tree import DecisionTreeClassifier, export_graphviz\n",
    "from sklearn.metrics import accuracy_score, classification_report\n",
    "\n",
    "\n",
    "# Create and fit the Decision Tree classifier\n",
    "clf = DecisionTreeClassifier()\n",
    "clf.fit(X_train, y_train)\n",
    "# Make predictions\n",
    "predictions = clf.predict(X_test)\n",
    "\n",
    "# Evaluate the model\n",
    "accuracy = accuracy_score(y_test, predictions)\n",
    "print(\"Accuracy:\", accuracy)"
   ]
  },
  {
   "cell_type": "code",
   "execution_count": null,
   "id": "f3979d15",
   "metadata": {},
   "outputs": [
    {
     "name": "stdout",
     "output_type": "stream",
     "text": [
      "Classification Report:\n",
      "               precision    recall  f1-score   support\n",
      "\n",
      "           0       1.00      1.00      1.00      3738\n",
      "           1       1.00      1.00      1.00        41\n",
      "\n",
      "    accuracy                           1.00      3779\n",
      "   macro avg       1.00      1.00      1.00      3779\n",
      "weighted avg       1.00      1.00      1.00      3779\n",
      "\n"
     ]
    }
   ],
   "source": [
    "report = classification_report(y_test, predictions)\n",
    "print(\"Classification Report:\\n\", report)"
   ]
  },
  {
   "cell_type": "code",
   "execution_count": 165,
   "id": "7658abcf",
   "metadata": {},
   "outputs": [],
   "source": [
    "X = df.drop(columns=['favorite', 'track_id'])  # Drop 'favorite' and 'track_id' columns\n",
    "#X = df[['valence', 'key', 'time_signature','artists','tempo','beat_density','speechiness','melody_complexity']]\n",
    "#X = df[['album', 'artists', 'length', 'danceability', 'tempo', 'energy', 'acousticness', 'time_signature']]\n",
    "#'tempo','beat_density','speechiness','melody_complexity'\n",
    "\n",
    "y = df['favorite']"
   ]
  },
  {
   "cell_type": "markdown",
   "id": "6cfd058d",
   "metadata": {},
   "source": [
    "### PipeLine"
   ]
  },
  {
   "cell_type": "code",
   "execution_count": 166,
   "id": "a073719f",
   "metadata": {},
   "outputs": [],
   "source": [
    "from sklearn.pipeline import Pipeline\n",
    "from sklearn.preprocessing import StandardScaler\n",
    "from sklearn.decomposition import PCA\n",
    "from sklearn.neighbors import KNeighborsClassifier\n",
    "\n",
    "components = 8  # Define the number of components for PCA\n",
    "\n",
    "_sc = StandardScaler()\n",
    "_pca = PCA(n_components=components)\n",
    "_model = KNeighborsClassifier(n_neighbors=5)\n",
    "\n",
    "Pipe = Pipeline([\n",
    "    ('std_scaler', _sc),\n",
    "    ('pca', _pca),\n",
    "    ('regressor', _model)\n",
    "])"
   ]
  },
  {
   "cell_type": "code",
   "execution_count": null,
   "id": "5c7d58cf",
   "metadata": {},
   "outputs": [],
   "source": []
  },
  {
   "cell_type": "code",
   "execution_count": 167,
   "id": "09d686f6",
   "metadata": {},
   "outputs": [
    {
     "data": {
      "text/html": [
       "<style>#sk-container-id-7 {color: black;}#sk-container-id-7 pre{padding: 0;}#sk-container-id-7 div.sk-toggleable {background-color: white;}#sk-container-id-7 label.sk-toggleable__label {cursor: pointer;display: block;width: 100%;margin-bottom: 0;padding: 0.3em;box-sizing: border-box;text-align: center;}#sk-container-id-7 label.sk-toggleable__label-arrow:before {content: \"▸\";float: left;margin-right: 0.25em;color: #696969;}#sk-container-id-7 label.sk-toggleable__label-arrow:hover:before {color: black;}#sk-container-id-7 div.sk-estimator:hover label.sk-toggleable__label-arrow:before {color: black;}#sk-container-id-7 div.sk-toggleable__content {max-height: 0;max-width: 0;overflow: hidden;text-align: left;background-color: #f0f8ff;}#sk-container-id-7 div.sk-toggleable__content pre {margin: 0.2em;color: black;border-radius: 0.25em;background-color: #f0f8ff;}#sk-container-id-7 input.sk-toggleable__control:checked~div.sk-toggleable__content {max-height: 200px;max-width: 100%;overflow: auto;}#sk-container-id-7 input.sk-toggleable__control:checked~label.sk-toggleable__label-arrow:before {content: \"▾\";}#sk-container-id-7 div.sk-estimator input.sk-toggleable__control:checked~label.sk-toggleable__label {background-color: #d4ebff;}#sk-container-id-7 div.sk-label input.sk-toggleable__control:checked~label.sk-toggleable__label {background-color: #d4ebff;}#sk-container-id-7 input.sk-hidden--visually {border: 0;clip: rect(1px 1px 1px 1px);clip: rect(1px, 1px, 1px, 1px);height: 1px;margin: -1px;overflow: hidden;padding: 0;position: absolute;width: 1px;}#sk-container-id-7 div.sk-estimator {font-family: monospace;background-color: #f0f8ff;border: 1px dotted black;border-radius: 0.25em;box-sizing: border-box;margin-bottom: 0.5em;}#sk-container-id-7 div.sk-estimator:hover {background-color: #d4ebff;}#sk-container-id-7 div.sk-parallel-item::after {content: \"\";width: 100%;border-bottom: 1px solid gray;flex-grow: 1;}#sk-container-id-7 div.sk-label:hover label.sk-toggleable__label {background-color: #d4ebff;}#sk-container-id-7 div.sk-serial::before {content: \"\";position: absolute;border-left: 1px solid gray;box-sizing: border-box;top: 0;bottom: 0;left: 50%;z-index: 0;}#sk-container-id-7 div.sk-serial {display: flex;flex-direction: column;align-items: center;background-color: white;padding-right: 0.2em;padding-left: 0.2em;position: relative;}#sk-container-id-7 div.sk-item {position: relative;z-index: 1;}#sk-container-id-7 div.sk-parallel {display: flex;align-items: stretch;justify-content: center;background-color: white;position: relative;}#sk-container-id-7 div.sk-item::before, #sk-container-id-7 div.sk-parallel-item::before {content: \"\";position: absolute;border-left: 1px solid gray;box-sizing: border-box;top: 0;bottom: 0;left: 50%;z-index: -1;}#sk-container-id-7 div.sk-parallel-item {display: flex;flex-direction: column;z-index: 1;position: relative;background-color: white;}#sk-container-id-7 div.sk-parallel-item:first-child::after {align-self: flex-end;width: 50%;}#sk-container-id-7 div.sk-parallel-item:last-child::after {align-self: flex-start;width: 50%;}#sk-container-id-7 div.sk-parallel-item:only-child::after {width: 0;}#sk-container-id-7 div.sk-dashed-wrapped {border: 1px dashed gray;margin: 0 0.4em 0.5em 0.4em;box-sizing: border-box;padding-bottom: 0.4em;background-color: white;}#sk-container-id-7 div.sk-label label {font-family: monospace;font-weight: bold;display: inline-block;line-height: 1.2em;}#sk-container-id-7 div.sk-label-container {text-align: center;}#sk-container-id-7 div.sk-container {/* jupyter's `normalize.less` sets `[hidden] { display: none; }` but bootstrap.min.css set `[hidden] { display: none !important; }` so we also need the `!important` here to be able to override the default hidden behavior on the sphinx rendered scikit-learn.org. See: https://github.com/scikit-learn/scikit-learn/issues/21755 */display: inline-block !important;position: relative;}#sk-container-id-7 div.sk-text-repr-fallback {display: none;}</style><div id=\"sk-container-id-7\" class=\"sk-top-container\"><div class=\"sk-text-repr-fallback\"><pre>Pipeline(steps=[(&#x27;std_scaler&#x27;, StandardScaler()), (&#x27;pca&#x27;, PCA(n_components=8)),\n",
       "                (&#x27;regressor&#x27;, KNeighborsClassifier())])</pre><b>In a Jupyter environment, please rerun this cell to show the HTML representation or trust the notebook. <br />On GitHub, the HTML representation is unable to render, please try loading this page with nbviewer.org.</b></div><div class=\"sk-container\" hidden><div class=\"sk-item sk-dashed-wrapped\"><div class=\"sk-label-container\"><div class=\"sk-label sk-toggleable\"><input class=\"sk-toggleable__control sk-hidden--visually\" id=\"sk-estimator-id-25\" type=\"checkbox\" ><label for=\"sk-estimator-id-25\" class=\"sk-toggleable__label sk-toggleable__label-arrow\">Pipeline</label><div class=\"sk-toggleable__content\"><pre>Pipeline(steps=[(&#x27;std_scaler&#x27;, StandardScaler()), (&#x27;pca&#x27;, PCA(n_components=8)),\n",
       "                (&#x27;regressor&#x27;, KNeighborsClassifier())])</pre></div></div></div><div class=\"sk-serial\"><div class=\"sk-item\"><div class=\"sk-estimator sk-toggleable\"><input class=\"sk-toggleable__control sk-hidden--visually\" id=\"sk-estimator-id-26\" type=\"checkbox\" ><label for=\"sk-estimator-id-26\" class=\"sk-toggleable__label sk-toggleable__label-arrow\">StandardScaler</label><div class=\"sk-toggleable__content\"><pre>StandardScaler()</pre></div></div></div><div class=\"sk-item\"><div class=\"sk-estimator sk-toggleable\"><input class=\"sk-toggleable__control sk-hidden--visually\" id=\"sk-estimator-id-27\" type=\"checkbox\" ><label for=\"sk-estimator-id-27\" class=\"sk-toggleable__label sk-toggleable__label-arrow\">PCA</label><div class=\"sk-toggleable__content\"><pre>PCA(n_components=8)</pre></div></div></div><div class=\"sk-item\"><div class=\"sk-estimator sk-toggleable\"><input class=\"sk-toggleable__control sk-hidden--visually\" id=\"sk-estimator-id-28\" type=\"checkbox\" ><label for=\"sk-estimator-id-28\" class=\"sk-toggleable__label sk-toggleable__label-arrow\">KNeighborsClassifier</label><div class=\"sk-toggleable__content\"><pre>KNeighborsClassifier()</pre></div></div></div></div></div></div></div>"
      ],
      "text/plain": [
       "Pipeline(steps=[('std_scaler', StandardScaler()), ('pca', PCA(n_components=8)),\n",
       "                ('regressor', KNeighborsClassifier())])"
      ]
     },
     "execution_count": 167,
     "metadata": {},
     "output_type": "execute_result"
    }
   ],
   "source": [
    "# perform a split\n",
    "random_state = 12\n",
    "\n",
    "X_train, X_test, y_train, y_test = \\\n",
    "    train_test_split(X, y, \n",
    "                     test_size=0.3,\n",
    "                     shuffle=True, \n",
    "                     random_state=random_state)\n",
    "    \n",
    "# train the model using the PCA components\n",
    "Pipe.fit(X_train,y_train)\n"
   ]
  },
  {
   "cell_type": "code",
   "execution_count": 168,
   "id": "8d540124",
   "metadata": {},
   "outputs": [
    {
     "data": {
      "text/plain": [
       "1.0"
      ]
     },
     "execution_count": 168,
     "metadata": {},
     "output_type": "execute_result"
    }
   ],
   "source": [
    "Pipe.score(X_test,y_test)"
   ]
  },
  {
   "cell_type": "markdown",
   "id": "bf44977a",
   "metadata": {},
   "source": [
    "### Predict Songs "
   ]
  },
  {
   "cell_type": "code",
   "execution_count": 169,
   "id": "22c74aba",
   "metadata": {},
   "outputs": [
    {
     "data": {
      "text/plain": [
       "Index(['track_id', 'length', 'artists', 'album', 'time_signature',\n",
       "       'danceability', 'acousticness', 'energy', 'tempo', 'instrumentalness',\n",
       "       'loudness', 'liveness', 'key', 'valence', 'speechiness', 'mode',\n",
       "       'Popularity', 'minutes', 'beat_density', 'Popularity_Rank',\n",
       "       'melody_complexity', 'instrumental_acoustic_ratio', 'favorite'],\n",
       "      dtype='object')"
      ]
     },
     "execution_count": 169,
     "metadata": {},
     "output_type": "execute_result"
    }
   ],
   "source": [
    "df.columns"
   ]
  },
  {
   "cell_type": "code",
   "execution_count": 170,
   "id": "1c476f59",
   "metadata": {},
   "outputs": [],
   "source": [
    "# Predicting if a song is a favorite\n",
    "prob_preds = Pipe.predict_proba(df.drop(['favorite','track_id'], axis=1))\n",
    "threshold = 0.30 # define threshold here\n",
    "preds = [1 if prob_preds[i][1]> threshold else 0 for i in range(len(prob_preds))]\n",
    "df['prediction'] = preds"
   ]
  },
  {
   "cell_type": "code",
   "execution_count": 171,
   "id": "d79c132a",
   "metadata": {},
   "outputs": [
    {
     "data": {
      "text/plain": [
       "0        0\n",
       "1        0\n",
       "2        0\n",
       "3        0\n",
       "4        0\n",
       "        ..\n",
       "12589    1\n",
       "12590    1\n",
       "12591    1\n",
       "12592    1\n",
       "12593    1\n",
       "Name: prediction, Length: 12594, dtype: int64"
      ]
     },
     "execution_count": 171,
     "metadata": {},
     "output_type": "execute_result"
    }
   ],
   "source": [
    "df['prediction']"
   ]
  },
  {
   "cell_type": "code",
   "execution_count": 172,
   "id": "fe71e344",
   "metadata": {},
   "outputs": [
    {
     "data": {
      "text/plain": [
       "prediction\n",
       "0    12476\n",
       "1      118\n",
       "Name: count, dtype: int64"
      ]
     },
     "execution_count": 172,
     "metadata": {},
     "output_type": "execute_result"
    }
   ],
   "source": [
    "df['prediction'].value_counts()"
   ]
  },
  {
   "cell_type": "markdown",
   "id": "97408c9a",
   "metadata": {},
   "source": [
    "#### Building the playlist from recommended songs"
   ]
  },
  {
   "cell_type": "code",
   "execution_count": 173,
   "id": "820706fd",
   "metadata": {},
   "outputs": [],
   "source": [
    "import spotipy\n",
    "import spotipy.util as util\n",
    "from spotipy.oauth2 import SpotifyClientCredentials\n",
    "from spotipy import oauth2"
   ]
  },
  {
   "cell_type": "code",
   "execution_count": 174,
   "id": "ea20b55d",
   "metadata": {},
   "outputs": [],
   "source": [
    "# Declare the credentials\n",
    "client_id = '2a7adde1b07a4bf9a5fd750d6ff6f28d'\n",
    "client_secret = '74a5c5859a0548ccae791419cc29c8fa'\n",
    "redirect_uri='http://localhost:7777/callback'\n",
    "username = 'ethan.falcao'"
   ]
  },
  {
   "cell_type": "code",
   "execution_count": 175,
   "id": "9cb2bbeb",
   "metadata": {},
   "outputs": [],
   "source": [
    "# Once the Authorisation is complete, we just need to `sp` to call the APIs\n",
    "scope = 'user-top-read playlist-modify-private playlist-modify-public'\n",
    "token = util.prompt_for_user_token(username, scope, client_id=client_id, client_secret=client_secret, redirect_uri=redirect_uri)\n",
    "\n",
    "if token:\n",
    "    sp = spotipy.Spotify(auth=token)\n",
    "else:\n",
    "    print(\"Can't get token for\", username)"
   ]
  },
  {
   "cell_type": "code",
   "execution_count": 176,
   "id": "b26ff3ca",
   "metadata": {},
   "outputs": [],
   "source": [
    "# Creating a function that builds a playlist in the user's spotify account\n",
    "def create_playlist(sp, username, playlist_name, playlist_description):\n",
    "    playlists = sp.user_playlist_create(username, playlist_name, description = playlist_description)"
   ]
  },
  {
   "cell_type": "code",
   "execution_count": 177,
   "id": "04013a43",
   "metadata": {},
   "outputs": [],
   "source": [
    "create_playlist(sp, username, 'Your New Jams', 'This playlist was created using python!')"
   ]
  },
  {
   "cell_type": "code",
   "execution_count": 178,
   "id": "f9e06cb5",
   "metadata": {},
   "outputs": [],
   "source": [
    "# Function to check if the playlist was created successfully\n",
    "def fetch_playlists(sp, username):\n",
    "    \"\"\"\n",
    "    Returns the user's playlists.\n",
    "    \"\"\"\n",
    "        \n",
    "    id = []\n",
    "    name = []\n",
    "    num_tracks = []\n",
    "    \n",
    "    # Make the API request\n",
    "    playlists = sp.user_playlists(username)\n",
    "    for playlist in playlists['items']:\n",
    "        id.append(playlist['id'])\n",
    "        name.append(playlist['name'])\n",
    "        num_tracks.append(playlist['tracks']['total'])\n",
    "\n",
    "    # Create the final df   \n",
    "    df_playlists = pd.DataFrame({\"id\":id, \"name\": name, \"#tracks\": num_tracks})\n",
    "    return df_playlists"
   ]
  },
  {
   "cell_type": "code",
   "execution_count": 179,
   "id": "cc591d48",
   "metadata": {},
   "outputs": [
    {
     "data": {
      "text/html": [
       "<div>\n",
       "<style scoped>\n",
       "    .dataframe tbody tr th:only-of-type {\n",
       "        vertical-align: middle;\n",
       "    }\n",
       "\n",
       "    .dataframe tbody tr th {\n",
       "        vertical-align: top;\n",
       "    }\n",
       "\n",
       "    .dataframe thead th {\n",
       "        text-align: right;\n",
       "    }\n",
       "</style>\n",
       "<table border=\"1\" class=\"dataframe\">\n",
       "  <thead>\n",
       "    <tr style=\"text-align: right;\">\n",
       "      <th></th>\n",
       "      <th>id</th>\n",
       "      <th>name</th>\n",
       "      <th>#tracks</th>\n",
       "    </tr>\n",
       "  </thead>\n",
       "  <tbody>\n",
       "    <tr>\n",
       "      <th>0</th>\n",
       "      <td>7q9MublCR8vYmsEfZI3QkS</td>\n",
       "      <td>Your New Jams</td>\n",
       "      <td>0</td>\n",
       "    </tr>\n",
       "    <tr>\n",
       "      <th>1</th>\n",
       "      <td>1AJFPBjF116BRPJsbjoOn7</td>\n",
       "      <td>July 2023</td>\n",
       "      <td>20</td>\n",
       "    </tr>\n",
       "    <tr>\n",
       "      <th>2</th>\n",
       "      <td>1oxbP11MEsbkUqyMlaIYac</td>\n",
       "      <td>October 2023</td>\n",
       "      <td>27</td>\n",
       "    </tr>\n",
       "    <tr>\n",
       "      <th>3</th>\n",
       "      <td>06gBlEcmbpmpIxgDuMnqrw</td>\n",
       "      <td>September 2023</td>\n",
       "      <td>32</td>\n",
       "    </tr>\n",
       "    <tr>\n",
       "      <th>4</th>\n",
       "      <td>30VWwWahI4rVSsEjPO9WIP</td>\n",
       "      <td>August 2023</td>\n",
       "      <td>11</td>\n",
       "    </tr>\n",
       "  </tbody>\n",
       "</table>\n",
       "</div>"
      ],
      "text/plain": [
       "                       id            name  #tracks\n",
       "0  7q9MublCR8vYmsEfZI3QkS   Your New Jams        0\n",
       "1  1AJFPBjF116BRPJsbjoOn7       July 2023       20\n",
       "2  1oxbP11MEsbkUqyMlaIYac    October 2023       27\n",
       "3  06gBlEcmbpmpIxgDuMnqrw  September 2023       32\n",
       "4  30VWwWahI4rVSsEjPO9WIP     August 2023       11"
      ]
     },
     "execution_count": 179,
     "metadata": {},
     "output_type": "execute_result"
    }
   ],
   "source": [
    "fetch_playlists(sp,username).head()"
   ]
  },
  {
   "cell_type": "code",
   "execution_count": 180,
   "id": "0931251c",
   "metadata": {},
   "outputs": [],
   "source": [
    "# Getting the playlist ID of the most recently made playlist so we can add songs to it later\n",
    "playlist_id = fetch_playlists(sp,username)['id'][0]"
   ]
  },
  {
   "cell_type": "code",
   "execution_count": 181,
   "id": "f913172f",
   "metadata": {},
   "outputs": [],
   "source": [
    "# Function to add selected songs to playlist\n",
    "def enrich_playlist(sp, username, playlist_id, playlist_tracks):\n",
    "    index = 0\n",
    "    results = []\n",
    "    \n",
    "    while index < len(playlist_tracks):\n",
    "        results += sp.user_playlist_add_tracks(username, playlist_id, tracks = playlist_tracks[index:index + 50])\n",
    "        index += 50"
   ]
  },
  {
   "cell_type": "code",
   "execution_count": 182,
   "id": "af0b6533",
   "metadata": {},
   "outputs": [],
   "source": [
    "# Adding songs to playlist\n",
    "list_track = df.loc[df['prediction']  == 1]['track_id']\n",
    "enrich_playlist(sp, username, playlist_id, list_track)"
   ]
  }
 ],
 "metadata": {
  "kernelspec": {
   "display_name": "Python 3 (ipykernel)",
   "language": "python",
   "name": "python3"
  },
  "language_info": {
   "codemirror_mode": {
    "name": "ipython",
    "version": 3
   },
   "file_extension": ".py",
   "mimetype": "text/x-python",
   "name": "python",
   "nbconvert_exporter": "python",
   "pygments_lexer": "ipython3",
   "version": "3.9.13"
  }
 },
 "nbformat": 4,
 "nbformat_minor": 5
}
