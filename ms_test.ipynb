{
 "cells": [
  {
   "cell_type": "code",
   "execution_count": 396,
   "id": "d209f050",
   "metadata": {},
   "outputs": [],
   "source": [
    "# Import the libraries\n",
    "import os\n",
    "import pandas as pd\n",
    "import numpy as np\n",
    "import json\n",
    "import matplotlib.pyplot as plt\n",
    "import seaborn as sns\n",
    "%config InlineBackend.figure_format ='retina'\n",
    "import spotipy\n",
    "import spotipy.util as util\n",
    "from spotipy.oauth2 import SpotifyClientCredentials\n",
    "\n",
    "from sklearn.model_selection import train_test_split\n",
    "from sklearn.model_selection import cross_val_score\n",
    "from sklearn.tree import DecisionTreeClassifier\n",
    "from sklearn.ensemble import RandomForestClassifier\n",
    "from sklearn.ensemble import AdaBoostClassifier\n",
    "from sklearn.linear_model import LogisticRegressionCV\n",
    "\n",
    "import warnings\n",
    "warnings.simplefilter(action='ignore', category=FutureWarning)\n"
   ]
  },
  {
   "cell_type": "code",
   "execution_count": 397,
   "id": "42b1422b",
   "metadata": {},
   "outputs": [],
   "source": [
    "# Importing required libraries\n",
    "import sklearn\n",
    "from sklearn.pipeline import Pipeline\n",
    "from sklearn.model_selection import cross_val_score\n",
    "from sklearn.model_selection import train_test_split\n",
    "from sklearn.model_selection import GridSearchCV\n",
    "from sklearn import metrics \n",
    "from sklearn.metrics import f1_score\n",
    "# Models\n",
    "from sklearn.ensemble import RandomForestClassifier\n",
    "from sklearn.linear_model import LogisticRegression \n",
    "from sklearn.tree import DecisionTreeClassifier"
   ]
  },
  {
   "cell_type": "markdown",
   "id": "7f99712a",
   "metadata": {},
   "source": [
    "## Import data"
   ]
  },
  {
   "cell_type": "code",
   "execution_count": 398,
   "id": "36ee14e2",
   "metadata": {},
   "outputs": [],
   "source": [
    "#13k top spotify songs \n",
    "#df=pd.read_csv('data/df.csv', sep=\",\")\n",
    "#users favorite tracks based on time \n",
    "df_fav=pd.read_csv('data/df_fav.csv', sep=\",\")\n",
    "df=pd.read_csv('data/df_hot.csv', sep=\",\")"
   ]
  },
  {
   "cell_type": "code",
   "execution_count": 399,
   "id": "2d3ef655",
   "metadata": {},
   "outputs": [
    {
     "data": {
      "text/html": [
       "<div>\n",
       "<style scoped>\n",
       "    .dataframe tbody tr th:only-of-type {\n",
       "        vertical-align: middle;\n",
       "    }\n",
       "\n",
       "    .dataframe tbody tr th {\n",
       "        vertical-align: top;\n",
       "    }\n",
       "\n",
       "    .dataframe thead th {\n",
       "        text-align: right;\n",
       "    }\n",
       "</style>\n",
       "<table border=\"1\" class=\"dataframe\">\n",
       "  <thead>\n",
       "    <tr style=\"text-align: right;\">\n",
       "      <th></th>\n",
       "      <th>track_id</th>\n",
       "      <th>length</th>\n",
       "      <th>artists</th>\n",
       "      <th>album</th>\n",
       "      <th>time_signature</th>\n",
       "      <th>danceability</th>\n",
       "      <th>acousticness</th>\n",
       "      <th>energy</th>\n",
       "      <th>tempo</th>\n",
       "      <th>instrumentalness</th>\n",
       "      <th>...</th>\n",
       "      <th>valence</th>\n",
       "      <th>speechiness</th>\n",
       "      <th>mode</th>\n",
       "      <th>Popularity</th>\n",
       "      <th>minutes</th>\n",
       "      <th>beat_density</th>\n",
       "      <th>Popularity_Rank</th>\n",
       "      <th>melody_complexity</th>\n",
       "      <th>instrumental_acoustic_ratio</th>\n",
       "      <th>favorite</th>\n",
       "    </tr>\n",
       "  </thead>\n",
       "  <tbody>\n",
       "    <tr>\n",
       "      <th>0</th>\n",
       "      <td>3rUGC1vUpkDG9CZFHMur1t</td>\n",
       "      <td>131872</td>\n",
       "      <td>7016</td>\n",
       "      <td>9646</td>\n",
       "      <td>1</td>\n",
       "      <td>0.750</td>\n",
       "      <td>0.2560</td>\n",
       "      <td>0.733</td>\n",
       "      <td>111.018</td>\n",
       "      <td>0.000000</td>\n",
       "      <td>...</td>\n",
       "      <td>0.844</td>\n",
       "      <td>0.0319</td>\n",
       "      <td>0</td>\n",
       "      <td>98.0</td>\n",
       "      <td>2.197867</td>\n",
       "      <td>50.511708</td>\n",
       "      <td>4.5</td>\n",
       "      <td>111.018</td>\n",
       "      <td>0.000000</td>\n",
       "      <td>0</td>\n",
       "    </tr>\n",
       "    <tr>\n",
       "      <th>1</th>\n",
       "      <td>7aqfrAY2p9BUSiupwk3svU</td>\n",
       "      <td>247444</td>\n",
       "      <td>2075</td>\n",
       "      <td>2891</td>\n",
       "      <td>4</td>\n",
       "      <td>0.470</td>\n",
       "      <td>0.0277</td>\n",
       "      <td>0.640</td>\n",
       "      <td>163.920</td>\n",
       "      <td>0.000000</td>\n",
       "      <td>...</td>\n",
       "      <td>0.248</td>\n",
       "      <td>0.3200</td>\n",
       "      <td>1</td>\n",
       "      <td>91.0</td>\n",
       "      <td>4.124067</td>\n",
       "      <td>39.747175</td>\n",
       "      <td>49.5</td>\n",
       "      <td>655.680</td>\n",
       "      <td>0.000000</td>\n",
       "      <td>0</td>\n",
       "    </tr>\n",
       "    <tr>\n",
       "      <th>2</th>\n",
       "      <td>7dJYggqjKo71KI9sLzqCs8</td>\n",
       "      <td>265360</td>\n",
       "      <td>2007</td>\n",
       "      <td>7025</td>\n",
       "      <td>4</td>\n",
       "      <td>0.750</td>\n",
       "      <td>0.2280</td>\n",
       "      <td>0.674</td>\n",
       "      <td>123.026</td>\n",
       "      <td>0.000089</td>\n",
       "      <td>...</td>\n",
       "      <td>0.392</td>\n",
       "      <td>0.0970</td>\n",
       "      <td>0</td>\n",
       "      <td>89.0</td>\n",
       "      <td>4.422667</td>\n",
       "      <td>27.817154</td>\n",
       "      <td>89.5</td>\n",
       "      <td>492.104</td>\n",
       "      <td>0.000391</td>\n",
       "      <td>0</td>\n",
       "    </tr>\n",
       "    <tr>\n",
       "      <th>3</th>\n",
       "      <td>4MjDJD8cW7iVeWInc2Bdyj</td>\n",
       "      <td>267194</td>\n",
       "      <td>742</td>\n",
       "      <td>9691</td>\n",
       "      <td>4</td>\n",
       "      <td>0.787</td>\n",
       "      <td>0.1500</td>\n",
       "      <td>0.621</td>\n",
       "      <td>139.056</td>\n",
       "      <td>0.000402</td>\n",
       "      <td>...</td>\n",
       "      <td>0.130</td>\n",
       "      <td>0.0680</td>\n",
       "      <td>0</td>\n",
       "      <td>94.0</td>\n",
       "      <td>4.453233</td>\n",
       "      <td>31.225851</td>\n",
       "      <td>21.0</td>\n",
       "      <td>556.224</td>\n",
       "      <td>0.002680</td>\n",
       "      <td>0</td>\n",
       "    </tr>\n",
       "    <tr>\n",
       "      <th>4</th>\n",
       "      <td>5aIVCx5tnk0ntmdiinnYvw</td>\n",
       "      <td>200256</td>\n",
       "      <td>7579</td>\n",
       "      <td>9135</td>\n",
       "      <td>4</td>\n",
       "      <td>0.673</td>\n",
       "      <td>0.0856</td>\n",
       "      <td>0.722</td>\n",
       "      <td>117.187</td>\n",
       "      <td>0.000000</td>\n",
       "      <td>...</td>\n",
       "      <td>0.519</td>\n",
       "      <td>0.0755</td>\n",
       "      <td>0</td>\n",
       "      <td>92.0</td>\n",
       "      <td>3.337600</td>\n",
       "      <td>35.111158</td>\n",
       "      <td>37.5</td>\n",
       "      <td>468.748</td>\n",
       "      <td>0.000000</td>\n",
       "      <td>0</td>\n",
       "    </tr>\n",
       "  </tbody>\n",
       "</table>\n",
       "<p>5 rows × 23 columns</p>\n",
       "</div>"
      ],
      "text/plain": [
       "                 track_id  length  artists  album  time_signature  \\\n",
       "0  3rUGC1vUpkDG9CZFHMur1t  131872     7016   9646               1   \n",
       "1  7aqfrAY2p9BUSiupwk3svU  247444     2075   2891               4   \n",
       "2  7dJYggqjKo71KI9sLzqCs8  265360     2007   7025               4   \n",
       "3  4MjDJD8cW7iVeWInc2Bdyj  267194      742   9691               4   \n",
       "4  5aIVCx5tnk0ntmdiinnYvw  200256     7579   9135               4   \n",
       "\n",
       "   danceability  acousticness  energy    tempo  instrumentalness  ...  \\\n",
       "0         0.750        0.2560   0.733  111.018          0.000000  ...   \n",
       "1         0.470        0.0277   0.640  163.920          0.000000  ...   \n",
       "2         0.750        0.2280   0.674  123.026          0.000089  ...   \n",
       "3         0.787        0.1500   0.621  139.056          0.000402  ...   \n",
       "4         0.673        0.0856   0.722  117.187          0.000000  ...   \n",
       "\n",
       "   valence  speechiness  mode  Popularity   minutes  beat_density  \\\n",
       "0    0.844       0.0319     0        98.0  2.197867     50.511708   \n",
       "1    0.248       0.3200     1        91.0  4.124067     39.747175   \n",
       "2    0.392       0.0970     0        89.0  4.422667     27.817154   \n",
       "3    0.130       0.0680     0        94.0  4.453233     31.225851   \n",
       "4    0.519       0.0755     0        92.0  3.337600     35.111158   \n",
       "\n",
       "   Popularity_Rank  melody_complexity  instrumental_acoustic_ratio  favorite  \n",
       "0              4.5            111.018                     0.000000         0  \n",
       "1             49.5            655.680                     0.000000         0  \n",
       "2             89.5            492.104                     0.000391         0  \n",
       "3             21.0            556.224                     0.002680         0  \n",
       "4             37.5            468.748                     0.000000         0  \n",
       "\n",
       "[5 rows x 23 columns]"
      ]
     },
     "execution_count": 399,
     "metadata": {},
     "output_type": "execute_result"
    }
   ],
   "source": [
    "df.head()"
   ]
  },
  {
   "cell_type": "code",
   "execution_count": 400,
   "id": "856466dc",
   "metadata": {},
   "outputs": [
    {
     "data": {
      "text/html": [
       "<div>\n",
       "<style scoped>\n",
       "    .dataframe tbody tr th:only-of-type {\n",
       "        vertical-align: middle;\n",
       "    }\n",
       "\n",
       "    .dataframe tbody tr th {\n",
       "        vertical-align: top;\n",
       "    }\n",
       "\n",
       "    .dataframe thead th {\n",
       "        text-align: right;\n",
       "    }\n",
       "</style>\n",
       "<table border=\"1\" class=\"dataframe\">\n",
       "  <thead>\n",
       "    <tr style=\"text-align: right;\">\n",
       "      <th></th>\n",
       "      <th>length</th>\n",
       "      <th>artists</th>\n",
       "      <th>album</th>\n",
       "      <th>time_signature</th>\n",
       "      <th>danceability</th>\n",
       "      <th>acousticness</th>\n",
       "      <th>energy</th>\n",
       "      <th>tempo</th>\n",
       "      <th>instrumentalness</th>\n",
       "      <th>loudness</th>\n",
       "      <th>...</th>\n",
       "      <th>valence</th>\n",
       "      <th>speechiness</th>\n",
       "      <th>mode</th>\n",
       "      <th>Popularity</th>\n",
       "      <th>minutes</th>\n",
       "      <th>beat_density</th>\n",
       "      <th>Popularity_Rank</th>\n",
       "      <th>melody_complexity</th>\n",
       "      <th>instrumental_acoustic_ratio</th>\n",
       "      <th>favorite</th>\n",
       "    </tr>\n",
       "  </thead>\n",
       "  <tbody>\n",
       "    <tr>\n",
       "      <th>count</th>\n",
       "      <td>1.259400e+04</td>\n",
       "      <td>12594.000000</td>\n",
       "      <td>12594.000000</td>\n",
       "      <td>12594.000000</td>\n",
       "      <td>12594.000000</td>\n",
       "      <td>12594.000000</td>\n",
       "      <td>12594.000000</td>\n",
       "      <td>12594.000000</td>\n",
       "      <td>12594.000000</td>\n",
       "      <td>12594.000000</td>\n",
       "      <td>...</td>\n",
       "      <td>12594.000000</td>\n",
       "      <td>12594.000000</td>\n",
       "      <td>12594.000000</td>\n",
       "      <td>12594.000000</td>\n",
       "      <td>12594.000000</td>\n",
       "      <td>12594.000000</td>\n",
       "      <td>12594.000000</td>\n",
       "      <td>12594.000000</td>\n",
       "      <td>12594.000000</td>\n",
       "      <td>12594.000000</td>\n",
       "    </tr>\n",
       "    <tr>\n",
       "      <th>mean</th>\n",
       "      <td>2.385551e+05</td>\n",
       "      <td>4135.184215</td>\n",
       "      <td>4870.247816</td>\n",
       "      <td>4.502938</td>\n",
       "      <td>0.553316</td>\n",
       "      <td>0.315991</td>\n",
       "      <td>0.592348</td>\n",
       "      <td>119.010716</td>\n",
       "      <td>0.182240</td>\n",
       "      <td>-9.627065</td>\n",
       "      <td>...</td>\n",
       "      <td>0.469516</td>\n",
       "      <td>0.084973</td>\n",
       "      <td>0.672622</td>\n",
       "      <td>50.297933</td>\n",
       "      <td>3.975918</td>\n",
       "      <td>35.102960</td>\n",
       "      <td>6180.605606</td>\n",
       "      <td>465.286804</td>\n",
       "      <td>537.973461</td>\n",
       "      <td>0.009370</td>\n",
       "    </tr>\n",
       "    <tr>\n",
       "      <th>std</th>\n",
       "      <td>1.263497e+05</td>\n",
       "      <td>2385.110827</td>\n",
       "      <td>2834.519720</td>\n",
       "      <td>6.384068</td>\n",
       "      <td>0.189292</td>\n",
       "      <td>0.361614</td>\n",
       "      <td>0.283803</td>\n",
       "      <td>31.161578</td>\n",
       "      <td>0.322545</td>\n",
       "      <td>6.945035</td>\n",
       "      <td>...</td>\n",
       "      <td>0.428565</td>\n",
       "      <td>0.110423</td>\n",
       "      <td>0.684204</td>\n",
       "      <td>19.924747</td>\n",
       "      <td>2.105828</td>\n",
       "      <td>18.796769</td>\n",
       "      <td>3633.365412</td>\n",
       "      <td>132.168642</td>\n",
       "      <td>11978.910413</td>\n",
       "      <td>0.096346</td>\n",
       "    </tr>\n",
       "    <tr>\n",
       "      <th>min</th>\n",
       "      <td>9.750000e+03</td>\n",
       "      <td>0.000000</td>\n",
       "      <td>0.000000</td>\n",
       "      <td>0.000000</td>\n",
       "      <td>0.000000</td>\n",
       "      <td>0.000001</td>\n",
       "      <td>0.000568</td>\n",
       "      <td>0.000000</td>\n",
       "      <td>0.000000</td>\n",
       "      <td>-44.150000</td>\n",
       "      <td>...</td>\n",
       "      <td>0.000000</td>\n",
       "      <td>0.000000</td>\n",
       "      <td>0.000000</td>\n",
       "      <td>0.000000</td>\n",
       "      <td>0.162500</td>\n",
       "      <td>0.000000</td>\n",
       "      <td>1.000000</td>\n",
       "      <td>0.000000</td>\n",
       "      <td>0.000000</td>\n",
       "      <td>0.000000</td>\n",
       "    </tr>\n",
       "    <tr>\n",
       "      <th>25%</th>\n",
       "      <td>1.771040e+05</td>\n",
       "      <td>2094.250000</td>\n",
       "      <td>2406.000000</td>\n",
       "      <td>4.000000</td>\n",
       "      <td>0.428000</td>\n",
       "      <td>0.016200</td>\n",
       "      <td>0.413000</td>\n",
       "      <td>97.484000</td>\n",
       "      <td>0.000000</td>\n",
       "      <td>-10.962500</td>\n",
       "      <td>...</td>\n",
       "      <td>0.219000</td>\n",
       "      <td>0.036700</td>\n",
       "      <td>0.000000</td>\n",
       "      <td>39.000000</td>\n",
       "      <td>2.951733</td>\n",
       "      <td>24.422204</td>\n",
       "      <td>3045.500000</td>\n",
       "      <td>380.037000</td>\n",
       "      <td>0.000000</td>\n",
       "      <td>0.000000</td>\n",
       "    </tr>\n",
       "    <tr>\n",
       "      <th>50%</th>\n",
       "      <td>2.119465e+05</td>\n",
       "      <td>4201.500000</td>\n",
       "      <td>4908.500000</td>\n",
       "      <td>4.000000</td>\n",
       "      <td>0.571000</td>\n",
       "      <td>0.128000</td>\n",
       "      <td>0.655000</td>\n",
       "      <td>121.940000</td>\n",
       "      <td>0.000332</td>\n",
       "      <td>-7.214500</td>\n",
       "      <td>...</td>\n",
       "      <td>0.423000</td>\n",
       "      <td>0.047400</td>\n",
       "      <td>1.000000</td>\n",
       "      <td>52.000000</td>\n",
       "      <td>3.532442</td>\n",
       "      <td>33.464736</td>\n",
       "      <td>6092.000000</td>\n",
       "      <td>480.024000</td>\n",
       "      <td>0.005413</td>\n",
       "      <td>0.000000</td>\n",
       "    </tr>\n",
       "    <tr>\n",
       "      <th>75%</th>\n",
       "      <td>2.592970e+05</td>\n",
       "      <td>6213.750000</td>\n",
       "      <td>7320.750000</td>\n",
       "      <td>4.000000</td>\n",
       "      <td>0.693000</td>\n",
       "      <td>0.606750</td>\n",
       "      <td>0.827000</td>\n",
       "      <td>137.689500</td>\n",
       "      <td>0.180000</td>\n",
       "      <td>-5.198000</td>\n",
       "      <td>...</td>\n",
       "      <td>0.644000</td>\n",
       "      <td>0.079600</td>\n",
       "      <td>1.000000</td>\n",
       "      <td>65.000000</td>\n",
       "      <td>4.321617</td>\n",
       "      <td>42.873465</td>\n",
       "      <td>9370.500000</td>\n",
       "      <td>543.818000</td>\n",
       "      <td>0.922067</td>\n",
       "      <td>0.000000</td>\n",
       "    </tr>\n",
       "    <tr>\n",
       "      <th>max</th>\n",
       "      <td>4.170227e+06</td>\n",
       "      <td>8136.000000</td>\n",
       "      <td>9764.000000</td>\n",
       "      <td>96.000000</td>\n",
       "      <td>0.978000</td>\n",
       "      <td>0.996000</td>\n",
       "      <td>0.999000</td>\n",
       "      <td>219.446000</td>\n",
       "      <td>0.986000</td>\n",
       "      <td>1.177000</td>\n",
       "      <td>...</td>\n",
       "      <td>5.000000</td>\n",
       "      <td>1.000000</td>\n",
       "      <td>11.000000</td>\n",
       "      <td>100.000000</td>\n",
       "      <td>69.503783</td>\n",
       "      <td>574.662857</td>\n",
       "      <td>12343.000000</td>\n",
       "      <td>926.355000</td>\n",
       "      <td>747863.247863</td>\n",
       "      <td>1.000000</td>\n",
       "    </tr>\n",
       "  </tbody>\n",
       "</table>\n",
       "<p>8 rows × 22 columns</p>\n",
       "</div>"
      ],
      "text/plain": [
       "             length       artists         album  time_signature  danceability  \\\n",
       "count  1.259400e+04  12594.000000  12594.000000    12594.000000  12594.000000   \n",
       "mean   2.385551e+05   4135.184215   4870.247816        4.502938      0.553316   \n",
       "std    1.263497e+05   2385.110827   2834.519720        6.384068      0.189292   \n",
       "min    9.750000e+03      0.000000      0.000000        0.000000      0.000000   \n",
       "25%    1.771040e+05   2094.250000   2406.000000        4.000000      0.428000   \n",
       "50%    2.119465e+05   4201.500000   4908.500000        4.000000      0.571000   \n",
       "75%    2.592970e+05   6213.750000   7320.750000        4.000000      0.693000   \n",
       "max    4.170227e+06   8136.000000   9764.000000       96.000000      0.978000   \n",
       "\n",
       "       acousticness        energy         tempo  instrumentalness  \\\n",
       "count  12594.000000  12594.000000  12594.000000      12594.000000   \n",
       "mean       0.315991      0.592348    119.010716          0.182240   \n",
       "std        0.361614      0.283803     31.161578          0.322545   \n",
       "min        0.000001      0.000568      0.000000          0.000000   \n",
       "25%        0.016200      0.413000     97.484000          0.000000   \n",
       "50%        0.128000      0.655000    121.940000          0.000332   \n",
       "75%        0.606750      0.827000    137.689500          0.180000   \n",
       "max        0.996000      0.999000    219.446000          0.986000   \n",
       "\n",
       "           loudness  ...       valence   speechiness          mode  \\\n",
       "count  12594.000000  ...  12594.000000  12594.000000  12594.000000   \n",
       "mean      -9.627065  ...      0.469516      0.084973      0.672622   \n",
       "std        6.945035  ...      0.428565      0.110423      0.684204   \n",
       "min      -44.150000  ...      0.000000      0.000000      0.000000   \n",
       "25%      -10.962500  ...      0.219000      0.036700      0.000000   \n",
       "50%       -7.214500  ...      0.423000      0.047400      1.000000   \n",
       "75%       -5.198000  ...      0.644000      0.079600      1.000000   \n",
       "max        1.177000  ...      5.000000      1.000000     11.000000   \n",
       "\n",
       "         Popularity       minutes  beat_density  Popularity_Rank  \\\n",
       "count  12594.000000  12594.000000  12594.000000     12594.000000   \n",
       "mean      50.297933      3.975918     35.102960      6180.605606   \n",
       "std       19.924747      2.105828     18.796769      3633.365412   \n",
       "min        0.000000      0.162500      0.000000         1.000000   \n",
       "25%       39.000000      2.951733     24.422204      3045.500000   \n",
       "50%       52.000000      3.532442     33.464736      6092.000000   \n",
       "75%       65.000000      4.321617     42.873465      9370.500000   \n",
       "max      100.000000     69.503783    574.662857     12343.000000   \n",
       "\n",
       "       melody_complexity  instrumental_acoustic_ratio      favorite  \n",
       "count       12594.000000                 12594.000000  12594.000000  \n",
       "mean          465.286804                   537.973461      0.009370  \n",
       "std           132.168642                 11978.910413      0.096346  \n",
       "min             0.000000                     0.000000      0.000000  \n",
       "25%           380.037000                     0.000000      0.000000  \n",
       "50%           480.024000                     0.005413      0.000000  \n",
       "75%           543.818000                     0.922067      0.000000  \n",
       "max           926.355000                747863.247863      1.000000  \n",
       "\n",
       "[8 rows x 22 columns]"
      ]
     },
     "execution_count": 400,
     "metadata": {},
     "output_type": "execute_result"
    }
   ],
   "source": [
    "df.describe()"
   ]
  },
  {
   "cell_type": "code",
   "execution_count": 401,
   "id": "9cc4ee53",
   "metadata": {},
   "outputs": [
    {
     "name": "stdout",
     "output_type": "stream",
     "text": [
      "<class 'pandas.core.frame.DataFrame'>\n",
      "RangeIndex: 12594 entries, 0 to 12593\n",
      "Data columns (total 23 columns):\n",
      " #   Column                       Non-Null Count  Dtype  \n",
      "---  ------                       --------------  -----  \n",
      " 0   track_id                     12594 non-null  object \n",
      " 1   length                       12594 non-null  int64  \n",
      " 2   artists                      12594 non-null  int64  \n",
      " 3   album                        12594 non-null  int64  \n",
      " 4   time_signature               12594 non-null  int64  \n",
      " 5   danceability                 12594 non-null  float64\n",
      " 6   acousticness                 12594 non-null  float64\n",
      " 7   energy                       12594 non-null  float64\n",
      " 8   tempo                        12594 non-null  float64\n",
      " 9   instrumentalness             12594 non-null  float64\n",
      " 10  loudness                     12594 non-null  float64\n",
      " 11  liveness                     12594 non-null  float64\n",
      " 12  key                          12594 non-null  float64\n",
      " 13  valence                      12594 non-null  float64\n",
      " 14  speechiness                  12594 non-null  float64\n",
      " 15  mode                         12594 non-null  int64  \n",
      " 16  Popularity                   12594 non-null  float64\n",
      " 17  minutes                      12594 non-null  float64\n",
      " 18  beat_density                 12594 non-null  float64\n",
      " 19  Popularity_Rank              12594 non-null  float64\n",
      " 20  melody_complexity            12594 non-null  float64\n",
      " 21  instrumental_acoustic_ratio  12594 non-null  float64\n",
      " 22  favorite                     12594 non-null  int64  \n",
      "dtypes: float64(16), int64(6), object(1)\n",
      "memory usage: 2.2+ MB\n"
     ]
    }
   ],
   "source": [
    "df.info()"
   ]
  },
  {
   "cell_type": "code",
   "execution_count": 402,
   "id": "20be5f0f",
   "metadata": {},
   "outputs": [
    {
     "data": {
      "text/plain": [
       "favorite\n",
       "0    12476\n",
       "1      118\n",
       "Name: count, dtype: int64"
      ]
     },
     "execution_count": 402,
     "metadata": {},
     "output_type": "execute_result"
    }
   ],
   "source": [
    "df['favorite'].value_counts()"
   ]
  },
  {
   "cell_type": "code",
   "execution_count": 403,
   "id": "dd2c1c65",
   "metadata": {},
   "outputs": [
    {
     "name": "stdout",
     "output_type": "stream",
     "text": [
      "(12594, 23)\n"
     ]
    }
   ],
   "source": [
    "print(df.shape)"
   ]
  },
  {
   "cell_type": "code",
   "execution_count": 404,
   "id": "52c82765",
   "metadata": {},
   "outputs": [
    {
     "data": {
      "text/html": [
       "<div>\n",
       "<style scoped>\n",
       "    .dataframe tbody tr th:only-of-type {\n",
       "        vertical-align: middle;\n",
       "    }\n",
       "\n",
       "    .dataframe tbody tr th {\n",
       "        vertical-align: top;\n",
       "    }\n",
       "\n",
       "    .dataframe thead th {\n",
       "        text-align: right;\n",
       "    }\n",
       "</style>\n",
       "<table border=\"1\" class=\"dataframe\">\n",
       "  <thead>\n",
       "    <tr style=\"text-align: right;\">\n",
       "      <th></th>\n",
       "      <th>track_id</th>\n",
       "      <th>length</th>\n",
       "      <th>artists</th>\n",
       "      <th>album</th>\n",
       "      <th>time_signature</th>\n",
       "      <th>danceability</th>\n",
       "      <th>acousticness</th>\n",
       "      <th>energy</th>\n",
       "      <th>tempo</th>\n",
       "      <th>instrumentalness</th>\n",
       "      <th>...</th>\n",
       "      <th>valence</th>\n",
       "      <th>speechiness</th>\n",
       "      <th>mode</th>\n",
       "      <th>Popularity</th>\n",
       "      <th>minutes</th>\n",
       "      <th>beat_density</th>\n",
       "      <th>Popularity_Rank</th>\n",
       "      <th>melody_complexity</th>\n",
       "      <th>instrumental_acoustic_ratio</th>\n",
       "      <th>favorite</th>\n",
       "    </tr>\n",
       "  </thead>\n",
       "  <tbody>\n",
       "    <tr>\n",
       "      <th>0</th>\n",
       "      <td>3rUGC1vUpkDG9CZFHMur1t</td>\n",
       "      <td>131872</td>\n",
       "      <td>7016</td>\n",
       "      <td>9646</td>\n",
       "      <td>1</td>\n",
       "      <td>0.750</td>\n",
       "      <td>0.2560</td>\n",
       "      <td>0.733</td>\n",
       "      <td>111.018</td>\n",
       "      <td>0.000000</td>\n",
       "      <td>...</td>\n",
       "      <td>0.844</td>\n",
       "      <td>0.0319</td>\n",
       "      <td>0</td>\n",
       "      <td>98.0</td>\n",
       "      <td>2.197867</td>\n",
       "      <td>50.511708</td>\n",
       "      <td>4.5</td>\n",
       "      <td>111.018</td>\n",
       "      <td>0.000000</td>\n",
       "      <td>0</td>\n",
       "    </tr>\n",
       "    <tr>\n",
       "      <th>1</th>\n",
       "      <td>7aqfrAY2p9BUSiupwk3svU</td>\n",
       "      <td>247444</td>\n",
       "      <td>2075</td>\n",
       "      <td>2891</td>\n",
       "      <td>4</td>\n",
       "      <td>0.470</td>\n",
       "      <td>0.0277</td>\n",
       "      <td>0.640</td>\n",
       "      <td>163.920</td>\n",
       "      <td>0.000000</td>\n",
       "      <td>...</td>\n",
       "      <td>0.248</td>\n",
       "      <td>0.3200</td>\n",
       "      <td>1</td>\n",
       "      <td>91.0</td>\n",
       "      <td>4.124067</td>\n",
       "      <td>39.747175</td>\n",
       "      <td>49.5</td>\n",
       "      <td>655.680</td>\n",
       "      <td>0.000000</td>\n",
       "      <td>0</td>\n",
       "    </tr>\n",
       "    <tr>\n",
       "      <th>2</th>\n",
       "      <td>7dJYggqjKo71KI9sLzqCs8</td>\n",
       "      <td>265360</td>\n",
       "      <td>2007</td>\n",
       "      <td>7025</td>\n",
       "      <td>4</td>\n",
       "      <td>0.750</td>\n",
       "      <td>0.2280</td>\n",
       "      <td>0.674</td>\n",
       "      <td>123.026</td>\n",
       "      <td>0.000089</td>\n",
       "      <td>...</td>\n",
       "      <td>0.392</td>\n",
       "      <td>0.0970</td>\n",
       "      <td>0</td>\n",
       "      <td>89.0</td>\n",
       "      <td>4.422667</td>\n",
       "      <td>27.817154</td>\n",
       "      <td>89.5</td>\n",
       "      <td>492.104</td>\n",
       "      <td>0.000391</td>\n",
       "      <td>0</td>\n",
       "    </tr>\n",
       "    <tr>\n",
       "      <th>3</th>\n",
       "      <td>4MjDJD8cW7iVeWInc2Bdyj</td>\n",
       "      <td>267194</td>\n",
       "      <td>742</td>\n",
       "      <td>9691</td>\n",
       "      <td>4</td>\n",
       "      <td>0.787</td>\n",
       "      <td>0.1500</td>\n",
       "      <td>0.621</td>\n",
       "      <td>139.056</td>\n",
       "      <td>0.000402</td>\n",
       "      <td>...</td>\n",
       "      <td>0.130</td>\n",
       "      <td>0.0680</td>\n",
       "      <td>0</td>\n",
       "      <td>94.0</td>\n",
       "      <td>4.453233</td>\n",
       "      <td>31.225851</td>\n",
       "      <td>21.0</td>\n",
       "      <td>556.224</td>\n",
       "      <td>0.002680</td>\n",
       "      <td>0</td>\n",
       "    </tr>\n",
       "    <tr>\n",
       "      <th>4</th>\n",
       "      <td>5aIVCx5tnk0ntmdiinnYvw</td>\n",
       "      <td>200256</td>\n",
       "      <td>7579</td>\n",
       "      <td>9135</td>\n",
       "      <td>4</td>\n",
       "      <td>0.673</td>\n",
       "      <td>0.0856</td>\n",
       "      <td>0.722</td>\n",
       "      <td>117.187</td>\n",
       "      <td>0.000000</td>\n",
       "      <td>...</td>\n",
       "      <td>0.519</td>\n",
       "      <td>0.0755</td>\n",
       "      <td>0</td>\n",
       "      <td>92.0</td>\n",
       "      <td>3.337600</td>\n",
       "      <td>35.111158</td>\n",
       "      <td>37.5</td>\n",
       "      <td>468.748</td>\n",
       "      <td>0.000000</td>\n",
       "      <td>0</td>\n",
       "    </tr>\n",
       "  </tbody>\n",
       "</table>\n",
       "<p>5 rows × 23 columns</p>\n",
       "</div>"
      ],
      "text/plain": [
       "                 track_id  length  artists  album  time_signature  \\\n",
       "0  3rUGC1vUpkDG9CZFHMur1t  131872     7016   9646               1   \n",
       "1  7aqfrAY2p9BUSiupwk3svU  247444     2075   2891               4   \n",
       "2  7dJYggqjKo71KI9sLzqCs8  265360     2007   7025               4   \n",
       "3  4MjDJD8cW7iVeWInc2Bdyj  267194      742   9691               4   \n",
       "4  5aIVCx5tnk0ntmdiinnYvw  200256     7579   9135               4   \n",
       "\n",
       "   danceability  acousticness  energy    tempo  instrumentalness  ...  \\\n",
       "0         0.750        0.2560   0.733  111.018          0.000000  ...   \n",
       "1         0.470        0.0277   0.640  163.920          0.000000  ...   \n",
       "2         0.750        0.2280   0.674  123.026          0.000089  ...   \n",
       "3         0.787        0.1500   0.621  139.056          0.000402  ...   \n",
       "4         0.673        0.0856   0.722  117.187          0.000000  ...   \n",
       "\n",
       "   valence  speechiness  mode  Popularity   minutes  beat_density  \\\n",
       "0    0.844       0.0319     0        98.0  2.197867     50.511708   \n",
       "1    0.248       0.3200     1        91.0  4.124067     39.747175   \n",
       "2    0.392       0.0970     0        89.0  4.422667     27.817154   \n",
       "3    0.130       0.0680     0        94.0  4.453233     31.225851   \n",
       "4    0.519       0.0755     0        92.0  3.337600     35.111158   \n",
       "\n",
       "   Popularity_Rank  melody_complexity  instrumental_acoustic_ratio  favorite  \n",
       "0              4.5            111.018                     0.000000         0  \n",
       "1             49.5            655.680                     0.000000         0  \n",
       "2             89.5            492.104                     0.000391         0  \n",
       "3             21.0            556.224                     0.002680         0  \n",
       "4             37.5            468.748                     0.000000         0  \n",
       "\n",
       "[5 rows x 23 columns]"
      ]
     },
     "execution_count": 404,
     "metadata": {},
     "output_type": "execute_result"
    }
   ],
   "source": [
    "df.head()"
   ]
  },
  {
   "cell_type": "code",
   "execution_count": 422,
   "id": "1ddca425",
   "metadata": {},
   "outputs": [],
   "source": [
    "# Selecting features and target\n",
    "X = df[['valence', 'key', 'time_signature','artists','tempo','beat_density','speechiness','melody_complexity']]\n",
    "#X = df[[ 'key', 'valence']]\n",
    "#X= df.drop(columns=['length','track_id','favorite'])\n",
    "\n",
    "#Target Column\n",
    "y = df['favorite']\n",
    "\n",
    "# Initialize the StandardScaler\n",
    "scaler = StandardScaler()\n",
    "\n",
    "# Fit and transform the scaler on the features\n",
    "X_scaled = scaler.fit_transform(X)\n",
    "\n",
    "# Creating a DataFrame with the scaled features\n",
    "X = pd.DataFrame(X_scaled, columns=X.columns)"
   ]
  },
  {
   "cell_type": "code",
   "execution_count": 406,
   "id": "3eededc4",
   "metadata": {},
   "outputs": [
    {
     "name": "stdout",
     "output_type": "stream",
     "text": [
      "(12594, 20)\n",
      "(12594,)\n"
     ]
    }
   ],
   "source": [
    "print(X.shape)\n",
    "print(y.shape)"
   ]
  },
  {
   "cell_type": "code",
   "execution_count": 407,
   "id": "e0e6902c",
   "metadata": {},
   "outputs": [
    {
     "name": "stdout",
     "output_type": "stream",
     "text": [
      "<class 'pandas.core.frame.DataFrame'>\n",
      "RangeIndex: 12594 entries, 0 to 12593\n",
      "Data columns (total 20 columns):\n",
      " #   Column                       Non-Null Count  Dtype  \n",
      "---  ------                       --------------  -----  \n",
      " 0   artists                      12594 non-null  float64\n",
      " 1   album                        12594 non-null  float64\n",
      " 2   time_signature               12594 non-null  float64\n",
      " 3   danceability                 12594 non-null  float64\n",
      " 4   acousticness                 12594 non-null  float64\n",
      " 5   energy                       12594 non-null  float64\n",
      " 6   tempo                        12594 non-null  float64\n",
      " 7   instrumentalness             12594 non-null  float64\n",
      " 8   loudness                     12594 non-null  float64\n",
      " 9   liveness                     12594 non-null  float64\n",
      " 10  key                          12594 non-null  float64\n",
      " 11  valence                      12594 non-null  float64\n",
      " 12  speechiness                  12594 non-null  float64\n",
      " 13  mode                         12594 non-null  float64\n",
      " 14  Popularity                   12594 non-null  float64\n",
      " 15  minutes                      12594 non-null  float64\n",
      " 16  beat_density                 12594 non-null  float64\n",
      " 17  Popularity_Rank              12594 non-null  float64\n",
      " 18  melody_complexity            12594 non-null  float64\n",
      " 19  instrumental_acoustic_ratio  12594 non-null  float64\n",
      "dtypes: float64(20)\n",
      "memory usage: 1.9 MB\n"
     ]
    }
   ],
   "source": [
    "X.info()"
   ]
  },
  {
   "cell_type": "markdown",
   "id": "0ede39d0",
   "metadata": {},
   "source": [
    "Train & Testing data set "
   ]
  },
  {
   "cell_type": "code",
   "execution_count": 408,
   "id": "44a34e08",
   "metadata": {},
   "outputs": [],
   "source": [
    "X_train, X_test, y_train, y_test = train_test_split(X, y, test_size=0.3, random_state=30, shuffle=True)"
   ]
  },
  {
   "cell_type": "code",
   "execution_count": 409,
   "id": "746768cf",
   "metadata": {},
   "outputs": [
    {
     "data": {
      "text/html": [
       "<div>\n",
       "<style scoped>\n",
       "    .dataframe tbody tr th:only-of-type {\n",
       "        vertical-align: middle;\n",
       "    }\n",
       "\n",
       "    .dataframe tbody tr th {\n",
       "        vertical-align: top;\n",
       "    }\n",
       "\n",
       "    .dataframe thead th {\n",
       "        text-align: right;\n",
       "    }\n",
       "</style>\n",
       "<table border=\"1\" class=\"dataframe\">\n",
       "  <thead>\n",
       "    <tr style=\"text-align: right;\">\n",
       "      <th></th>\n",
       "      <th>artists</th>\n",
       "      <th>album</th>\n",
       "      <th>time_signature</th>\n",
       "      <th>danceability</th>\n",
       "      <th>acousticness</th>\n",
       "      <th>energy</th>\n",
       "      <th>tempo</th>\n",
       "      <th>instrumentalness</th>\n",
       "      <th>loudness</th>\n",
       "      <th>liveness</th>\n",
       "      <th>key</th>\n",
       "      <th>valence</th>\n",
       "      <th>speechiness</th>\n",
       "      <th>mode</th>\n",
       "      <th>Popularity</th>\n",
       "      <th>minutes</th>\n",
       "      <th>beat_density</th>\n",
       "      <th>Popularity_Rank</th>\n",
       "      <th>melody_complexity</th>\n",
       "      <th>instrumental_acoustic_ratio</th>\n",
       "    </tr>\n",
       "  </thead>\n",
       "  <tbody>\n",
       "    <tr>\n",
       "      <th>3760</th>\n",
       "      <td>-1.192103</td>\n",
       "      <td>-1.601833</td>\n",
       "      <td>-0.078783</td>\n",
       "      <td>0.098709</td>\n",
       "      <td>-0.860623</td>\n",
       "      <td>0.485048</td>\n",
       "      <td>0.931995</td>\n",
       "      <td>-0.565028</td>\n",
       "      <td>0.289436</td>\n",
       "      <td>-0.533041</td>\n",
       "      <td>-0.115543</td>\n",
       "      <td>0.386150</td>\n",
       "      <td>-0.445332</td>\n",
       "      <td>0.478499</td>\n",
       "      <td>-0.567053</td>\n",
       "      <td>-0.629881</td>\n",
       "      <td>1.105298</td>\n",
       "      <td>0.877980</td>\n",
       "      <td>0.960335</td>\n",
       "      <td>-0.044912</td>\n",
       "    </tr>\n",
       "    <tr>\n",
       "      <th>386</th>\n",
       "      <td>-1.127533</td>\n",
       "      <td>-1.134011</td>\n",
       "      <td>-0.078783</td>\n",
       "      <td>1.181733</td>\n",
       "      <td>-0.367785</td>\n",
       "      <td>0.136200</td>\n",
       "      <td>-0.737980</td>\n",
       "      <td>-0.565014</td>\n",
       "      <td>0.572815</td>\n",
       "      <td>-0.432059</td>\n",
       "      <td>0.121271</td>\n",
       "      <td>-0.309222</td>\n",
       "      <td>-0.215298</td>\n",
       "      <td>-0.983112</td>\n",
       "      <td>0.838291</td>\n",
       "      <td>-0.309012</td>\n",
       "      <td>-0.331355</td>\n",
       "      <td>-0.980564</td>\n",
       "      <td>-0.614594</td>\n",
       "      <td>-0.044912</td>\n",
       "    </tr>\n",
       "    <tr>\n",
       "      <th>2893</th>\n",
       "      <td>0.768471</td>\n",
       "      <td>0.156559</td>\n",
       "      <td>-0.078783</td>\n",
       "      <td>-0.181293</td>\n",
       "      <td>-0.863222</td>\n",
       "      <td>1.320169</td>\n",
       "      <td>0.946565</td>\n",
       "      <td>-0.563961</td>\n",
       "      <td>0.573391</td>\n",
       "      <td>-0.582859</td>\n",
       "      <td>-0.431296</td>\n",
       "      <td>0.479488</td>\n",
       "      <td>-0.433559</td>\n",
       "      <td>-0.983112</td>\n",
       "      <td>0.486955</td>\n",
       "      <td>0.038877</td>\n",
       "      <td>0.079530</td>\n",
       "      <td>-0.527522</td>\n",
       "      <td>0.974076</td>\n",
       "      <td>-0.044904</td>\n",
       "    </tr>\n",
       "  </tbody>\n",
       "</table>\n",
       "</div>"
      ],
      "text/plain": [
       "       artists     album  time_signature  danceability  acousticness  \\\n",
       "3760 -1.192103 -1.601833       -0.078783      0.098709     -0.860623   \n",
       "386  -1.127533 -1.134011       -0.078783      1.181733     -0.367785   \n",
       "2893  0.768471  0.156559       -0.078783     -0.181293     -0.863222   \n",
       "\n",
       "        energy     tempo  instrumentalness  loudness  liveness       key  \\\n",
       "3760  0.485048  0.931995         -0.565028  0.289436 -0.533041 -0.115543   \n",
       "386   0.136200 -0.737980         -0.565014  0.572815 -0.432059  0.121271   \n",
       "2893  1.320169  0.946565         -0.563961  0.573391 -0.582859 -0.431296   \n",
       "\n",
       "       valence  speechiness      mode  Popularity   minutes  beat_density  \\\n",
       "3760  0.386150    -0.445332  0.478499   -0.567053 -0.629881      1.105298   \n",
       "386  -0.309222    -0.215298 -0.983112    0.838291 -0.309012     -0.331355   \n",
       "2893  0.479488    -0.433559 -0.983112    0.486955  0.038877      0.079530   \n",
       "\n",
       "      Popularity_Rank  melody_complexity  instrumental_acoustic_ratio  \n",
       "3760         0.877980           0.960335                    -0.044912  \n",
       "386         -0.980564          -0.614594                    -0.044912  \n",
       "2893        -0.527522           0.974076                    -0.044904  "
      ]
     },
     "execution_count": 409,
     "metadata": {},
     "output_type": "execute_result"
    }
   ],
   "source": [
    "X_train.head(3)"
   ]
  },
  {
   "cell_type": "markdown",
   "id": "26348b4a",
   "metadata": {},
   "source": [
    "##### fix the imbalanced data set "
   ]
  },
  {
   "cell_type": "code",
   "execution_count": 410,
   "id": "2f691940",
   "metadata": {},
   "outputs": [],
   "source": [
    "from imblearn.over_sampling import SMOTE\n",
    "# Train / Split Data\n",
    "oversample = SMOTE()\n",
    "X_train, y_train = oversample.fit_resample(X, y) "
   ]
  },
  {
   "cell_type": "code",
   "execution_count": 411,
   "id": "bea3f74f",
   "metadata": {},
   "outputs": [
    {
     "data": {
      "text/plain": [
       "favorite\n",
       "0    12476\n",
       "1    12476\n",
       "Name: count, dtype: int64"
      ]
     },
     "execution_count": 411,
     "metadata": {},
     "output_type": "execute_result"
    }
   ],
   "source": [
    "y_train.value_counts()"
   ]
  },
  {
   "cell_type": "code",
   "execution_count": 412,
   "id": "6aa8bd68",
   "metadata": {},
   "outputs": [
    {
     "data": {
      "text/plain": [
       "artists                        24952\n",
       "album                          24952\n",
       "time_signature                 24952\n",
       "danceability                   24952\n",
       "acousticness                   24952\n",
       "energy                         24952\n",
       "tempo                          24952\n",
       "instrumentalness               24952\n",
       "loudness                       24952\n",
       "liveness                       24952\n",
       "key                            24952\n",
       "valence                        24952\n",
       "speechiness                    24952\n",
       "mode                           24952\n",
       "Popularity                     24952\n",
       "minutes                        24952\n",
       "beat_density                   24952\n",
       "Popularity_Rank                24952\n",
       "melody_complexity              24952\n",
       "instrumental_acoustic_ratio    24952\n",
       "dtype: int64"
      ]
     },
     "execution_count": 412,
     "metadata": {},
     "output_type": "execute_result"
    }
   ],
   "source": [
    "X_train.count()"
   ]
  },
  {
   "cell_type": "code",
   "execution_count": 413,
   "id": "2cac296b",
   "metadata": {},
   "outputs": [
    {
     "data": {
      "text/plain": [
       "favorite\n",
       "0    3743\n",
       "1      36\n",
       "Name: count, dtype: int64"
      ]
     },
     "execution_count": 413,
     "metadata": {},
     "output_type": "execute_result"
    }
   ],
   "source": [
    "y_test.value_counts()"
   ]
  },
  {
   "cell_type": "code",
   "execution_count": 414,
   "id": "8af34f66",
   "metadata": {},
   "outputs": [
    {
     "name": "stdout",
     "output_type": "stream",
     "text": [
      "(24952, 20)\n",
      "(24952,)\n",
      "(3779, 20)\n",
      "(3779,)\n"
     ]
    }
   ],
   "source": [
    "print(X_train.shape)\n",
    "print(y_train.shape)\n",
    "print(X_test.shape)\n",
    "print(y_test.shape)\n"
   ]
  },
  {
   "cell_type": "code",
   "execution_count": 415,
   "id": "cb4bcf3d",
   "metadata": {},
   "outputs": [
    {
     "name": "stdout",
     "output_type": "stream",
     "text": [
      "(12594, 20)\n",
      "(12594,)\n"
     ]
    }
   ],
   "source": [
    "print(X.shape)\n",
    "print(y.shape)"
   ]
  },
  {
   "cell_type": "code",
   "execution_count": 416,
   "id": "d9718e21",
   "metadata": {},
   "outputs": [
    {
     "name": "stdout",
     "output_type": "stream",
     "text": [
      "Cross-validation scores: [1. 1. 1. 1. 1.]\n",
      "Mean accuracy: 1.0\n"
     ]
    }
   ],
   "source": [
    "from sklearn.model_selection import cross_val_score, KFold\n",
    "\n",
    "from sklearn.neighbors import KNeighborsClassifier  # Import KNN classifier\n",
    "\n",
    "# Define your KNN model\n",
    "knn_model = KNeighborsClassifier(n_neighbors=5)\n",
    "\n",
    "\n",
    "# Choose the number of folds for cross-validation (e.g., 5 or 10)\n",
    "num_folds = 5\n",
    "\n",
    "# Create a KFold object\n",
    "kfold = KFold(n_splits=num_folds, shuffle=True, random_state=42)\n",
    "\n",
    "# Perform cross-validation\n",
    "cv_scores = cross_val_score(knn_model, X, y, cv=kfold, scoring='accuracy')\n",
    "print(\"Cross-validation scores:\", cv_scores)\n",
    "print(f\"Mean accuracy: {cv_scores.mean()}\")"
   ]
  },
  {
   "cell_type": "code",
   "execution_count": 417,
   "metadata": {},
   "outputs": [
    {
     "name": "stdout",
     "output_type": "stream",
     "text": [
      "CV Error on Test Set: [1. 1. 1. 1. 1. 1. 1. 1. 1. 1.]\n"
     ]
    }
   ],
   "source": [
    "print(\"CV Error on Test Set: {}\".format(cross_val_score(est_model_lr, X_train, y_train, cv=10)))"
   ]
  },
  {
   "cell_type": "code",
   "execution_count": null,
   "id": "d375f2aa",
   "metadata": {},
   "outputs": [],
   "source": []
  },
  {
   "cell_type": "markdown",
   "id": "a1caa78e",
   "metadata": {},
   "source": [
    "## ML Algo"
   ]
  },
  {
   "cell_type": "code",
   "execution_count": 418,
   "id": "e4242edf",
   "metadata": {},
   "outputs": [],
   "source": [
    "from sklearn.model_selection import train_test_split\n",
    "from sklearn.model_selection import cross_val_score\n",
    "from sklearn.tree import DecisionTreeClassifier\n",
    "from sklearn.ensemble import RandomForestClassifier\n",
    "from sklearn.ensemble import AdaBoostClassifier\n",
    "from sklearn.linear_model import LogisticRegressionCV"
   ]
  },
  {
   "cell_type": "markdown",
   "id": "6355afec",
   "metadata": {},
   "source": [
    "## KNN's  "
   ]
  },
  {
   "cell_type": "code",
   "execution_count": 419,
   "id": "a1ae0aa8",
   "metadata": {},
   "outputs": [
    {
     "data": {
      "text/html": [
       "<style>#sk-container-id-8 {color: black;}#sk-container-id-8 pre{padding: 0;}#sk-container-id-8 div.sk-toggleable {background-color: white;}#sk-container-id-8 label.sk-toggleable__label {cursor: pointer;display: block;width: 100%;margin-bottom: 0;padding: 0.3em;box-sizing: border-box;text-align: center;}#sk-container-id-8 label.sk-toggleable__label-arrow:before {content: \"▸\";float: left;margin-right: 0.25em;color: #696969;}#sk-container-id-8 label.sk-toggleable__label-arrow:hover:before {color: black;}#sk-container-id-8 div.sk-estimator:hover label.sk-toggleable__label-arrow:before {color: black;}#sk-container-id-8 div.sk-toggleable__content {max-height: 0;max-width: 0;overflow: hidden;text-align: left;background-color: #f0f8ff;}#sk-container-id-8 div.sk-toggleable__content pre {margin: 0.2em;color: black;border-radius: 0.25em;background-color: #f0f8ff;}#sk-container-id-8 input.sk-toggleable__control:checked~div.sk-toggleable__content {max-height: 200px;max-width: 100%;overflow: auto;}#sk-container-id-8 input.sk-toggleable__control:checked~label.sk-toggleable__label-arrow:before {content: \"▾\";}#sk-container-id-8 div.sk-estimator input.sk-toggleable__control:checked~label.sk-toggleable__label {background-color: #d4ebff;}#sk-container-id-8 div.sk-label input.sk-toggleable__control:checked~label.sk-toggleable__label {background-color: #d4ebff;}#sk-container-id-8 input.sk-hidden--visually {border: 0;clip: rect(1px 1px 1px 1px);clip: rect(1px, 1px, 1px, 1px);height: 1px;margin: -1px;overflow: hidden;padding: 0;position: absolute;width: 1px;}#sk-container-id-8 div.sk-estimator {font-family: monospace;background-color: #f0f8ff;border: 1px dotted black;border-radius: 0.25em;box-sizing: border-box;margin-bottom: 0.5em;}#sk-container-id-8 div.sk-estimator:hover {background-color: #d4ebff;}#sk-container-id-8 div.sk-parallel-item::after {content: \"\";width: 100%;border-bottom: 1px solid gray;flex-grow: 1;}#sk-container-id-8 div.sk-label:hover label.sk-toggleable__label {background-color: #d4ebff;}#sk-container-id-8 div.sk-serial::before {content: \"\";position: absolute;border-left: 1px solid gray;box-sizing: border-box;top: 0;bottom: 0;left: 50%;z-index: 0;}#sk-container-id-8 div.sk-serial {display: flex;flex-direction: column;align-items: center;background-color: white;padding-right: 0.2em;padding-left: 0.2em;position: relative;}#sk-container-id-8 div.sk-item {position: relative;z-index: 1;}#sk-container-id-8 div.sk-parallel {display: flex;align-items: stretch;justify-content: center;background-color: white;position: relative;}#sk-container-id-8 div.sk-item::before, #sk-container-id-8 div.sk-parallel-item::before {content: \"\";position: absolute;border-left: 1px solid gray;box-sizing: border-box;top: 0;bottom: 0;left: 50%;z-index: -1;}#sk-container-id-8 div.sk-parallel-item {display: flex;flex-direction: column;z-index: 1;position: relative;background-color: white;}#sk-container-id-8 div.sk-parallel-item:first-child::after {align-self: flex-end;width: 50%;}#sk-container-id-8 div.sk-parallel-item:last-child::after {align-self: flex-start;width: 50%;}#sk-container-id-8 div.sk-parallel-item:only-child::after {width: 0;}#sk-container-id-8 div.sk-dashed-wrapped {border: 1px dashed gray;margin: 0 0.4em 0.5em 0.4em;box-sizing: border-box;padding-bottom: 0.4em;background-color: white;}#sk-container-id-8 div.sk-label label {font-family: monospace;font-weight: bold;display: inline-block;line-height: 1.2em;}#sk-container-id-8 div.sk-label-container {text-align: center;}#sk-container-id-8 div.sk-container {/* jupyter's `normalize.less` sets `[hidden] { display: none; }` but bootstrap.min.css set `[hidden] { display: none !important; }` so we also need the `!important` here to be able to override the default hidden behavior on the sphinx rendered scikit-learn.org. See: https://github.com/scikit-learn/scikit-learn/issues/21755 */display: inline-block !important;position: relative;}#sk-container-id-8 div.sk-text-repr-fallback {display: none;}</style><div id=\"sk-container-id-8\" class=\"sk-top-container\"><div class=\"sk-text-repr-fallback\"><pre>KNeighborsClassifier(metric=&#x27;euclidean&#x27;, n_neighbors=7)</pre><b>In a Jupyter environment, please rerun this cell to show the HTML representation or trust the notebook. <br />On GitHub, the HTML representation is unable to render, please try loading this page with nbviewer.org.</b></div><div class=\"sk-container\" hidden><div class=\"sk-item\"><div class=\"sk-estimator sk-toggleable\"><input class=\"sk-toggleable__control sk-hidden--visually\" id=\"sk-estimator-id-8\" type=\"checkbox\" checked><label for=\"sk-estimator-id-8\" class=\"sk-toggleable__label sk-toggleable__label-arrow\">KNeighborsClassifier</label><div class=\"sk-toggleable__content\"><pre>KNeighborsClassifier(metric=&#x27;euclidean&#x27;, n_neighbors=7)</pre></div></div></div></div></div>"
      ],
      "text/plain": [
       "KNeighborsClassifier(metric='euclidean', n_neighbors=7)"
      ]
     },
     "execution_count": 419,
     "metadata": {},
     "output_type": "execute_result"
    }
   ],
   "source": [
    "from sklearn.neighbors import KNeighborsClassifier\n",
    "\n",
    "knn = KNeighborsClassifier(n_neighbors=7,p=2,metric='euclidean')\n",
    "knn.fit(X_train, y_train)"
   ]
  },
  {
   "cell_type": "code",
   "execution_count": 420,
   "id": "05c0baf0",
   "metadata": {},
   "outputs": [
    {
     "name": "stdout",
     "output_type": "stream",
     "text": [
      "              precision    recall  f1-score   support\n",
      "\n",
      "           0       1.00      1.00      1.00      3743\n",
      "           1       1.00      1.00      1.00        36\n",
      "\n",
      "    accuracy                           1.00      3779\n",
      "   macro avg       1.00      1.00      1.00      3779\n",
      "weighted avg       1.00      1.00      1.00      3779\n",
      "\n"
     ]
    }
   ],
   "source": [
    "prediction = knn.predict(X_test)\n",
    "prediction\n",
    "from sklearn.metrics import classification_report\n",
    "print(classification_report(y_test, prediction))"
   ]
  },
  {
   "cell_type": "code",
   "execution_count": 424,
   "metadata": {},
   "outputs": [
    {
     "name": "stdout",
     "output_type": "stream",
     "text": [
      "Cross-Validation Scores: [1. 1. 1. 1. 1.]\n",
      "Mean Accuracy: 1.0\n"
     ]
    }
   ],
   "source": [
    "from sklearn.model_selection import cross_val_score, KFold\n",
    "\n",
    "# Assuming X and y are your features and target variable\n",
    "\n",
    "# Initialize the KNN model\n",
    "knn = KNeighborsClassifier(n_neighbors=5)  # You can adjust the number of neighbors\n",
    "\n",
    "# Define the number of folds for cross-validation\n",
    "num_folds = 5\n",
    "\n",
    "# Initialize KFold\n",
    "kf = KFold(n_splits=num_folds, shuffle=True, random_state=42)\n",
    "\n",
    "# Perform cross-validation\n",
    "cv_scores = cross_val_score(knn, X, y, cv=kf)\n",
    "\n",
    "# Output the cross-validation scores\n",
    "print(\"Cross-Validation Scores:\", cv_scores)\n",
    "print(\"Mean Accuracy:\", cv_scores.mean())"
   ]
  },
  {
   "cell_type": "code",
   "execution_count": 425,
   "id": "6476bb8b",
   "metadata": {},
   "outputs": [
    {
     "ename": "NameError",
     "evalue": "name 'y_pred' is not defined",
     "output_type": "error",
     "traceback": [
      "\u001b[1;31m---------------------------------------------------------------------------\u001b[0m",
      "\u001b[1;31mNameError\u001b[0m                                 Traceback (most recent call last)",
      "\u001b[1;32mc:\\Users\\ethan\\Documents\\Spotify_recommendations\\Github_pull\\github\\Spotify_Reccommendation_Algorithm\\ms_test.ipynb Cell 33\u001b[0m line \u001b[0;36m3\n\u001b[0;32m      <a href='vscode-notebook-cell:/c%3A/Users/ethan/Documents/Spotify_recommendations/Github_pull/github/Spotify_Reccommendation_Algorithm/ms_test.ipynb#Y143sZmlsZQ%3D%3D?line=0'>1</a>\u001b[0m \u001b[39mfrom\u001b[39;00m \u001b[39msklearn\u001b[39;00m\u001b[39m.\u001b[39;00m\u001b[39mmetrics\u001b[39;00m \u001b[39mimport\u001b[39;00m confusion_matrix\n\u001b[0;32m      <a href='vscode-notebook-cell:/c%3A/Users/ethan/Documents/Spotify_recommendations/Github_pull/github/Spotify_Reccommendation_Algorithm/ms_test.ipynb#Y143sZmlsZQ%3D%3D?line=1'>2</a>\u001b[0m \u001b[39m# Generate the confusion matrix\u001b[39;00m\n\u001b[1;32m----> <a href='vscode-notebook-cell:/c%3A/Users/ethan/Documents/Spotify_recommendations/Github_pull/github/Spotify_Reccommendation_Algorithm/ms_test.ipynb#Y143sZmlsZQ%3D%3D?line=2'>3</a>\u001b[0m conf_matrix \u001b[39m=\u001b[39m confusion_matrix(y_test, y_pred)\n\u001b[0;32m      <a href='vscode-notebook-cell:/c%3A/Users/ethan/Documents/Spotify_recommendations/Github_pull/github/Spotify_Reccommendation_Algorithm/ms_test.ipynb#Y143sZmlsZQ%3D%3D?line=4'>5</a>\u001b[0m \u001b[39m# Display the confusion matrix\u001b[39;00m\n\u001b[0;32m      <a href='vscode-notebook-cell:/c%3A/Users/ethan/Documents/Spotify_recommendations/Github_pull/github/Spotify_Reccommendation_Algorithm/ms_test.ipynb#Y143sZmlsZQ%3D%3D?line=5'>6</a>\u001b[0m \u001b[39mprint\u001b[39m(\u001b[39m\"\u001b[39m\u001b[39mConfusion Matrix:\u001b[39m\u001b[39m\"\u001b[39m)\n",
      "\u001b[1;31mNameError\u001b[0m: name 'y_pred' is not defined"
     ]
    }
   ],
   "source": [
    "from sklearn.metrics import confusion_matrix\n",
    "# Generate the confusion matrix\n",
    "conf_matrix = confusion_matrix(y_test, y_pred)\n",
    "\n",
    "# Display the confusion matrix\n",
    "print(\"Confusion Matrix:\")\n",
    "print(conf_matrix)"
   ]
  },
  {
   "cell_type": "code",
   "execution_count": 347,
   "id": "91fd8015",
   "metadata": {},
   "outputs": [],
   "source": [
    "from sklearn.model_selection import train_test_split\n",
    "from sklearn.preprocessing import StandardScaler\n",
    "from sklearn.neighbors import KNeighborsClassifier\n",
    "from sklearn.metrics import accuracy_score\n",
    "\n",
    "\n",
    "# Data Scaling\n",
    "scaler = StandardScaler()\n",
    "X_train_scaled = scaler.fit_transform(X_train)\n",
    "X_test_scaled = scaler.transform(X_test)\n",
    "\n",
    "# Reshaping the y variable\n",
    "y_train = y_train.values.ravel()  # Reshape y_train to a 1D array\n",
    "y_test = y_test.values.ravel()    # Reshape y_test to a 1D array\n",
    "# Instantiate and Train the k-NN Model\n"
   ]
  },
  {
   "cell_type": "code",
   "execution_count": 348,
   "id": "409ab6ea",
   "metadata": {},
   "outputs": [
    {
     "data": {
      "text/plain": [
       "array([0, 0, 0, ..., 1, 1, 1], dtype=int64)"
      ]
     },
     "execution_count": 348,
     "metadata": {},
     "output_type": "execute_result"
    }
   ],
   "source": [
    "y_train"
   ]
  },
  {
   "cell_type": "code",
   "execution_count": 349,
   "id": "c650d884",
   "metadata": {},
   "outputs": [
    {
     "name": "stdout",
     "output_type": "stream",
     "text": [
      "Accuracy of the k-NN model: 1.0\n"
     ]
    }
   ],
   "source": [
    "k = 5  # Define the value of k\n",
    "knn = KNeighborsClassifier(n_neighbors=k)\n",
    "knn.fit(X_train_scaled, y_train)\n",
    "\n",
    "# Evaluate the Model\n",
    "predictions = knn.predict(X_test_scaled)\n",
    "accuracy = accuracy_score(y_test, predictions)\n",
    "print(f\"Accuracy of the k-NN model: {accuracy}\")\n"
   ]
  },
  {
   "cell_type": "code",
   "execution_count": 350,
   "id": "1ed497c2",
   "metadata": {},
   "outputs": [
    {
     "data": {
      "text/plain": [
       "array([0, 0, 0, ..., 0, 0, 0], dtype=int64)"
      ]
     },
     "execution_count": 350,
     "metadata": {},
     "output_type": "execute_result"
    }
   ],
   "source": [
    "predictions"
   ]
  },
  {
   "cell_type": "code",
   "execution_count": null,
   "id": "e608f8f8",
   "metadata": {},
   "outputs": [],
   "source": []
  },
  {
   "cell_type": "code",
   "execution_count": 278,
   "id": "6b0d3fff",
   "metadata": {},
   "outputs": [
    {
     "ename": "NameError",
     "evalue": "name 'KNeighborsRegressor' is not defined",
     "output_type": "error",
     "traceback": [
      "\u001b[1;31m---------------------------------------------------------------------------\u001b[0m",
      "\u001b[1;31mNameError\u001b[0m                                 Traceback (most recent call last)",
      "\u001b[1;32mc:\\Users\\ethan\\Documents\\Spotify_recommendations\\Github_pull\\github\\Spotify_Reccommendation_Algorithm\\ms_test.ipynb Cell 47\u001b[0m line \u001b[0;36m1\n\u001b[1;32m----> <a href='vscode-notebook-cell:/c%3A/Users/ethan/Documents/Spotify_recommendations/Github_pull/github/Spotify_Reccommendation_Algorithm/ms_test.ipynb#Y105sZmlsZQ%3D%3D?line=0'>1</a>\u001b[0m reg2 \u001b[39m=\u001b[39m KNeighborsRegressor(n_neighbors\u001b[39m=\u001b[39m\u001b[39m5\u001b[39m)\n\u001b[0;32m      <a href='vscode-notebook-cell:/c%3A/Users/ethan/Documents/Spotify_recommendations/Github_pull/github/Spotify_Reccommendation_Algorithm/ms_test.ipynb#Y105sZmlsZQ%3D%3D?line=1'>2</a>\u001b[0m reg2\u001b[39m.\u001b[39mfit(x_train,y_train)\n\u001b[0;32m      <a href='vscode-notebook-cell:/c%3A/Users/ethan/Documents/Spotify_recommendations/Github_pull/github/Spotify_Reccommendation_Algorithm/ms_test.ipynb#Y105sZmlsZQ%3D%3D?line=2'>3</a>\u001b[0m y_pred2 \u001b[39m=\u001b[39m reg2\u001b[39m.\u001b[39mpredict(x_test)\n",
      "\u001b[1;31mNameError\u001b[0m: name 'KNeighborsRegressor' is not defined"
     ]
    }
   ],
   "source": [
    "reg2 = KNeighborsRegressor(n_neighbors=5)\n",
    "reg2.fit(x_train,y_train)\n",
    "y_pred2 = reg2.predict(x_test)\n",
    "mse2 = mean_squared_error(y_test,y_pred2)\n",
    "print(\"MSE KNN = 5:\", mse2)"
   ]
  },
  {
   "cell_type": "markdown",
   "id": "c0331e44",
   "metadata": {},
   "source": [
    "# Log Regression"
   ]
  },
  {
   "cell_type": "code",
   "execution_count": 279,
   "id": "f9325a1f",
   "metadata": {},
   "outputs": [
    {
     "name": "stdout",
     "output_type": "stream",
     "text": [
      "1.0\n"
     ]
    }
   ],
   "source": [
    "from sklearn.linear_model import LogisticRegression\n",
    "# Logistic Regression\n",
    "lr = LogisticRegression(solver='lbfgs', max_iter=400).fit(X_train, y_train)\n",
    "lr_scores = cross_val_score(lr, X_train, y_train, cv=10, scoring=\"f1\")\n",
    "print(np.mean(lr_scores))"
   ]
  },
  {
   "cell_type": "code",
   "execution_count": null,
   "id": "fbbe0199",
   "metadata": {},
   "outputs": [],
   "source": []
  },
  {
   "cell_type": "code",
   "execution_count": 282,
   "id": "1647bc00",
   "metadata": {},
   "outputs": [
    {
     "name": "stdout",
     "output_type": "stream",
     "text": [
      "Logisic Regression R^2 Error on Train Set: 1.0\n",
      "CV Error on Train Set: [1. 1. 1. 1. 1. 1. 1. 1. 1. 1.]\n",
      "CV Error on Test Set: [1. 1. 1. 1. 1. 1. 1. 1. 1. 1.]\n"
     ]
    }
   ],
   "source": [
    "# starting out with simple logistic regression\n",
    "from sklearn.linear_model import LogisticRegressionCV\n",
    "\n",
    "est_model_lr = LogisticRegressionCV().fit(X_train, y_train)\n",
    "\n",
    "print(\"Logisic Regression R^2 Error on Train Set: {}\".format(est_model_lr.score(X_train,y_train)))\n",
    "print(\"CV Error on Train Set: {}\".format(cross_val_score(est_model_lr, X_train, y_train, cv=10)))\n",
    "print(\"CV Error on Test Set: {}\".format(cross_val_score(est_model_lr, X_train, y_train, cv=10)))\n"
   ]
  },
  {
   "cell_type": "code",
   "execution_count": null,
   "id": "32e9b8b7",
   "metadata": {},
   "outputs": [],
   "source": []
  },
  {
   "cell_type": "code",
   "execution_count": null,
   "id": "f73f66f4",
   "metadata": {},
   "outputs": [],
   "source": []
  },
  {
   "cell_type": "code",
   "execution_count": null,
   "id": "eafcdea1",
   "metadata": {},
   "outputs": [],
   "source": []
  },
  {
   "cell_type": "code",
   "execution_count": 179,
   "id": "4ab45d4b",
   "metadata": {},
   "outputs": [
    {
     "name": "stdout",
     "output_type": "stream",
     "text": [
      "1.0\n",
      "CPU times: total: 750 ms\n",
      "Wall time: 499 ms\n"
     ]
    }
   ],
   "source": [
    "%%time\n",
    "# Logistic Regression\n",
    "lr = LogisticRegression(solver='lbfgs', max_iter=400).fit(X_train, y_train)\n",
    "lr_scores = cross_val_score(lr, X_train, y_train, cv=10, scoring=\"f1\")\n",
    "print(np.mean(lr_scores))"
   ]
  },
  {
   "cell_type": "code",
   "execution_count": 127,
   "id": "5c55b692",
   "metadata": {},
   "outputs": [
    {
     "data": {
      "text/html": [
       "<div>\n",
       "<style scoped>\n",
       "    .dataframe tbody tr th:only-of-type {\n",
       "        vertical-align: middle;\n",
       "    }\n",
       "\n",
       "    .dataframe tbody tr th {\n",
       "        vertical-align: top;\n",
       "    }\n",
       "\n",
       "    .dataframe thead th {\n",
       "        text-align: right;\n",
       "    }\n",
       "</style>\n",
       "<table border=\"1\" class=\"dataframe\">\n",
       "  <thead>\n",
       "    <tr style=\"text-align: right;\">\n",
       "      <th></th>\n",
       "      <th>artists</th>\n",
       "      <th>key</th>\n",
       "      <th>valence</th>\n",
       "      <th>time_signature</th>\n",
       "    </tr>\n",
       "  </thead>\n",
       "  <tbody>\n",
       "    <tr>\n",
       "      <th>8821</th>\n",
       "      <td>3793</td>\n",
       "      <td>1.0</td>\n",
       "      <td>0.0862</td>\n",
       "      <td>4</td>\n",
       "    </tr>\n",
       "    <tr>\n",
       "      <th>7819</th>\n",
       "      <td>208</td>\n",
       "      <td>1.0</td>\n",
       "      <td>0.4740</td>\n",
       "      <td>4</td>\n",
       "    </tr>\n",
       "    <tr>\n",
       "      <th>3068</th>\n",
       "      <td>4064</td>\n",
       "      <td>4.0</td>\n",
       "      <td>0.8670</td>\n",
       "      <td>4</td>\n",
       "    </tr>\n",
       "    <tr>\n",
       "      <th>9125</th>\n",
       "      <td>514</td>\n",
       "      <td>7.0</td>\n",
       "      <td>0.7620</td>\n",
       "      <td>3</td>\n",
       "    </tr>\n",
       "    <tr>\n",
       "      <th>12051</th>\n",
       "      <td>2069</td>\n",
       "      <td>6.0</td>\n",
       "      <td>0.1110</td>\n",
       "      <td>4</td>\n",
       "    </tr>\n",
       "    <tr>\n",
       "      <th>...</th>\n",
       "      <td>...</td>\n",
       "      <td>...</td>\n",
       "      <td>...</td>\n",
       "      <td>...</td>\n",
       "    </tr>\n",
       "    <tr>\n",
       "      <th>4064</th>\n",
       "      <td>7260</td>\n",
       "      <td>5.0</td>\n",
       "      <td>0.1750</td>\n",
       "      <td>4</td>\n",
       "    </tr>\n",
       "    <tr>\n",
       "      <th>12005</th>\n",
       "      <td>1100</td>\n",
       "      <td>7.0</td>\n",
       "      <td>0.8220</td>\n",
       "      <td>4</td>\n",
       "    </tr>\n",
       "    <tr>\n",
       "      <th>9240</th>\n",
       "      <td>1468</td>\n",
       "      <td>5.0</td>\n",
       "      <td>0.1610</td>\n",
       "      <td>4</td>\n",
       "    </tr>\n",
       "    <tr>\n",
       "      <th>4313</th>\n",
       "      <td>647</td>\n",
       "      <td>1.0</td>\n",
       "      <td>0.6180</td>\n",
       "      <td>4</td>\n",
       "    </tr>\n",
       "    <tr>\n",
       "      <th>3519</th>\n",
       "      <td>5141</td>\n",
       "      <td>0.0</td>\n",
       "      <td>0.4780</td>\n",
       "      <td>4</td>\n",
       "    </tr>\n",
       "  </tbody>\n",
       "</table>\n",
       "<p>2519 rows × 4 columns</p>\n",
       "</div>"
      ],
      "text/plain": [
       "       artists  key  valence  time_signature\n",
       "8821      3793  1.0   0.0862               4\n",
       "7819       208  1.0   0.4740               4\n",
       "3068      4064  4.0   0.8670               4\n",
       "9125       514  7.0   0.7620               3\n",
       "12051     2069  6.0   0.1110               4\n",
       "...        ...  ...      ...             ...\n",
       "4064      7260  5.0   0.1750               4\n",
       "12005     1100  7.0   0.8220               4\n",
       "9240      1468  5.0   0.1610               4\n",
       "4313       647  1.0   0.6180               4\n",
       "3519      5141  0.0   0.4780               4\n",
       "\n",
       "[2519 rows x 4 columns]"
      ]
     },
     "execution_count": 127,
     "metadata": {},
     "output_type": "execute_result"
    }
   ],
   "source": [
    "X_test\n"
   ]
  },
  {
   "cell_type": "markdown",
   "id": "0529103b",
   "metadata": {},
   "source": [
    "### Decision Tree"
   ]
  },
  {
   "cell_type": "code",
   "execution_count": 180,
   "id": "71839afe",
   "metadata": {},
   "outputs": [
    {
     "data": {
      "text/plain": [
       "{'max_depth': 3}"
      ]
     },
     "execution_count": 180,
     "metadata": {},
     "output_type": "execute_result"
    }
   ],
   "source": [
    "# Hyperparameter optimization for Decision Tree Classifier\n",
    "parameters = {\n",
    "    'max_depth':[3, 4, 5, 6, 10, 15,20,30],\n",
    "}\n",
    "dtc = Pipeline([('CV',GridSearchCV(DecisionTreeClassifier(), parameters, cv = 5))])\n",
    "dtc.fit(X_train, y_train)\n",
    "dtc.named_steps['CV'].best_params_"
   ]
  },
  {
   "cell_type": "code",
   "execution_count": 123,
   "id": "54746e7f",
   "metadata": {},
   "outputs": [
    {
     "name": "stdout",
     "output_type": "stream",
     "text": [
      "CPU times: total: 672 ms\n",
      "Wall time: 680 ms\n"
     ]
    },
    {
     "data": {
      "text/plain": [
       "1.0"
      ]
     },
     "execution_count": 123,
     "metadata": {},
     "output_type": "execute_result"
    }
   ],
   "source": [
    "%%time\n",
    "# Decision Tree Classifier\n",
    "dt = DecisionTreeClassifier(max_depth=30).fit(X_train, y_train)\n",
    "dt_scores = cross_val_score(dt, X_train, y_train, cv=10, scoring=\"f1\")\n",
    "np.mean(dt_scores)"
   ]
  },
  {
   "cell_type": "code",
   "execution_count": null,
   "id": "a2bee73f",
   "metadata": {},
   "outputs": [],
   "source": []
  },
  {
   "cell_type": "code",
   "execution_count": null,
   "id": "e1a8c6cb",
   "metadata": {},
   "outputs": [],
   "source": []
  },
  {
   "cell_type": "code",
   "execution_count": null,
   "id": "c3633bcb",
   "metadata": {},
   "outputs": [],
   "source": []
  },
  {
   "cell_type": "code",
   "execution_count": 27,
   "id": "1325df4c",
   "metadata": {},
   "outputs": [
    {
     "ename": "AttributeError",
     "evalue": "'numpy.ndarray' object has no attribute 'values'",
     "output_type": "error",
     "traceback": [
      "\u001b[1;31m---------------------------------------------------------------------------\u001b[0m",
      "\u001b[1;31mAttributeError\u001b[0m                            Traceback (most recent call last)",
      "\u001b[1;32mc:\\Users\\ethan\\Documents\\Spotify_recommendations\\Github_pull\\github\\Spotify_Reccommendation_Algorithm\\model_selection.ipynb Cell 25\u001b[0m line \u001b[0;36m1\n\u001b[0;32m      <a href='vscode-notebook-cell:/c%3A/Users/ethan/Documents/Spotify_recommendations/Github_pull/github/Spotify_Reccommendation_Algorithm/model_selection.ipynb#X46sZmlsZQ%3D%3D?line=6'>7</a>\u001b[0m X_test_scaled \u001b[39m=\u001b[39m scaler\u001b[39m.\u001b[39mtransform(X_test)\n\u001b[0;32m      <a href='vscode-notebook-cell:/c%3A/Users/ethan/Documents/Spotify_recommendations/Github_pull/github/Spotify_Reccommendation_Algorithm/model_selection.ipynb#X46sZmlsZQ%3D%3D?line=8'>9</a>\u001b[0m \u001b[39m# Reshaping the y variable\u001b[39;00m\n\u001b[1;32m---> <a href='vscode-notebook-cell:/c%3A/Users/ethan/Documents/Spotify_recommendations/Github_pull/github/Spotify_Reccommendation_Algorithm/model_selection.ipynb#X46sZmlsZQ%3D%3D?line=9'>10</a>\u001b[0m y_train \u001b[39m=\u001b[39m y_train\u001b[39m.\u001b[39;49mvalues\u001b[39m.\u001b[39mravel()  \u001b[39m# Reshape y_train to a 1D array\u001b[39;00m\n\u001b[0;32m     <a href='vscode-notebook-cell:/c%3A/Users/ethan/Documents/Spotify_recommendations/Github_pull/github/Spotify_Reccommendation_Algorithm/model_selection.ipynb#X46sZmlsZQ%3D%3D?line=10'>11</a>\u001b[0m y_test \u001b[39m=\u001b[39m y_test\u001b[39m.\u001b[39mvalues\u001b[39m.\u001b[39mravel()  \u001b[39m# Reshape y_test to a 1D array\u001b[39;00m\n\u001b[0;32m     <a href='vscode-notebook-cell:/c%3A/Users/ethan/Documents/Spotify_recommendations/Github_pull/github/Spotify_Reccommendation_Algorithm/model_selection.ipynb#X46sZmlsZQ%3D%3D?line=12'>13</a>\u001b[0m \u001b[39m# Instantiate and Train the k-NN Model\u001b[39;00m\n",
      "\u001b[1;31mAttributeError\u001b[0m: 'numpy.ndarray' object has no attribute 'values'"
     ]
    }
   ],
   "source": [
    "from sklearn.model_selection import train_test_split\n",
    "from sklearn.preprocessing import StandardScaler\n",
    "from sklearn.neighbors import KNeighborsClassifier\n",
    "from sklearn.metrics import accuracy_score\n",
    "\n",
    "\n",
    "# Train-Test Split\n",
    "X = df[:, :-1]  # Features\n",
    "y = df[:, -1]    # Labels\n",
    "\n",
    "X_train, X_test, y_train, y_test = train_test_split(X, y, test_size=0.2, random_state=42)  # 80-20 split\n",
    "\n",
    "# Data Scaling\n",
    "scaler = StandardScaler()\n",
    "X_train_scaled = scaler.fit_transform(X_train)\n",
    "X_test_scaled = scaler.transform(X_test)\n",
    "\n",
    "# Reshaping the y variable\n",
    "y_train = y_train.ravel()  # Reshape y_train to a 1D array\n",
    "y_test = y_test.ravel()    # Reshape y_test to a 1D array\n",
    "\n",
    "# Instantiate and Train the k-NN Model\n",
    "k = 5  # Define the value of k\n",
    "knn = KNeighborsClassifier(n_neighbors=k)\n",
    "knn.fit(X_train_scaled, y_train)\n",
    "\n",
    "# Evaluate the Model\n",
    "predictions = knn.predict(X_test_scaled)\n",
    "accuracy = accuracy_score(y_test, predictions)\n",
    "print(f\"Accuracy of the k-NN model: {accuracy}\")"
   ]
  },
  {
   "cell_type": "code",
   "execution_count": null,
   "id": "2f5c14db",
   "metadata": {},
   "outputs": [],
   "source": []
  },
  {
   "cell_type": "code",
   "execution_count": null,
   "id": "06e3eeb2",
   "metadata": {},
   "outputs": [],
   "source": []
  },
  {
   "cell_type": "code",
   "execution_count": null,
   "id": "a021b0d7",
   "metadata": {},
   "outputs": [
    {
     "name": "stdout",
     "output_type": "stream",
     "text": [
      "[0 0 0 ... 0 0 0]\n"
     ]
    }
   ],
   "source": [
    "  # Import necessary modules \n",
    "from sklearn.neighbors import KNeighborsClassifier \n",
    "from sklearn.model_selection import train_test_split \n",
    "\n",
    "knn = KNeighborsClassifier(n_neighbors=7) \n",
    "\n",
    "knn.fit(X_train, np.ravel(y_train))\n",
    "  \n",
    "# Predict on dataset which model has not seen before \n",
    "print(knn.predict(X_test)) "
   ]
  },
  {
   "cell_type": "code",
   "execution_count": null,
   "id": "fb0579b2",
   "metadata": {},
   "outputs": [
    {
     "data": {
      "image/png": "[encoded data removed]",
      "text/plain": [
       "<Figure size 800x600 with 2 Axes>"
      ]
     },
     "metadata": {
      "image/png": {
       "height": 546,
       "width": 658
      }
     },
     "output_type": "display_data"
    }
   ],
   "source": [
    "from sklearn.metrics import confusion_matrix\n",
    "import matplotlib.pyplot as plt\n",
    "import seaborn as sns  # Optional - for a nicer visualization\n",
    "\n",
    "\n",
    "# Get predictions from the model\n",
    "predictions = knn.predict(X_test)\n",
    "\n",
    "# Create a confusion matrix\n",
    "conf_matrix = confusion_matrix(y_test, predictions)\n",
    "\n",
    "# Display the confusion matrix using matplotlib\n",
    "plt.figure(figsize=(8, 6))\n",
    "sns.heatmap(conf_matrix, annot=True, fmt='d', cmap='Blues')  # Using seaborn for a heatmap\n",
    "plt.xlabel('Predicted')\n",
    "plt.ylabel('Actual')\n",
    "plt.title('Confusion Matrix')\n",
    "plt.show()\n"
   ]
  },
  {
   "cell_type": "markdown",
   "id": "5d729099",
   "metadata": {},
   "source": [
    "## Descision tree "
   ]
  },
  {
   "cell_type": "code",
   "execution_count": null,
   "id": "2977cd76",
   "metadata": {},
   "outputs": [
    {
     "name": "stdout",
     "output_type": "stream",
     "text": [
      "Accuracy: 1.0\n"
     ]
    }
   ],
   "source": [
    "from sklearn.tree import DecisionTreeClassifier, export_graphviz\n",
    "from sklearn.metrics import accuracy_score, classification_report\n",
    "\n",
    "\n",
    "# Create and fit the Decision Tree classifier\n",
    "clf = DecisionTreeClassifier()\n",
    "clf.fit(X_train, y_train)\n",
    "# Make predictions\n",
    "predictions = clf.predict(X_test)\n",
    "\n",
    "# Evaluate the model\n",
    "accuracy = accuracy_score(y_test, predictions)\n",
    "print(\"Accuracy:\", accuracy)"
   ]
  },
  {
   "cell_type": "code",
   "execution_count": null,
   "id": "f3979d15",
   "metadata": {},
   "outputs": [
    {
     "name": "stdout",
     "output_type": "stream",
     "text": [
      "Classification Report:\n",
      "               precision    recall  f1-score   support\n",
      "\n",
      "           0       1.00      1.00      1.00      2499\n",
      "           1       1.00      1.00      1.00        20\n",
      "\n",
      "    accuracy                           1.00      2519\n",
      "   macro avg       1.00      1.00      1.00      2519\n",
      "weighted avg       1.00      1.00      1.00      2519\n",
      "\n"
     ]
    }
   ],
   "source": [
    "report = classification_report(y_test, predictions)\n",
    "print(\"Classification Report:\\n\", report)"
   ]
  },
  {
   "cell_type": "code",
   "execution_count": null,
   "id": "f678676c",
   "metadata": {},
   "outputs": [
    {
     "ename": "NameError",
     "evalue": "name 'Pipeline' is not defined",
     "output_type": "error",
     "traceback": [
      "\u001b[1;31m---------------------------------------------------------------------------\u001b[0m",
      "\u001b[1;31mNameError\u001b[0m                                 Traceback (most recent call last)",
      "File \u001b[1;32m<timed exec>:2\u001b[0m\n",
      "\u001b[1;31mNameError\u001b[0m: name 'Pipeline' is not defined"
     ]
    }
   ],
   "source": [
    "%%time\n",
    "# RandomForestClassifier\n",
    "rf = Pipeline([('rf', RandomForestClassifier(n_estimators = 10, max_depth = 20).fit(X_train, y_train))])\n",
    "rf_scores = cross_val_score(rf, X_train, y_train, cv=10, scoring=\"f1\")\n",
    "np.mean(rf_scores)"
   ]
  },
  {
   "cell_type": "code",
   "execution_count": null,
   "id": "a569f408",
   "metadata": {},
   "outputs": [
    {
     "data": {
      "text/plain": [
       "favorite\n",
       "0           2499\n",
       "1             20\n",
       "Name: count, dtype: int64"
      ]
     },
     "execution_count": 149,
     "metadata": {},
     "output_type": "execute_result"
    }
   ],
   "source": [
    "# Checking for imbalance\n",
    "y_test.value_counts()"
   ]
  },
  {
   "cell_type": "code",
   "execution_count": null,
   "id": "81a4a71d",
   "metadata": {},
   "outputs": [],
   "source": [
    "# Building a pipeline to use on regular data\n",
    "from sklearn.pipeline import make_pipeline\n",
    "from sklearn.preprocessing import StandardScaler\n",
    "\n",
    "pipe = make_pipeline(StandardScaler(), DecisionTreeClassifier(max_depth=30))\n",
    "pipe.fit(X_train, y_train)  # apply scaling on training data\n",
    "Pipeline(steps=[('standardscaler', StandardScaler()),\n",
    "                ('dt', DecisionTreeClassifier(max_depth=30))])\n",
    "\n",
    "pipe.score(X_test, y_test)"
   ]
  }
 ],
 "metadata": {
  "kernelspec": {
   "display_name": "Python 3 (ipykernel)",
   "language": "python",
   "name": "python3"
  },
  "language_info": {
   "codemirror_mode": {
    "name": "ipython",
    "version": 3
   },
   "file_extension": ".py",
   "mimetype": "text/x-python",
   "name": "python",
   "nbconvert_exporter": "python",
   "pygments_lexer": "ipython3",
   "version": "3.9.13"
  }
 },
 "nbformat": 4,
 "nbformat_minor": 5
}
